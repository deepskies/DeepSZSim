{
 "cells": [
  {
   "cell_type": "code",
   "execution_count": 76,
   "id": "de1e4833-2605-4f0d-b763-ff3eb07406c3",
   "metadata": {},
   "outputs": [],
   "source": [
    "import deepszsim\n",
    "\n",
    "import numpy as np\n",
    "import matplotlib.pyplot as plt\n",
    "from matplotlib import gridspec\n",
    "from matplotlib.colors import Normalize\n",
    "from matplotlib.cm import ScalarMappable\n",
    "import time\n",
    "import h5py\n",
    "\n",
    "from colossus.cosmology import cosmology\n",
    "from colossus.halo import mass_adv\n",
    "\n",
    "from astropy.constants import M_sun, G, sigma_T, m_e, c, h, k_B\n",
    "from astropy import units as u\n",
    "from decimal import Decimal"
   ]
  },
  {
   "cell_type": "code",
   "execution_count": 77,
   "id": "8f49101d-97e0-47de-8a55-f17f2a597002",
   "metadata": {},
   "outputs": [
    {
     "data": {
      "text/plain": [
       "dict_keys(['survey', 'survey_freq', 'beam_size_arcmin', 'noise_level', 'image_size_pixels', 'pixel_size_arcmin', 'image_size_arcmin', 'cosmo', 'sigma8', 'ns'])"
      ]
     },
     "execution_count": 77,
     "metadata": {},
     "output_type": "execute_result"
    }
   ],
   "source": [
    "d=deepszsim.load_vars() #Make a dictionary and cosmology from the .yaml\n",
    "d.keys()"
   ]
  },
  {
   "cell_type": "code",
   "execution_count": 78,
   "id": "e970e3d0-e0a4-4dad-b18e-ee4d1d9ab1d6",
   "metadata": {},
   "outputs": [],
   "source": [
    "nsources = 100 #Number of halos to generate\n",
    "zdist, mdist=deepszsim.dm_halo_dist.flatdist_halo(0.01,1.1,1e14,2e15,nsources) #Generate a flat z, M_200 distribution for sims"
   ]
  },
  {
   "cell_type": "code",
   "execution_count": 79,
   "id": "4b052410-4362-4f70-ba13-87b0c6dbcc54",
   "metadata": {},
   "outputs": [],
   "source": [
    "sourceid=int(time.time()) #Create an initial ctime for the halo ID list to save catalog\n",
    "idlist=[sourceid+x for x in range(len(zdist))] #Create the halo ID list for catalog\n",
    "\n",
    "#Save this array to a h5 file\n",
    "data = h5py.File('massdist.h5', 'w')\n",
    "data.create_dataset('Redshift', data=zdist)\n",
    "data.create_dataset('Mass', data=mdist)\n",
    "data.create_dataset('id', data=idlist)\n",
    "data.close()"
   ]
  },
  {
   "cell_type": "code",
   "execution_count": 80,
   "id": "f4283cb7-6e3b-4cf2-999b-453f2ab0d448",
   "metadata": {},
   "outputs": [],
   "source": [
    "data = h5py.File('massdist.h5', 'r')\n",
    "zdist = data['Redshift'][:]\n",
    "mdist = data['Mass'][:]\n",
    "idlist = data['id'][:]\n",
    "data.close()"
   ]
  },
  {
   "cell_type": "code",
   "execution_count": 81,
   "id": "c3f36ff3-2daf-414a-909b-7fba2ca72590",
   "metadata": {},
   "outputs": [],
   "source": [
    "r=np.linspace(0.01, 10, 1000) #arcmin\n",
    "r=deepszsim.utils.arcmin_to_Mpc(r,d[\"pixel_size_arcmin\"],d[\"cosmo\"])\n",
    "#make line for r in Mpc"
   ]
  },
  {
   "cell_type": "code",
   "execution_count": 82,
   "id": "598b39c5-505c-475a-a48e-398ee1073f65",
   "metadata": {},
   "outputs": [],
   "source": [
    "id1 = \"ACT–CL J0206.2−0114\"\n",
    "z1=0.676 #example redshift\n",
    "M5001=5.7e14 #example M_200 in solar masses\n",
    "\n",
    "id = \"ACT–CL J0104.8+0002\"\n",
    "z =0.277\n",
    "M500 = 3.5e14\n",
    "\n",
    "id2 = \"ACT-CL J0239.8−0134\"\n",
    "z2 = 0.375\n",
    "M5002 = 9.1e14"
   ]
  },
  {
   "cell_type": "code",
   "execution_count": 83,
   "id": "c9a53158-c534-471c-8979-1338e69e1d53",
   "metadata": {},
   "outputs": [],
   "source": [
    "params = {'flat': True, 'H0': d['cosmo'].H0.value, 'Om0': d['cosmo'].Om0,\n",
    "              'Ob0': d['cosmo'].Ob0, 'sigma8': d['sigma8'], 'ns': d['ns']}\n",
    "cosmology.addCosmology('myCosmo', **params)\n",
    "cosmo_colossus = cosmology.setCosmology('myCosmo')\n",
    "    \n",
    "M200, R200, c200 = mass_adv.changeMassDefinitionCModel(M500 *d['cosmo'].h, z, '500c', '200c', c_model = 'ishiyama21')\n",
    "M2001, R2001, c2001 = mass_adv.changeMassDefinitionCModel(M5001 *d['cosmo'].h, z1, '500c', '200c', c_model = 'ishiyama21')\n",
    "M2002, R2002, c2002 = mass_adv.changeMassDefinitionCModel(M5002 *d['cosmo'].h, z2, '500c', '200c', c_model = 'ishiyama21')\n",
    "M200 /= d['cosmo'].h  # From M_solar/h to M_solar\n",
    "R200 = R200 / d['cosmo'].h / 1000  # From kpc/h to Mpc\n",
    "M2001 /= d['cosmo'].h  # From M_solar/h to M_solar\n",
    "R2001 = R2001 / d['cosmo'].h / 1000  # From kpc/h to Mpc\n",
    "M2002 /= d['cosmo'].h  # From M_solar/h to M_solar\n",
    "R2002 = R2002 / d['cosmo'].h / 1000  # From kpc/h to Mpc\n",
    "#(M200,R200,_,c200)=deepszsim.make_sz_cluster.get_r200_angsize_and_c200(M200, z, load_vars_dict=d)\n",
    "#(M2001,R2001,_,c2001)=deepszsim.make_sz_cluster.get_r200_angsize_and_c200(M2001, z1, load_vars_dict=d)\n",
    "#(M2002,R2002,_,c2002)=deepszsim.make_sz_cluster.get_r200_angsize_and_c200(M2002, z2, load_vars_dict=d)"
   ]
  },
  {
   "cell_type": "code",
   "execution_count": 84,
   "id": "f32480af-952b-429b-b556-b466e5106483",
   "metadata": {},
   "outputs": [],
   "source": [
    "P200 = deepszsim.make_sz_cluster.P200_Battaglia2012(M200, z, R200_Mpc=R200, load_vars_dict=d) #P200 from Battaglia et al. 2012"
   ]
  },
  {
   "cell_type": "code",
   "execution_count": 85,
   "id": "bee5f9a4-33df-4157-9942-3a26ec103655",
   "metadata": {},
   "outputs": [],
   "source": [
    "P2001 = deepszsim.make_sz_cluster.P200_Battaglia2012(M2001, z1, R200_Mpc=R2001, load_vars_dict=d) #P200 from Battaglia et al. 2012"
   ]
  },
  {
   "cell_type": "code",
   "execution_count": 86,
   "id": "36877b6c-10cd-42ab-8258-550bc45ccd65",
   "metadata": {},
   "outputs": [],
   "source": [
    "P2002 = deepszsim.make_sz_cluster.P200_Battaglia2012(M2002, z2, R200_Mpc=R2002, load_vars_dict=d) #P200 from Battaglia et al. 2012"
   ]
  },
  {
   "cell_type": "code",
   "execution_count": 87,
   "id": "db1a740a-4b84-452f-989e-f2000f9cdc30",
   "metadata": {},
   "outputs": [],
   "source": [
    "P0 = deepszsim.make_sz_cluster._P0_Battaglia2012(M200,z) #Parameter computation from Table 1 Battaglia et al. 2012\n",
    "xc = deepszsim.make_sz_cluster._xc_Battaglia2012(M200,z)\n",
    "beta = deepszsim.make_sz_cluster._beta_Battaglia2012(M200,z)"
   ]
  },
  {
   "cell_type": "code",
   "execution_count": 88,
   "id": "137519c5-93e5-483d-91a0-76317fa602a4",
   "metadata": {},
   "outputs": [],
   "source": [
    "P01 = deepszsim.make_sz_cluster._P0_Battaglia2012(M2001,z1) #Parameter computation from Table 1 Battaglia et al. 2012\n",
    "xc1 = deepszsim.make_sz_cluster._xc_Battaglia2012(M2001,z1)\n",
    "beta1 = deepszsim.make_sz_cluster._beta_Battaglia2012(M2001,z1)"
   ]
  },
  {
   "cell_type": "code",
   "execution_count": 89,
   "id": "429e1c9e-5aa2-4420-8bfb-f1416e9cb590",
   "metadata": {},
   "outputs": [],
   "source": [
    "P02 = deepszsim.make_sz_cluster._P0_Battaglia2012(M2002,z2) #Parameter computation from Table 1 Battaglia et al. 2012\n",
    "xc2 = deepszsim.make_sz_cluster._xc_Battaglia2012(M2002,z2)\n",
    "beta2 = deepszsim.make_sz_cluster._beta_Battaglia2012(M200,z2)"
   ]
  },
  {
   "cell_type": "code",
   "execution_count": 90,
   "id": "b4a43a59-592a-41ae-859f-d4808b83d16c",
   "metadata": {},
   "outputs": [],
   "source": [
    "Pth = deepszsim.make_sz_cluster.Pth_Battaglia2012(r, M200, z, d, R200_Mpc=R200) #Output Battaglia 2012 pressure profile"
   ]
  },
  {
   "cell_type": "code",
   "execution_count": 91,
   "id": "9ca0fc74-64ab-4c1f-8e72-bc8553d72e04",
   "metadata": {},
   "outputs": [],
   "source": [
    "Pth1 = deepszsim.make_sz_cluster.Pth_Battaglia2012(r, M2001, z1, d, R200_Mpc=R2001) #Output Battaglia 2012 pressure profile"
   ]
  },
  {
   "cell_type": "code",
   "execution_count": 92,
   "id": "a19888c7-f0f1-4b5b-82db-20760e4d96ac",
   "metadata": {},
   "outputs": [],
   "source": [
    "Pth2 = deepszsim.make_sz_cluster.Pth_Battaglia2012(r, M2002, z2, d, R200_Mpc=R2002) #Output Battaglia 2012 pressure profile"
   ]
  },
  {
   "cell_type": "code",
   "execution_count": 93,
   "id": "6a9e97be-2715-4461-a3a1-d589e0b16802",
   "metadata": {},
   "outputs": [],
   "source": [
    "Pth_rescaled=(Pth)*(r/R200)**3."
   ]
  },
  {
   "cell_type": "code",
   "execution_count": 94,
   "id": "e5baf9bd-a6ca-40d3-9e3a-867bf7e00ba1",
   "metadata": {},
   "outputs": [],
   "source": [
    "Pth_rescaled1=(Pth1)*(r/R2001)**3."
   ]
  },
  {
   "cell_type": "code",
   "execution_count": 95,
   "id": "ee4eb3bd-a5cf-45a0-b2ea-2ed1e90d2e2e",
   "metadata": {},
   "outputs": [],
   "source": [
    "Pth_rescaled2=(Pth2)*(r/R2002)**3."
   ]
  },
  {
   "cell_type": "code",
   "execution_count": 96,
   "id": "0d71bc21-bdbd-4604-9f6e-f6e955962782",
   "metadata": {},
   "outputs": [
    {
     "name": "stdout",
     "output_type": "stream",
     "text": [
      "only implementing `Battaglia2012` for profile\n"
     ]
    }
   ],
   "source": [
    "y = deepszsim.make_sz_cluster.Pe_to_y(deepszsim.make_sz_cluster.Pth_Battaglia2012, r, \n",
    "                                  M200, z, d, R200_Mpc=R200)"
   ]
  },
  {
   "cell_type": "code",
   "execution_count": 97,
   "id": "1f74ad6e-ceed-4bb4-a2d2-ea829e49fcf7",
   "metadata": {},
   "outputs": [
    {
     "name": "stdout",
     "output_type": "stream",
     "text": [
      "only implementing `Battaglia2012` for profile\n"
     ]
    }
   ],
   "source": [
    "y1 = deepszsim.make_sz_cluster.Pe_to_y(deepszsim.make_sz_cluster.Pth_Battaglia2012, r, \n",
    "                                  M2001, z1, d, R200_Mpc=R2001)"
   ]
  },
  {
   "cell_type": "code",
   "execution_count": 98,
   "id": "6df8344f-b551-4043-9d2c-efae607aa37a",
   "metadata": {},
   "outputs": [
    {
     "name": "stdout",
     "output_type": "stream",
     "text": [
      "only implementing `Battaglia2012` for profile\n"
     ]
    }
   ],
   "source": [
    "y2 = deepszsim.make_sz_cluster.Pe_to_y(deepszsim.make_sz_cluster.Pth_Battaglia2012, r, \n",
    "                                  M2002, z2, d, R200_Mpc=R2002)"
   ]
  },
  {
   "cell_type": "code",
   "execution_count": 99,
   "id": "e11cf72b-4a1c-4568-831b-56d522ef2b7b",
   "metadata": {},
   "outputs": [],
   "source": [
    "fSZ=deepszsim.simtools.f_sz(150,d[\"cosmo\"].Tcmb0) #get f_SZ for observation frequency of 30 GHz\n",
    "dT=d[\"cosmo\"].Tcmb0*y[0]*fSZ #get dT from y0 using f_SZ\n",
    "dT=dT.to(u.uK) #Convert to uK\n",
    "y_map = deepszsim.make_sz_cluster.generate_y_submap(M200, z, load_vars_dict=d, R200_Mpc=R200)"
   ]
  },
  {
   "cell_type": "code",
   "execution_count": 100,
   "id": "dbc67dae-30ed-4b82-b05c-299666650cc5",
   "metadata": {},
   "outputs": [],
   "source": [
    "fSZ1=deepszsim.simtools.f_sz(150,d[\"cosmo\"].Tcmb0) #get f_SZ for observation frequency of 30 GHz\n",
    "dT1=d[\"cosmo\"].Tcmb0*y1[0]*fSZ1 #get dT from y0 using f_SZ\n",
    "dT1=dT1.to(u.uK) #Convert to uK\n",
    "y_map1 = deepszsim.make_sz_cluster.generate_y_submap(M2001, z1, load_vars_dict=d, R200_Mpc=R2001)"
   ]
  },
  {
   "cell_type": "code",
   "execution_count": 101,
   "id": "61063a44-191a-4f56-bff1-24bb7ce20820",
   "metadata": {},
   "outputs": [],
   "source": [
    "fSZ2=deepszsim.simtools.f_sz(150,d[\"cosmo\"].Tcmb0) #get f_SZ for observation frequency of 30 GHz\n",
    "dT2=d[\"cosmo\"].Tcmb0*y2[0]*fSZ2 #get dT from y0 using f_SZ\n",
    "dT2=dT2.to(u.uK) #Convert to uK\n",
    "y_map2= deepszsim.make_sz_cluster.generate_y_submap(M2002, z2, load_vars_dict=d, R200_Mpc=R2002)"
   ]
  },
  {
   "cell_type": "code",
   "execution_count": 102,
   "id": "255dd8a7-b09c-46f0-b9a5-378ab1698ea8",
   "metadata": {},
   "outputs": [],
   "source": [
    "dT_map = (y_map * d[\"cosmo\"].Tcmb0 * fSZ).to(u.uK).value\n",
    "ps = deepszsim.simtools.get_cls(ns=d[\"ns\"], cosmo=d[\"cosmo\"])\n",
    "conv_map, _ = deepszsim.simtools.add_cmb_map_and_convolve(dT_map, ps, d[\"pixel_size_arcmin\"], d[\"beam_size_arcmin\"])\n",
    "noise_map=deepszsim.noise.generate_noise_map(d[\"image_size_pixels\"], d[\"noise_level\"], d[\"pixel_size_arcmin\"])\n",
    "total_map=conv_map + noise_map\n",
    "width = 10"
   ]
  },
  {
   "cell_type": "code",
   "execution_count": 103,
   "id": "29a6813f-22d7-4bf3-8759-d64af421aec2",
   "metadata": {},
   "outputs": [],
   "source": [
    "dT_map1 = (y_map1 * d[\"cosmo\"].Tcmb0 * fSZ1).to(u.uK).value\n",
    "ps1 = deepszsim.simtools.get_cls(ns=d[\"ns\"], cosmo=d[\"cosmo\"])\n",
    "conv_map1, _ = deepszsim.simtools.add_cmb_map_and_convolve(dT_map1, ps1, d[\"pixel_size_arcmin\"], d[\"beam_size_arcmin\"])\n",
    "noise_map1=deepszsim.noise.generate_noise_map(d[\"image_size_pixels\"], d[\"noise_level\"], d[\"pixel_size_arcmin\"])\n",
    "total_map1=conv_map1 + noise_map1\n",
    "width = 10"
   ]
  },
  {
   "cell_type": "code",
   "execution_count": 104,
   "id": "94189d12-139b-44e8-9e8a-6256c114d0cd",
   "metadata": {},
   "outputs": [],
   "source": [
    "dT_map2 = (y_map2 * d[\"cosmo\"].Tcmb0 * fSZ2).to(u.uK).value\n",
    "ps2 = deepszsim.simtools.get_cls(ns=d[\"ns\"], cosmo=d[\"cosmo\"])\n",
    "conv_map2, _ = deepszsim.simtools.add_cmb_map_and_convolve(dT_map2, ps2, d[\"pixel_size_arcmin\"], d[\"beam_size_arcmin\"])\n",
    "noise_map2=deepszsim.noise.generate_noise_map(d[\"image_size_pixels\"], d[\"noise_level\"], d[\"pixel_size_arcmin\"])\n",
    "total_map2=conv_map2 + noise_map2\n",
    "width = 10"
   ]
  },
  {
   "cell_type": "code",
   "execution_count": null,
   "id": "c7a26654-8465-4bad-a565-974fd9f8aeaf",
   "metadata": {},
   "outputs": [],
   "source": []
  },
  {
   "cell_type": "code",
   "execution_count": 105,
   "id": "90709e7b-380b-44a9-83de-c473dab6041d",
   "metadata": {},
   "outputs": [
    {
     "data": {
      "image/png": "[encoded data removed]",
      "text/plain": [
       "<Figure size 800x600 with 10 Axes>"
      ]
     },
     "metadata": {},
     "output_type": "display_data"
    }
   ],
   "source": [
    "fig = plt.figure(figsize=(8, 6)) \n",
    "\n",
    "gs = gridspec.GridSpec(3, 4, width_ratios=[1, 1, 1, 0.05], height_ratios = [1,1,1])\n",
    "\n",
    "#norm_dT = Normalize(vmin=min(dT_map.min(), dT_map1.min(), dT_map2.min()), vmax=max(dT_map.max(), dT_map1.max(), dT_map2.max()))\n",
    "#norm_conv_total = Normalize(vmin=min(conv_map.min(), total_map.min(), conv_map1.min(), total_map1.min(), conv_map2.min(), total_map2.min()),\n",
    "                            #vmax=max(conv_map.max(), total_map.max(), conv_map1.max(), total_map1.max(), conv_map2.max(), total_map2.max()))\n",
    "\n",
    "vmin = min(dT_map.min(), conv_map.min(), total_map.min(),dT_map1.min(), conv_map1.min(), total_map1.min(), dT_map2.min(), conv_map2.min(), total_map2.min())\n",
    "vmax = max(dT_map.max(), conv_map.max(), total_map.max(),dT_map1.max(), conv_map1.max(), total_map1.max(), dT_map2.max(), conv_map2.max(), total_map2.max())\n",
    "\n",
    "class PiecewiseNormalize(Normalize):\n",
    "    def __init__(self, vmin=None, vmax=None, clip=False):\n",
    "        super().__init__(vmin, vmax, clip)\n",
    "\n",
    "    def __call__(self, value, clip=None):\n",
    "        # Define the points where the color changes dramatically\n",
    "        x = [self.vmin, -50, 0, self.vmax]\n",
    "        y = [0, 0.3, 0.9, 1]  # Adjust these values to control how the range is emphasized\n",
    "        return np.ma.masked_array(np.interp(value, x, y))\n",
    "\n",
    "# Example points to emphasize -50 to 10 dramatically\n",
    "norm = PiecewiseNormalize(vmin=vmin, vmax=vmax)\n",
    "\n",
    "ax2 = plt.subplot(gs[0])\n",
    "im2 = ax2.imshow(dT_map, vmin=vmin, vmax=vmax)\n",
    "#cbar2 = plt.colorbar(im2, ax=ax2, fraction=0.046, pad=0.04)\n",
    "im2.set_extent([-width, width, -width, width])\n",
    "ax2.set_xticks([])\n",
    "#ax2.set_yticks([])\n",
    "ax2.set_title('Temperature map')\n",
    "#ax2.set_ylabel('arcmin')\n",
    "#ax2.set_xlabel('arcmin')\n",
    "\n",
    "ax3 = plt.subplot(gs[1])\n",
    "im3 = ax3.imshow(conv_map, vmin=vmin, vmax=vmax)\n",
    "#cbar3 = plt.colorbar(im3, ax=ax3, fraction=0.046, pad=0.04)\n",
    "im3.set_extent([-width, width, -width, width])\n",
    "ax3.set_xticks([])\n",
    "ax3.set_yticks([])\n",
    "ax3.set_title('Beam convolved \\n temperature map \\n with CMB')\n",
    "#ax3.set_ylabel('arcmin')\n",
    "#ax3.set_xlabel('arcmin')\n",
    "\n",
    "ax4 = plt.subplot(gs[2])\n",
    "im4 = ax4.imshow(total_map, vmin=vmin, vmax=vmax)\n",
    "#cbar4 = plt.colorbar(im4, ax=ax4, fraction=0.046, pad=0.04)\n",
    "im4.set_extent([-width, width, -width, width])\n",
    "ax4.set_xticks([])\n",
    "ax4.set_yticks([])\n",
    "ax4.set_title('Beam convolved \\n temperature map \\n with CMB + noise')\n",
    "#ax4.set_ylabel('arcmin')\n",
    "#ax4.set_xlabel('arcmin')\n",
    "\n",
    "ax2 = plt.subplot(gs[4])\n",
    "im2 = ax2.imshow(dT_map1, vmin=vmin, vmax=vmax)\n",
    "#cbar2 = plt.colorbar(im2, ax=ax2, fraction=0.046, pad=0.04)\n",
    "im2.set_extent([-width, width, -width, width])\n",
    "ax2.set_xticks([])\n",
    "#ax2.set_yticks([])\n",
    "#ax2.set_title('dT map')\n",
    "#ax2.set_ylabel('arcmin')\n",
    "#ax2.set_xlabel('arcmin')\n",
    "\n",
    "ax2 = plt.subplot(gs[5])\n",
    "im2 = ax2.imshow(conv_map1, vmin=vmin, vmax=vmax)\n",
    "#cbar2 = plt.colorbar(im2, ax=ax2, fraction=0.046, pad=0.04)\n",
    "im2.set_extent([-width, width, -width, width])\n",
    "ax2.set_xticks([])\n",
    "ax2.set_yticks([])\n",
    "#ax2.set_title('Beam convolved temperature \\n map with CMB')\n",
    "#ax2.set_ylabel('arcmin')\n",
    "#ax2.set_xlabel('arcmin')\n",
    "\n",
    "ax4 = plt.subplot(gs[6])\n",
    "im4 = ax4.imshow(total_map1, vmin=vmin, vmax=vmax)\n",
    "#cbar4 = plt.colorbar(im4, ax=ax4, fraction=0.046, pad=0.04)\n",
    "im4.set_extent([-width, width, -width, width])\n",
    "ax4.set_xticks([])\n",
    "ax4.set_yticks([])\n",
    "#ax4.set_title('Beam convolved temperature \\n map with CMB + noise')\n",
    "#ax4.set_ylabel('arcmin')\n",
    "#ax4.set_xlabel('arcmin')\n",
    "\n",
    "ax2 = plt.subplot(gs[8])\n",
    "im2 = ax2.imshow(dT_map2, vmin=vmin, vmax=vmax)\n",
    "#cbar2 = plt.colorbar(im2, ax=ax2, fraction=0.046, pad=0.04)\n",
    "im2.set_extent([-width, width, -width, width])\n",
    "#ax2.set_xticks([])\n",
    "#ax2.set_yticks([])\n",
    "#ax2.set_title('dT map')\n",
    "#ax2.set_ylabel('arcmin')\n",
    "#ax2.set_xlabel('arcmin')\n",
    "\n",
    "ax2 = plt.subplot(gs[9])\n",
    "im2 = ax2.imshow(conv_map2, vmin=vmin, vmax=vmax)\n",
    "#cbar2 = plt.colorbar(im2, ax=ax2, fraction=0.046, pad=0.04)\n",
    "im2.set_extent([-width, width, -width, width])\n",
    "#ax2.set_xticks([])\n",
    "ax2.set_yticks([])\n",
    "#ax2.set_title('Beam convolved temperature \\n map with CMB')\n",
    "#ax2.set_ylabel('arcmin')\n",
    "#ax2.set_xlabel('arcmin')\n",
    "\n",
    "ax4 = plt.subplot(gs[10])\n",
    "im4 = ax4.imshow(total_map2, vmin=vmin, vmax=vmax)\n",
    "#cbar4 = plt.colorbar(im4, ax=ax4, fraction=0.046, pad=0.04)\n",
    "im4.set_extent([-width, width, -width, width])\n",
    "#ax4.set_xticks([])\n",
    "ax4.set_yticks([])\n",
    "#ax4.set_title('Beam convolved temperature \\n map with CMB + noise')\n",
    "#ax4.set_ylabel('arcmin')\n",
    "#ax4.set_xlabel('arcmin')\n",
    "\n",
    "\n",
    "fig.text(0.35, 0.5, 'arcmin', va='center', rotation='vertical', fontsize=12)\n",
    "fig.text(0.715, 0.01, 'arcmin', va='center', rotation='horizontal', fontsize=12)\n",
    "\n",
    "fig.text(0.05, 0.8, '$M_{200}$='+'{:.2E}'.format(Decimal(M200))+', z='+str(z), ha='left', va='center', fontsize=12)\n",
    "fig.text(0.05, 0.5, '$M_{200}$='+'{:.2E}'.format(Decimal(M2001))+', z='+str(z1), ha='left', va='center', fontsize=12)\n",
    "fig.text(0.05, 0.2, '$M_{200}$='+'{:.2E}'.format(Decimal(M2002))+', z='+str(z2), ha='left', va='center', fontsize=12)\n",
    "\n",
    "cbar_ax = plt.subplot(gs[:, 3])\n",
    "cbar = plt.colorbar(im2, cax=cbar_ax)\n",
    "cbar.set_label('$\\mu$K', rotation=270, labelpad=15)\n",
    "\n",
    "#plt.suptitle('$M_{200}$='+'{:.2E}'.format(Decimal(M200))+', z='+str(z), y=1)\n",
    "\n",
    "#plt.tight_layout(pad = 0.5)\n",
    "plt.subplots_adjust(left=0.4, right=1.1, top=0.9, bottom=0.1, wspace=0.01, hspace=0.1)\n",
    "\n",
    "plt.savefig(\"/Users/elaineran/Desktop/DeepSZSimfig\", bbox_inches='tight', pad_inches=0.1)\n",
    "plt.show()"
   ]
  },
  {
   "cell_type": "code",
   "execution_count": 106,
   "id": "b8eacd68-61c9-418e-b71f-bf5379c8da29",
   "metadata": {},
   "outputs": [
    {
     "data": {
      "text/plain": [
       "1.5213303905297706"
      ]
     },
     "execution_count": 106,
     "metadata": {},
     "output_type": "execute_result"
    }
   ],
   "source": [
    "R200"
   ]
  },
  {
   "cell_type": "code",
   "execution_count": null,
   "id": "4f918a07-56c3-42cc-a471-0e33b1f0398c",
   "metadata": {},
   "outputs": [],
   "source": []
  },
  {
   "cell_type": "code",
   "execution_count": null,
   "id": "89836f93-1bca-404d-970b-c2968bc279e3",
   "metadata": {},
   "outputs": [],
   "source": []
  },
  {
   "cell_type": "code",
   "execution_count": 107,
   "id": "8c442990-f4ee-45b4-ba53-b49b8ccd747e",
   "metadata": {},
   "outputs": [
    {
     "data": {
      "text/plain": [
       "(509760718557924.06, 1.5213303723382519, 5.958978321500461, 3.6565907367592523)"
      ]
     },
     "execution_count": 107,
     "metadata": {},
     "output_type": "execute_result"
    }
   ],
   "source": [
    "deepszsim.make_sz_cluster.get_r200_angsize_and_c200(M200, z, d)"
   ]
  },
  {
   "cell_type": "code",
   "execution_count": 108,
   "id": "55592097-c6a9-4653-8858-1dace32fa475",
   "metadata": {},
   "outputs": [],
   "source": [
    "#B12 mass from the https://arxiv.org/pdf/1301.0816"
   ]
  },
  {
   "cell_type": "code",
   "execution_count": 109,
   "id": "92ab1562-2fcc-497a-bb21-30e24900e0a1",
   "metadata": {},
   "outputs": [],
   "source": [
    "#go from M500 to M200!"
   ]
  },
  {
   "cell_type": "code",
   "execution_count": null,
   "id": "f933a930-0ee3-4b4a-89ed-413cd2951d30",
   "metadata": {},
   "outputs": [],
   "source": []
  }
 ],
 "metadata": {
  "kernelspec": {
   "display_name": "Any Display Name",
   "language": "python",
   "name": "your_env_name"
  },
  "language_info": {
   "codemirror_mode": {
    "name": "ipython",
    "version": 3
   },
   "file_extension": ".py",
   "mimetype": "text/x-python",
   "name": "python",
   "nbconvert_exporter": "python",
   "pygments_lexer": "ipython3",
   "version": "3.11.0"
  }
 },
 "nbformat": 4,
 "nbformat_minor": 5
}
