{
  "nbformat": 4,
  "nbformat_minor": 0,
  "metadata": {
    "colab": {
      "name": "mass_sampling_functions_fin.ipynb",
      "provenance": [],
      "collapsed_sections": [],
      "authorship_tag": "ABX9TyOFOYTB5nVbExXcrwOOyPu2",
      "include_colab_link": true
    },
    "kernelspec": {
      "name": "python3",
      "display_name": "Python 3"
    },
    "language_info": {
      "name": "python"
    }
  },
  "cells": [
    {
      "cell_type": "markdown",
      "metadata": {
        "id": "view-in-github",
        "colab_type": "text"
      },
      "source": [
        "<a href=\"https://colab.research.google.com/github/deepskies/proj-clusters-sz-sbi/blob/sim_dev/mass_sampling_functions_fin.ipynb\" target=\"_parent\"><img src=\"https://colab.research.google.com/assets/colab-badge.svg\" alt=\"Open In Colab\"/></a>"
      ]
    },
    {
      "cell_type": "markdown",
      "source": [
        "This is the code to create sample of mass of galaxy clusters based on the halo mass function and redshift distribution. \n",
        "\n",
        "original document of single-redshift sampling: https://colab.research.google.com/drive/1pK9xwy4FDU39mkhVPtj0yXC1lBJZll6U\n",
        "original document of multi-redshift sampling: https://colab.research.google.com/drive/1k9C9HvyX9CwArDmRoK4Ypz_FdeTC7rnt\n",
        "\n",
        "Packages:\n",
        "1. colossus, https://bdiemer.bitbucket.io/colossus/lss_mass_function.html#lss.mass_function.massFunction\n",
        "2. scipy interpolation: https://docs.scipy.org/doc/scipy/reference/generated/scipy.interpolate.interp1d.html\n",
        "3. scipy integration: https://docs.scipy.org/doc/scipy/tutorial/integrate.html\n",
        "4. emcee for MCMC: https://emcee.readthedocs.io/en/stable/user/sampler/\n",
        "5. redshift distribution (used skewed gaussian to imitate): https://docs.scipy.org/doc/scipy/reference/generated/scipy.stats.skewnorm.html#scipy.stats.skewnorm\n",
        "\n",
        "Hanzhi Tan\n"
      ],
      "metadata": {
        "id": "Dv76d2aM6JM-"
      }
    },
    {
      "cell_type": "code",
      "execution_count": 2,
      "metadata": {
        "colab": {
          "base_uri": "https://localhost:8080/"
        },
        "id": "LElriM09AsfV",
        "outputId": "e21de725-9d82-4d81-9e98-93af9f7e2576"
      },
      "outputs": [
        {
          "output_type": "stream",
          "name": "stdout",
          "text": [
            "Looking in indexes: https://pypi.org/simple, https://us-python.pkg.dev/colab-wheels/public/simple/\n",
            "Collecting colossus\n",
            "  Downloading colossus-1.3.0-py2.py3-none-any.whl (197 kB)\n",
            "\u001b[K     |████████████████████████████████| 197 kB 16.1 MB/s \n",
            "\u001b[?25hInstalling collected packages: colossus\n",
            "Successfully installed colossus-1.3.0\n",
            "Looking in indexes: https://pypi.org/simple, https://us-python.pkg.dev/colab-wheels/public/simple/\n",
            "Collecting emcee\n",
            "  Downloading emcee-3.1.2-py2.py3-none-any.whl (46 kB)\n",
            "\u001b[K     |████████████████████████████████| 46 kB 4.1 MB/s \n",
            "\u001b[?25hRequirement already satisfied: numpy in /usr/local/lib/python3.7/dist-packages (from emcee) (1.21.6)\n",
            "Installing collected packages: emcee\n",
            "Successfully installed emcee-3.1.2\n"
          ]
        }
      ],
      "source": [
        "# all packages\n",
        "! pip install colossus\n",
        "\n",
        "from colossus.cosmology import cosmology\n",
        "from colossus.lss import mass_function\n",
        "import matplotlib.pyplot as plt\n",
        "%matplotlib inline\n",
        "import numpy as np\n",
        "from sklearn import preprocessing\n",
        "from scipy import interpolate\n",
        "from scipy import integrate\n",
        "\n",
        "import math\n",
        "!pip install emcee\n",
        "import emcee\n",
        "import random\n",
        "\n",
        "import time\n",
        "\n",
        "import os\n",
        "from scipy.stats import skewnorm\n",
        "from pathlib import Path\n",
        "import pandas as pd\n",
        "import matplotlib.cm as cm"
      ]
    },
    {
      "cell_type": "markdown",
      "source": [
        "# **Single Redshift**"
      ],
      "metadata": {
        "id": "mJxkCQMpROUM"
      }
    },
    {
      "cell_type": "code",
      "source": [
        "#extract power function\n",
        "def extract_power(mass_arr):\n",
        "  \"\"\"\n",
        "  Function to extract the power of galaxy cluster mass array, switch from 10^n to n\n",
        "  \n",
        "  parameters:\n",
        "  -----------\n",
        "  mass_arr: 1d NumPy array of cluster mass in 10^n M⊙ unit\n",
        "  \n",
        "  mass_arr_p: 1d numpy array of mass of power = n\n",
        "  \"\"\"\n",
        "  mass_arr_p = np.log10(mass_arr)\n",
        "  return mass_arr_p"
      ],
      "metadata": {
        "id": "IDOrWj4lBBuH"
      },
      "execution_count": 6,
      "outputs": []
    },
    {
      "cell_type": "code",
      "source": [
        "def reverse_extract_power(prim_mass_sample):\n",
        "    \"\"\"\n",
        "    switch from n to 10^n\n",
        "\n",
        "    Parameters:\n",
        "    ----------- \n",
        "    prim_mass_sample: a priliminary numpy array\n",
        "\n",
        "    mass_sample: a numpy array of cluter mass after unit transformation\n",
        "    \"\"\"\n",
        "    mass_sample = np.power(10, prim_mass_sample)\n",
        "    return mass_sample\n"
      ],
      "metadata": {
        "id": "ySFY15Vqw8RD"
      },
      "execution_count": 7,
      "outputs": []
    },
    {
      "cell_type": "code",
      "source": [
        "#the likelihood function\n",
        "def lnpo(mass, min, max, test_fun):\n",
        "  \"\"\"\n",
        "  likelihood function used by MCMC\n",
        "\n",
        "  parameters:\n",
        "  -----------\n",
        "  mass: a float or a 1d numpy array of cluster mass in 10^n M⊙ unit\n",
        "  \"\"\"\n",
        "  if (mass < min) or (mass > max):\n",
        "    return -np.inf\n",
        "  return math.log(test_fun(mass)) #log likelihood is required by emcee"
      ],
      "metadata": {
        "id": "FFAh3VMJBXyJ"
      },
      "execution_count": 8,
      "outputs": []
    },
    {
      "cell_type": "code",
      "source": [
        "def interpolate_MCMC(mass_array_p, mfunc_n, mass_range, sample_num, redshift):\n",
        "    \"\"\"\n",
        "    interpolate and normalize mfunc_n, use the result as a likelihood function and perform MCMC method to get the sample.\n",
        "    \n",
        "    parameters:\n",
        "    -----------\n",
        "    mass_arr_p: 1d NumPy array of cluster mass power (for example, 10^14 M⊙ represented as 14 in arr)\n",
        "    mfunc_n: 1d NumPy array of halo number density * 10^5\n",
        "    mass_range: a tuple of cluster masses, lower limit, and upper limit for sampling\n",
        "    sample_num: an integer of the number of samples\n",
        "    \n",
        "    sample_chain.flatten(): an 1d numpy array of mass sampling, same unit as mass_arr_p\n",
        "    \"\"\"\n",
        "\n",
        "    min, max = mass_range\n",
        "    #interpolate\n",
        "    from scipy import interpolate\n",
        "    interpolate_mfunc = interpolate.interp1d(mass_array_p, mfunc_n)\n",
        "    test_arr = np.linspace(min, max, 5000)\n",
        "    f_test = interpolate_mfunc(test_arr)\n",
        "    #normalize to likelihood function by divided by integration, looking for better method\n",
        "    from scipy import integrate\n",
        "    val, err = integrate.quad(interpolate_mfunc, min, max)\n",
        "    test_fun = interpolate.interp1d(test_arr, (f_test/val))\n",
        "    #plt.plot(test_arr, f_test/val, marker = 'o')\n",
        "    #nval, nerr = integrate.quad(test_fun, min, max), 5000 test points will lead to error < 10^-4\n",
        "\n",
        "    #create random walkers\n",
        "    import emcee\n",
        "    import random\n",
        "    randomlist = []\n",
        "    for i in range(20):\n",
        "        n = random.uniform(min, max)\n",
        "        randomlist.append(n)\n",
        "    random_arr = np.array(randomlist)\n",
        "\n",
        "    ndim, nwalkers = 1, 20\n",
        "    ###this means that the sample must be larger than 20, otherwise it'll return error###\n",
        "\n",
        "    #backend setup (discarded)\n",
        "    # name = \"rs_\" + str(redshift) + \"_sn_\" + str(sample_num)\n",
        "    # file_name = \"mcmc_save.h5\"\n",
        "    # backend = emcee.backends.HDFBackend(filename, name = name)\n",
        "    # backend.reset(nwalkers, ndim)\n",
        "\n",
        "    #run MCMC\n",
        "    import time\n",
        "    process_sample_num = sample_num // (ndim * nwalkers)\n",
        "    p0 = random_arr.reshape((nwalkers, ndim))\n",
        "    the_random = random.uniform(1.0, 100.0)\n",
        "    locals()[\"sample\" + str(the_random)] = emcee.EnsembleSampler(nwalkers, ndim, lnpo, args = [min, max, test_fun])\n",
        "    t0=time.time()\n",
        "    pos, prob, state = locals()[\"sample\" + str(the_random)].run_mcmc(p0, 25000) #burn-in sequence\n",
        "    locals()[\"sample\" + str(the_random)].reset()\n",
        "    t1=time.time()\n",
        "    print( ' Done with burn-in: ', t1-t0)\n",
        "    locals()[\"sample\" + str(the_random)].run_mcmc(pos, process_sample_num)\n",
        "    t2=time.time()\n",
        "    print( ' Done with MCMC: ', t2-t1)\n",
        "\n",
        "    mass_chain = locals()[\"sample\" + str(the_random)].chain\n",
        "    locals()[\"sample\" + str(the_random)].reset() #prevent storing error\n",
        "    return test_fun, mass_chain.flatten()\n"
      ],
      "metadata": {
        "id": "tXRFF-2GBqbe"
      },
      "execution_count": 9,
      "outputs": []
    },
    {
      "cell_type": "code",
      "source": [
        "def mass_sampling(mass_range, redshift = 0.0, mdef = '200c', model = 'bocquet16', sample_num = 100000):\n",
        "    \"\"\"\n",
        "    the function to give back a sample of cluster mass distribution based on the halo mass function\n",
        "      \n",
        "    Parameters:\n",
        "    -----------\n",
        "    mass_range: a tuple of cluster masses, lower limit, and upper limit for sampling\n",
        "    redshift: a float, 0.0 by default\n",
        "    sample_num: an integer of the number of samples, 100000 by default\n",
        "    mdef: The mass definition in which the halo mass M is given\n",
        "    model: the halo mass function model used by colossus\n",
        "    \n",
        "    mass_chain: a NumPy array of length = sample_num.\n",
        "    test_func: the likelihood function\n",
        "    \"\"\"\n",
        "    from colossus.cosmology import cosmology\n",
        "    from colossus.lss import mass_function\n",
        "    import numpy as np\n",
        "    min, max = mass_range\n",
        "    mass_arr = np.logspace(min, max, num = 200, base = 10)\n",
        "    cosmology.setCosmology('WMAP9')\n",
        "    mfunc = mass_function.massFunction(mass_arr, redshift, mdef = mdef, model = model, q_out = 'dndlnM')\n",
        "    mass_arr_p = extract_power(mass_arr)\n",
        "    test_func, prim_mass_sample = interpolate_MCMC(mass_arr_p, mfunc, mass_range, sample_num, redshift)\n",
        "    return test_func, prim_mass_sample"
      ],
      "metadata": {
        "id": "syWU6d7bBuWO"
      },
      "execution_count": 32,
      "outputs": []
    },
    {
      "cell_type": "markdown",
      "source": [
        "test single redshift"
      ],
      "metadata": {
        "id": "k7K9VdfaMK36"
      }
    },
    {
      "cell_type": "code",
      "source": [
        "#code to demonstrate the final result\n",
        "def plot_pdf(xr, title, func=None, args=None, label='ITS method', \n",
        "             ylog=True,\n",
        "             bins = 50, xlims=[], ylims=[], figsize=3):\n",
        "    \"\"\"\n",
        "    by Andrey Kravtsov\n",
        "    wrapper convenience function for plotting  histogram of a sequence of floats xr\n",
        "    and comparing it to a theoretical distribution given by func\n",
        "    \n",
        "    Parameters:\n",
        "    -----------\n",
        "    xr: 1d numpy array of floats, values in the sequence to plot\n",
        "    func: Python function object handle\n",
        "    args: list of arguments to the function\n",
        "    other parameters are used for plotting\n",
        "    \"\"\"\n",
        "    plt.figure(figsize=(figsize,figsize))\n",
        "    if ylog: plt.yscale('log') # plot y-values on a logarithmic scale\n",
        "    if ylims: plt.ylim(ylims) # set axis limits \n",
        "    if xlims: plt.xlim(xlims)\n",
        "    # compute histogram values \n",
        "    hist, bins, patches = plt.hist(xr, density=True, bins=bins, label=label)\n",
        "    binc = 0.5*(bins[1:] + bins[:-1]) # compute bin centers\n",
        "    plt.plot(binc, func(binc), lw=5, c='orangered', label='target pdf')\n",
        "    plt.title(title, fontsize=3*figsize)\n",
        "    plt.ylabel(r'$likelihood$') # label axis \n",
        "    plt.xlabel(r'$mass$')\n",
        "    plt.legend(loc='best', frameon=False, fontsize=3*figsize)\n",
        "    plt.show()"
      ],
      "metadata": {
        "id": "iakQbYYgB0bn"
      },
      "execution_count": 11,
      "outputs": []
    },
    {
      "cell_type": "code",
      "source": [
        "index = [0, 1]\n",
        "mass_range = (14.0, 16.0)\n",
        "mass_chain = []\n",
        "for i in index:\n",
        "  test_func, chain = mass_sampling(mass_range, redshift = i, sample_num = 1000)\n",
        "  mass_chain.append(chain.tolist())\n"
      ],
      "metadata": {
        "colab": {
          "base_uri": "https://localhost:8080/"
        },
        "id": "SsgOIsn5FSSr",
        "outputId": "6a5cbe11-2435-4b14-e6ad-191396ce9cae"
      },
      "execution_count": null,
      "outputs": [
        {
          "output_type": "stream",
          "name": "stdout",
          "text": [
            "14.0 16.0\n",
            " Done with burn-in:  30.18522810935974\n",
            " Done with MCMC:  0.046474456787109375\n",
            "Deleted outdated persistence file, no further action needed.\n",
            "14.0 16.0\n",
            " Done with burn-in:  23.966240882873535\n",
            " Done with MCMC:  0.0475773811340332\n"
          ]
        }
      ]
    },
    {
      "cell_type": "code",
      "source": [
        "plot_pdf(mass_chain, \"z = 0.0, mass range [14.0, 16.0]\", func=test_func, xlims=mass_range, ylog=False, bins='auto', label='GW10 MCMC', figsize = 10)"
      ],
      "metadata": {
        "colab": {
          "base_uri": "https://localhost:8080/",
          "height": 634
        },
        "id": "XDijgWMwRFc9",
        "outputId": "302c8f4c-7bf2-4470-c482-b226282e5a6a"
      },
      "execution_count": null,
      "outputs": [
        {
          "output_type": "display_data",
          "data": {
            "text/plain": [
              "<Figure size 720x720 with 1 Axes>"
            ],
            "image/png": "[encoded data removed]"
          },
          "metadata": {
            "needs_background": "light"
          }
        }
      ]
    },
    {
      "cell_type": "code",
      "source": [
        "#simplest case\n",
        "mass_range = [14.0, 16.0]\n",
        "test_func, mass_chain = mass_sampling(mass_range)\n",
        "plot_pdf(mass_chain, \"z = 0.0, mass range [14.0, 16.0]\", func=test_func, xlims=mass_range, ylog=False, bins='auto', label='GW10 MCMC', figsize = 10)"
      ],
      "metadata": {
        "colab": {
          "base_uri": "https://localhost:8080/",
          "height": 686
        },
        "id": "VXKENO0aMKFb",
        "outputId": "e62e1a34-9f8a-40d8-a870-8cbeec4c0225"
      },
      "execution_count": 33,
      "outputs": [
        {
          "output_type": "stream",
          "name": "stdout",
          "text": [
            "Deleted outdated persistence file, no further action needed.\n",
            " Done with burn-in:  24.480948448181152\n",
            " Done with MCMC:  4.54746413230896\n"
          ]
        },
        {
          "output_type": "display_data",
          "data": {
            "text/plain": [
              "<Figure size 720x720 with 1 Axes>"
            ],
            "image/png": "[encoded data removed]"
          },
          "metadata": {
            "needs_background": "light"
          }
        }
      ]
    },
    {
      "cell_type": "code",
      "source": [
        "test_func, mass_chain = mass_sampling(mass_range, redshift = 1.0)\n",
        "plot_pdf(mass_chain, \"z = 1.0, mass range [14.0, 16.0]\", func=test_func, xlims=mass_range, ylog=False, bins='auto', label='GW10 MCMC', figsize = 10)"
      ],
      "metadata": {
        "colab": {
          "base_uri": "https://localhost:8080/",
          "height": 808
        },
        "id": "DDkPcAorl585",
        "outputId": "5519b6a9-7321-46d1-9b67-d863eb7184af"
      },
      "execution_count": null,
      "outputs": [
        {
          "output_type": "stream",
          "name": "stdout",
          "text": [
            "Deleted outdated persistence file, no further action needed.\n",
            "14.0 16.0\n"
          ]
        },
        {
          "output_type": "stream",
          "name": "stderr",
          "text": [
            "/usr/local/lib/python3.7/dist-packages/ipykernel_launcher.py:23: IntegrationWarning: The maximum number of subdivisions (50) has been achieved.\n",
            "  If increasing the limit yields no improvement it is advised to analyze \n",
            "  the integrand in order to determine the difficulties.  If the position of a \n",
            "  local difficulty can be determined (singularity, discontinuity) one will \n",
            "  probably gain from splitting up the interval and calling the integrator \n",
            "  on the subranges.  Perhaps a special-purpose integrator should be used.\n"
          ]
        },
        {
          "output_type": "stream",
          "name": "stdout",
          "text": [
            " Done with burn-in:  34.27719712257385\n",
            " Done with MCMC:  5.373320579528809\n"
          ]
        },
        {
          "output_type": "display_data",
          "data": {
            "text/plain": [
              "<Figure size 720x720 with 1 Axes>"
            ],
            "image/png": "[encoded data removed]"
          },
          "metadata": {
            "needs_background": "light"
          }
        }
      ]
    },
    {
      "cell_type": "code",
      "source": [
        "test_func, mass_chain = mass_sampling([0.0, 16.0], redshift = 1.0)\n",
        "plot_pdf(mass_chain, \"z = 1.0, mass range [0.0, 16.0]\", func=test_func, xlims=[0.0, 16.0], ylog=False, bins='auto', label='GW10 MCMC', figsize = 10)"
      ],
      "metadata": {
        "colab": {
          "base_uri": "https://localhost:8080/",
          "height": 808
        },
        "id": "gxh0meF86V8L",
        "outputId": "c6ca9160-9260-4687-c82f-6abd891626c8"
      },
      "execution_count": null,
      "outputs": [
        {
          "output_type": "stream",
          "name": "stdout",
          "text": [
            "Deleted outdated persistence file, no further action needed.\n",
            "0.0 16.0\n"
          ]
        },
        {
          "output_type": "stream",
          "name": "stderr",
          "text": [
            "/usr/local/lib/python3.7/dist-packages/ipykernel_launcher.py:23: IntegrationWarning: The maximum number of subdivisions (50) has been achieved.\n",
            "  If increasing the limit yields no improvement it is advised to analyze \n",
            "  the integrand in order to determine the difficulties.  If the position of a \n",
            "  local difficulty can be determined (singularity, discontinuity) one will \n",
            "  probably gain from splitting up the interval and calling the integrator \n",
            "  on the subranges.  Perhaps a special-purpose integrator should be used.\n"
          ]
        },
        {
          "output_type": "stream",
          "name": "stdout",
          "text": [
            " Done with burn-in:  23.769664525985718\n",
            " Done with MCMC:  4.693682432174683\n"
          ]
        },
        {
          "output_type": "display_data",
          "data": {
            "text/plain": [
              "<Figure size 720x720 with 1 Axes>"
            ],
            "image/png": "[encoded data removed]"
          },
          "metadata": {
            "needs_background": "light"
          }
        }
      ]
    },
    {
      "cell_type": "code",
      "source": [
        "test_func, mass_chain = mass_sampling((0.0, 14.0), redshift = 10.0)\n",
        "plot_pdf(mass_chain, \"z = 10.0, mass range [0.0, 16.0]\", func=test_func, xlims=[0.0, 16.0], ylog=False, bins='auto', label='GW10 MCMC', figsize = 10)"
      ],
      "metadata": {
        "colab": {
          "base_uri": "https://localhost:8080/",
          "height": 340
        },
        "id": "qoSB70vx6aHk",
        "outputId": "c0a00732-2ac7-4753-885a-708b866d4633"
      },
      "execution_count": 31,
      "outputs": [
        {
          "output_type": "stream",
          "name": "stdout",
          "text": [
            "Deleted outdated persistence file, no further action needed.\n"
          ]
        },
        {
          "output_type": "error",
          "ename": "TypeError",
          "evalue": "ignored",
          "traceback": [
            "\u001b[0;31m---------------------------------------------------------------------------\u001b[0m",
            "\u001b[0;31mTypeError\u001b[0m                                 Traceback (most recent call last)",
            "\u001b[0;32m<ipython-input-31-9355b8225f7b>\u001b[0m in \u001b[0;36m<module>\u001b[0;34m()\u001b[0m\n\u001b[0;32m----> 1\u001b[0;31m \u001b[0mtest_func\u001b[0m\u001b[0;34m,\u001b[0m \u001b[0mmass_chain\u001b[0m \u001b[0;34m=\u001b[0m \u001b[0mmass_sampling\u001b[0m\u001b[0;34m(\u001b[0m\u001b[0;34m(\u001b[0m\u001b[0;36m0.0\u001b[0m\u001b[0;34m,\u001b[0m \u001b[0;36m14.0\u001b[0m\u001b[0;34m)\u001b[0m\u001b[0;34m,\u001b[0m \u001b[0mredshift\u001b[0m \u001b[0;34m=\u001b[0m \u001b[0;36m10.0\u001b[0m\u001b[0;34m)\u001b[0m\u001b[0;34m\u001b[0m\u001b[0;34m\u001b[0m\u001b[0m\n\u001b[0m\u001b[1;32m      2\u001b[0m \u001b[0mplot_pdf\u001b[0m\u001b[0;34m(\u001b[0m\u001b[0mmass_chain\u001b[0m\u001b[0;34m,\u001b[0m \u001b[0;34m\"z = 10.0, mass range [0.0, 16.0]\"\u001b[0m\u001b[0;34m,\u001b[0m \u001b[0mfunc\u001b[0m\u001b[0;34m=\u001b[0m\u001b[0mtest_func\u001b[0m\u001b[0;34m,\u001b[0m \u001b[0mxlims\u001b[0m\u001b[0;34m=\u001b[0m\u001b[0;34m[\u001b[0m\u001b[0;36m0.0\u001b[0m\u001b[0;34m,\u001b[0m \u001b[0;36m16.0\u001b[0m\u001b[0;34m]\u001b[0m\u001b[0;34m,\u001b[0m \u001b[0mylog\u001b[0m\u001b[0;34m=\u001b[0m\u001b[0;32mFalse\u001b[0m\u001b[0;34m,\u001b[0m \u001b[0mbins\u001b[0m\u001b[0;34m=\u001b[0m\u001b[0;34m'auto'\u001b[0m\u001b[0;34m,\u001b[0m \u001b[0mlabel\u001b[0m\u001b[0;34m=\u001b[0m\u001b[0;34m'GW10 MCMC'\u001b[0m\u001b[0;34m,\u001b[0m \u001b[0mfigsize\u001b[0m \u001b[0;34m=\u001b[0m \u001b[0;36m10\u001b[0m\u001b[0;34m)\u001b[0m\u001b[0;34m\u001b[0m\u001b[0;34m\u001b[0m\u001b[0m\n",
            "\u001b[0;32m<ipython-input-30-0abeba037f95>\u001b[0m in \u001b[0;36mmass_sampling\u001b[0;34m(mass_range, redshift, mdef, model, sample_num)\u001b[0m\n\u001b[1;32m     21\u001b[0m     \u001b[0mcosmology\u001b[0m\u001b[0;34m.\u001b[0m\u001b[0msetCosmology\u001b[0m\u001b[0;34m(\u001b[0m\u001b[0;34m'WMAP9'\u001b[0m\u001b[0;34m)\u001b[0m\u001b[0;34m\u001b[0m\u001b[0;34m\u001b[0m\u001b[0m\n\u001b[1;32m     22\u001b[0m     \u001b[0mmfunc\u001b[0m \u001b[0;34m=\u001b[0m \u001b[0mmass_function\u001b[0m\u001b[0;34m.\u001b[0m\u001b[0mmassFunction\u001b[0m\u001b[0;34m(\u001b[0m\u001b[0mmass_arr\u001b[0m\u001b[0;34m,\u001b[0m \u001b[0mredshift\u001b[0m\u001b[0;34m,\u001b[0m \u001b[0mmdef\u001b[0m \u001b[0;34m=\u001b[0m \u001b[0mmdef\u001b[0m\u001b[0;34m,\u001b[0m \u001b[0mmodel\u001b[0m \u001b[0;34m=\u001b[0m \u001b[0mmodel\u001b[0m\u001b[0;34m,\u001b[0m \u001b[0mq_out\u001b[0m \u001b[0;34m=\u001b[0m \u001b[0;34m'dndlnM'\u001b[0m\u001b[0;34m)\u001b[0m\u001b[0;34m\u001b[0m\u001b[0;34m\u001b[0m\u001b[0m\n\u001b[0;32m---> 23\u001b[0;31m     \u001b[0mmass_arr_p\u001b[0m \u001b[0;34m=\u001b[0m \u001b[0mextract_power\u001b[0m\u001b[0;34m(\u001b[0m\u001b[0mmass_arr\u001b[0m\u001b[0;34m,\u001b[0m \u001b[0mmfunc\u001b[0m\u001b[0;34m)\u001b[0m\u001b[0;34m\u001b[0m\u001b[0;34m\u001b[0m\u001b[0m\n\u001b[0m\u001b[1;32m     24\u001b[0m     \u001b[0mtest_func\u001b[0m\u001b[0;34m,\u001b[0m \u001b[0mprim_mass_sample\u001b[0m \u001b[0;34m=\u001b[0m \u001b[0minterpolate_MCMC\u001b[0m\u001b[0;34m(\u001b[0m\u001b[0mmass_arr_p\u001b[0m\u001b[0;34m,\u001b[0m \u001b[0mmfunc\u001b[0m\u001b[0;34m,\u001b[0m \u001b[0mmass_range\u001b[0m\u001b[0;34m,\u001b[0m \u001b[0msample_num\u001b[0m\u001b[0;34m,\u001b[0m \u001b[0mredshift\u001b[0m\u001b[0;34m)\u001b[0m\u001b[0;34m\u001b[0m\u001b[0;34m\u001b[0m\u001b[0m\n\u001b[1;32m     25\u001b[0m     \u001b[0;32mreturn\u001b[0m \u001b[0mtest_func\u001b[0m\u001b[0;34m,\u001b[0m \u001b[0mprim_mass_sample\u001b[0m\u001b[0;34m\u001b[0m\u001b[0;34m\u001b[0m\u001b[0m\n",
            "\u001b[0;31mTypeError\u001b[0m: extract_power() takes 1 positional argument but 2 were given"
          ]
        }
      ]
    },
    {
      "cell_type": "code",
      "source": [
        "#test model, mdef, sample_num\n",
        "test_func, mass_chain = mass_sampling((14, 16), redshift = 0.0, mdef = 'vir', model = 'seppi20', sample_num = 100000)\n",
        "plot_pdf(mass_chain, \"z = 0.0, mass range [14.0, 16.0]\", func=test_func, xlims=[14.0, 16.0], ylog=False, bins='auto', label='GW10 MCMC', figsize = 10)"
      ],
      "metadata": {
        "colab": {
          "base_uri": "https://localhost:8080/",
          "height": 756
        },
        "id": "A31-8dPO6wrI",
        "outputId": "8b6a5439-3c85-4ca7-b598-400f03347ae3"
      },
      "execution_count": null,
      "outputs": [
        {
          "output_type": "stream",
          "name": "stdout",
          "text": [
            "Deleted outdated persistence file, no further action needed.\n",
            "14 16\n"
          ]
        },
        {
          "output_type": "stream",
          "name": "stderr",
          "text": [
            "/usr/local/lib/python3.7/dist-packages/ipykernel_launcher.py:23: IntegrationWarning: The occurrence of roundoff error is detected, which prevents \n",
            "  the requested tolerance from being achieved.  The error may be \n",
            "  underestimated.\n"
          ]
        },
        {
          "output_type": "stream",
          "name": "stdout",
          "text": [
            " Done with burn-in:  26.466422080993652\n",
            " Done with MCMC:  4.9060986042022705\n"
          ]
        },
        {
          "output_type": "display_data",
          "data": {
            "text/plain": [
              "<Figure size 720x720 with 1 Axes>"
            ],
            "image/png": "[encoded data removed]"
          },
          "metadata": {
            "needs_background": "light"
          }
        }
      ]
    },
    {
      "cell_type": "markdown",
      "source": [
        "# **Multiple Redshift**"
      ],
      "metadata": {
        "id": "gFduh8sVRWKs"
      }
    },
    {
      "cell_type": "markdown",
      "source": [
        "multiple redshift sample\n",
        ", shape of redshift reference: \n",
        "1. https://arxiv.org/pdf/2101.08373.pdf\n",
        "2. https://pole.uchicago.edu/public/data/sptsz-clusters/\n",
        "\n",
        "\n",
        "code reference: https://docs.scipy.org/doc/scipy/reference/generated/scipy.stats.skewnorm.html#scipy.stats.skewnorm"
      ],
      "metadata": {
        "id": "m0u6Y1HWixUY"
      }
    },
    {
      "cell_type": "code",
      "source": [
        "def skew_sample(size = 10000):\n",
        "    \"\"\"\n",
        "    the function to give back a sample of redshift based on skew gaussian distribution imitating SPT cluster data: https://pole.uchicago.edu/public/data/sptsz-clusters/\n",
        "      \n",
        "    Parameters:\n",
        "    ----------- \n",
        "    size: integer, sample number\n",
        "\n",
        "    mass_chain: a NumPy array of length = sample_num\n",
        "    rs_sample: an 1d NumPy array of clusters' redshift sample with length = size\n",
        "    \"\"\"\n",
        "    from scipy.stats import skewnorm\n",
        "    a = 4\n",
        "    sample = skewnorm.rvs(a, loc = 2, scale = 2, size = size) \n",
        "    rs_sample = sample/6.6666\n",
        "    return rs_sample \n",
        "     "
      ],
      "metadata": {
        "id": "-ftkiEpSOw94"
      },
      "execution_count": 12,
      "outputs": []
    },
    {
      "cell_type": "code",
      "source": [
        "def single_redshift_num(rs_range, sample_num, rs_dist_model):\n",
        "    \"\"\"\n",
        "    the function to give back redshifts and sample_num per redshift for multi-redshift sampling\n",
        "\n",
        "    Parameters:\n",
        "    ----------- \n",
        "    rs_dist_model: a string, represent the distribution of cluster redshift\n",
        "    rs_range: a tuple of redshift range, (0.0, 1.5) by default\n",
        "    sample_num: an integer of number of sample, 100000 by default\n",
        "    \n",
        "    chop: a NumPy array of redshifts\n",
        "    num_per_redshift: a NumPy array of cluster num within the corresponding redshift interval of same index number in chop\n",
        "    \"\"\"\n",
        "    if rs_dist_model == \"skewnorm\": #more option reserved for future improvement\n",
        "        rs_sample = skew_sample(size = sample_num)\n",
        "\n",
        "    #calculate chop_num, eg. rdshift = (0, 1.5) -> 90 chop. 1 chop take 22-25s to sample, be careful\n",
        "    chop_num = (rs_range[1] - rs_range[0]) * 60\n",
        "    chop = np.linspace(rs_range[0], rs_range[1], int(chop_num)) # an array of redshift upper & lower limit, redshift in this range will be approximate to lower limit\n",
        "    num_per_redshift = [] \n",
        "    for i, redshift in enumerate(chop):\n",
        "        min_rs = redshift\n",
        "        condition1 = (min_rs <= rs_sample)\n",
        "        if redshift != 1.5:\n",
        "            max_rs = chop[i + 1]\n",
        "        else:\n",
        "            max_rs = float('inf')\n",
        "        condition2 = (rs_sample < max_rs)\n",
        "        condition = condition1 & condition2\n",
        "\n",
        "        num = np.count_nonzero(condition) #num of cluster fulfill this range\n",
        "        num_per_redshift.append(num) \n",
        "\n",
        "    num_per_redshift = np.array(num_per_redshift) \n",
        "\n",
        "    fin_chop_num = np.count_nonzero(num_per_redshift >= 20)\n",
        "    print(f\"you divide redshift range {rs_range} into {fin_chop_num} chops, it will take about {round(fin_chop_num*22.5/60, 3)} minutes to complete.\")\n",
        "    return chop, num_per_redshift \n"
      ],
      "metadata": {
        "id": "WzHQHfbwQVm9"
      },
      "execution_count": 13,
      "outputs": []
    },
    {
      "cell_type": "code",
      "source": [
        "def mul_redshift_mass_sampling(rs_dist = \"skewnorm\", rs_range = (0.0, 1.5), mass_range = (14.0, 16.0), mdef = '200c', model = 'bocquet16', sample_num = 100000, store = True):\n",
        "    \"\"\"\n",
        "    the function to give back a sample of multi-redshift cluster mass distribution based on halo mass function\n",
        "  \n",
        "    Parameters:\n",
        "    -----------\n",
        "    rs_dist: a string, representing the distribution of cluster redshift, \"skewnorm\" by default\n",
        "    rs_range: a tuple of redshift range, (0.0, 1.5) by default\n",
        "    mass_range: a tuple of cluster masses, lower limit and upper limit for sampling, [min, max] in 10^min M⨀ unit\n",
        "    mdef: The mass definition in which the halo mass M is given; see colossus doc for more info (https://bdiemer.bitbucket.io/colossus/lss_mass_function.html#lss.mass_function.massFunction)\n",
        "    model: the halo mass function model used by colossus; see colossus doc for more info\n",
        "    sample_num: an integer of the number of samples, 100000 by default\n",
        "    store: a boolean, if True store mass array and redshift into a csv file and return a string of path to file if False returns None\n",
        "    \n",
        "    fin_cluster: a Pandas dataframe with 2 col of [\"mass_arr\", \"redshift\"], NumPy array of cluster mass corresponding to redshift stored in each row\n",
        "    filepath: str of file path if store=True, else None\n",
        "    \"\"\"  \n",
        "  \n",
        "    t0 = time.time()\n",
        "    import pandas as pd\n",
        "    filepath = None\n",
        "    chop, num_per_redshift = single_redshift_num(rs_range, sample_num, rs_dist)\n",
        "\n",
        "    final_mass_list = []\n",
        "    tot_num = 0\n",
        "    flag = 0 #cannot use i = 0 to initiate masses and redshifts.\n",
        "    for i, redshift in enumerate(chop):\n",
        "        redshift = round(redshift, 4)\n",
        "        sample_n = num_per_redshift[i]\n",
        "        if sample_n < 20: #->too small\n",
        "            continue\n",
        "        sample_n = int(math.ceil(sample_n / 10.0)) * 10 #round up\n",
        "        print(f\"starting sampling with redshift: {redshift}, sample_num : {sample_n}\")\n",
        "        test_func, chain = mass_sampling(mass_range, redshift = redshift, mdef = mdef, model = model, sample_num = sample_n)\n",
        "        tot_num += chain.shape[0]\n",
        "        if (flag == 0):\n",
        "            masses = pd.Series(reverse_extract_power(chain))\n",
        "            rs_arr = np.full((chain.shape[0]), redshift)\n",
        "            redshifts = pd.Series(rs_arr)\n",
        "            flag = 1\n",
        "        else:\n",
        "            new_mass = pd.Series(reverse_extract_power(chain))\n",
        "            masses = pd.concat([masses, new_mass])\n",
        "            rs_arr = np.full((chain.shape[0]), redshift)\n",
        "            new_redshift = pd.Series(rs_arr)\n",
        "            redshifts = pd.concat([redshifts, new_redshift])\n",
        "        #mass_sampling(mass_range, redshift = 0.0, mdef = '200c', model = 'bocquet16', sample_num = 100000):\n",
        "        #final_mass_list.append(masses(test_func, redshift, chain))\n",
        "    fin_clusters = pd.DataFrame(columns = [\"mass_arr\", \"redshift\"])\n",
        "    fin_clusters[\"mass_arr\"] = masses\n",
        "    fin_clusters[\"redshift\"] = redshifts\n",
        "\n",
        "    if store:\n",
        "        from pathlib import Path\n",
        "        filepath = Path(os.getcwd() + \"/mass_samples/\" + \"rs(\" + str(rs_range[0]) + \"~\" + str(rs_range[1]) + \")num_\" + str(tot_num) + \".csv\")\n",
        "        filepath.parent.mkdir(parents = True, exist_ok = True)\n",
        "        fin_clusters.to_csv(filepath, index = False)\n",
        "    t1 = time.time()\n",
        "    print(f\"finish running, using {t1 - t0}s, obtain {tot_num} cluster samples\")\n",
        "    return filepath, fin_clusters\n",
        "    \n"
      ],
      "metadata": {
        "id": "okirlOpMgKzu"
      },
      "execution_count": 37,
      "outputs": []
    },
    {
      "cell_type": "code",
      "source": [
        "# class masses:\n",
        "#   def __init__(self, function, redshift, arr):\n",
        "#       self.fxn = function\n",
        "#       self.redshift = redshift\n",
        "#       self.arr = arr"
      ],
      "metadata": {
        "id": "UkjJ4t5rcjcL"
      },
      "execution_count": 4,
      "outputs": []
    },
    {
      "cell_type": "code",
      "source": [
        "# redshift = 0\n",
        "# sample_num = 100\n",
        "# test_func, mass_chain = mass_sampling([14.0, 16.0], redshift = redshift, sample_num = sample_num)"
      ],
      "metadata": {
        "id": "6goDuqd3fWzR"
      },
      "execution_count": 5,
      "outputs": []
    },
    {
      "cell_type": "markdown",
      "source": [
        "test"
      ],
      "metadata": {
        "id": "qcbWjA_B845m"
      }
    },
    {
      "cell_type": "code",
      "source": [
        "mul_redshift_mass_sampling(rs_dist = \"skewnorm\", rs_range = (0.0, 1.5), mass_range = (14.0, 16.0), mdef = '200c', model = 'bocquet16', sample_num = 300, store = True)"
      ],
      "metadata": {
        "id": "cIWb5UaSRkd7",
        "colab": {
          "base_uri": "https://localhost:8080/"
        },
        "outputId": "d3fc14f9-26cb-46f9-cda2-e12fb5899836"
      },
      "execution_count": 36,
      "outputs": [
        {
          "output_type": "stream",
          "name": "stdout",
          "text": [
            "you divide redshift range (0.0, 1.5) into 1 chops, it will take about 0.375 minutes to complete.\n",
            "starting sampling with redshift: 0.4551, sample_num : 20\n",
            "Deleted outdated persistence file, no further action needed.\n",
            " Done with burn-in:  22.851699113845825\n",
            " Done with MCMC:  0.0052149295806884766\n",
            "finish running, using 23.155587196350098s, obtain 20 cluster sample\n"
          ]
        },
        {
          "output_type": "execute_result",
          "data": {
            "text/plain": [
              "(PosixPath('/content/mass_samples/rs(0.0~1.5)num_20.csv'),\n",
              "         mass_arr  redshift\n",
              " 0   1.230544e+14    0.4551\n",
              " 1   1.148671e+14    0.4551\n",
              " 2   2.327187e+14    0.4551\n",
              " 3   1.151861e+14    0.4551\n",
              " 4   3.064050e+14    0.4551\n",
              " 5   1.365975e+14    0.4551\n",
              " 6   1.384891e+14    0.4551\n",
              " 7   1.469843e+14    0.4551\n",
              " 8   3.155211e+14    0.4551\n",
              " 9   2.265104e+14    0.4551\n",
              " 10  1.436244e+14    0.4551\n",
              " 11  1.934009e+14    0.4551\n",
              " 12  1.143876e+14    0.4551\n",
              " 13  2.036873e+14    0.4551\n",
              " 14  2.439943e+14    0.4551\n",
              " 15  1.286005e+14    0.4551\n",
              " 16  2.022536e+14    0.4551\n",
              " 17  1.329004e+14    0.4551\n",
              " 18  2.386781e+14    0.4551\n",
              " 19  1.063070e+14    0.4551)"
            ]
          },
          "metadata": {},
          "execution_count": 36
        }
      ]
    },
    {
      "cell_type": "code",
      "source": [
        "mul_redshift_mass_sampling(rs_dist = \"skewnorm\", rs_range = (0.0, 1.5), mass_range = (14.0, 16.0), mdef = '200c', model = 'bocquet16', sample_num = 100000, store = True)"
      ],
      "metadata": {
        "colab": {
          "base_uri": "https://localhost:8080/"
        },
        "id": "jGgUyY81usPD",
        "outputId": "ee99fbc9-74d8-4df2-a99f-2e50bbd7e57a"
      },
      "execution_count": 39,
      "outputs": [
        {
          "output_type": "stream",
          "name": "stdout",
          "text": [
            "you divide redshift range (0.0, 1.5) into 69 chops, it will take about 25.875 minutes to complete.\n",
            "starting sampling with redshift: 0.118, sample_num : 50\n",
            "Deleted outdated persistence file, no further action needed.\n",
            " Done with burn-in:  22.928480863571167\n",
            " Done with MCMC:  0.005360841751098633\n",
            "starting sampling with redshift: 0.1348, sample_num : 80\n",
            "Deleted outdated persistence file, no further action needed.\n",
            " Done with burn-in:  24.118841409683228\n",
            " Done with MCMC:  0.007926225662231445\n",
            "starting sampling with redshift: 0.1517, sample_num : 140\n",
            "Deleted outdated persistence file, no further action needed.\n",
            " Done with burn-in:  23.7391300201416\n",
            " Done with MCMC:  0.010581493377685547\n",
            "starting sampling with redshift: 0.1685, sample_num : 210\n",
            "Deleted outdated persistence file, no further action needed.\n",
            " Done with burn-in:  22.947819232940674\n",
            " Done with MCMC:  0.014561176300048828\n",
            "starting sampling with redshift: 0.1854, sample_num : 310\n",
            "Deleted outdated persistence file, no further action needed.\n",
            " Done with burn-in:  23.24977993965149\n",
            " Done with MCMC:  0.027617216110229492\n",
            "starting sampling with redshift: 0.2022, sample_num : 520\n",
            "Deleted outdated persistence file, no further action needed.\n",
            " Done with burn-in:  23.234399795532227\n",
            " Done with MCMC:  0.024237871170043945\n",
            "starting sampling with redshift: 0.2191, sample_num : 740\n",
            "Deleted outdated persistence file, no further action needed.\n",
            " Done with burn-in:  23.03860878944397\n",
            " Done with MCMC:  0.03461813926696777\n",
            "starting sampling with redshift: 0.236, sample_num : 920\n",
            "Deleted outdated persistence file, no further action needed.\n",
            " Done with burn-in:  24.841074466705322\n",
            " Done with MCMC:  0.04200911521911621\n",
            "starting sampling with redshift: 0.2528, sample_num : 1330\n",
            "Deleted outdated persistence file, no further action needed.\n",
            " Done with burn-in:  23.11605453491211\n",
            " Done with MCMC:  0.06963396072387695\n",
            "starting sampling with redshift: 0.2697, sample_num : 1760\n",
            "Deleted outdated persistence file, no further action needed.\n",
            " Done with burn-in:  22.94825315475464\n",
            " Done with MCMC:  0.08048391342163086\n",
            "starting sampling with redshift: 0.2865, sample_num : 2120\n",
            "Deleted outdated persistence file, no further action needed.\n",
            " Done with burn-in:  22.872403144836426\n",
            " Done with MCMC:  0.09840035438537598\n",
            "starting sampling with redshift: 0.3034, sample_num : 2520\n",
            "Deleted outdated persistence file, no further action needed.\n",
            " Done with burn-in:  22.788267612457275\n",
            " Done with MCMC:  0.11535811424255371\n",
            "starting sampling with redshift: 0.3202, sample_num : 2940\n",
            "Deleted outdated persistence file, no further action needed.\n",
            " Done with burn-in:  23.51830244064331\n",
            " Done with MCMC:  0.1311807632446289\n",
            "starting sampling with redshift: 0.3371, sample_num : 3240\n",
            "Deleted outdated persistence file, no further action needed.\n",
            " Done with burn-in:  22.60086727142334\n",
            " Done with MCMC:  0.1445469856262207\n",
            "starting sampling with redshift: 0.3539, sample_num : 3410\n",
            "Deleted outdated persistence file, no further action needed.\n",
            " Done with burn-in:  22.619523525238037\n",
            " Done with MCMC:  0.16233205795288086\n",
            "starting sampling with redshift: 0.3708, sample_num : 3800\n",
            "Deleted outdated persistence file, no further action needed.\n",
            " Done with burn-in:  22.657063961029053\n",
            " Done with MCMC:  0.1682429313659668\n",
            "starting sampling with redshift: 0.3876, sample_num : 3780\n",
            "Deleted outdated persistence file, no further action needed.\n",
            " Done with burn-in:  22.964391708374023\n",
            " Done with MCMC:  0.19835209846496582\n",
            "starting sampling with redshift: 0.4045, sample_num : 3830\n",
            "Deleted outdated persistence file, no further action needed.\n",
            " Done with burn-in:  23.86800980567932\n",
            " Done with MCMC:  0.19794774055480957\n",
            "starting sampling with redshift: 0.4213, sample_num : 4010\n",
            "Deleted outdated persistence file, no further action needed.\n",
            " Done with burn-in:  23.27554154396057\n",
            " Done with MCMC:  0.19483542442321777\n",
            "starting sampling with redshift: 0.4382, sample_num : 3940\n",
            "Deleted outdated persistence file, no further action needed.\n",
            " Done with burn-in:  22.932146549224854\n",
            " Done with MCMC:  0.19322776794433594\n",
            "starting sampling with redshift: 0.4551, sample_num : 3820\n",
            "Deleted outdated persistence file, no further action needed.\n",
            " Done with burn-in:  22.975338459014893\n",
            " Done with MCMC:  0.18764519691467285\n",
            "starting sampling with redshift: 0.4719, sample_num : 3730\n",
            "Deleted outdated persistence file, no further action needed.\n",
            " Done with burn-in:  23.953999042510986\n",
            " Done with MCMC:  0.16828036308288574\n",
            "starting sampling with redshift: 0.4888, sample_num : 3720\n",
            "Deleted outdated persistence file, no further action needed.\n",
            " Done with burn-in:  23.059247732162476\n",
            " Done with MCMC:  0.16986298561096191\n",
            "starting sampling with redshift: 0.5056, sample_num : 3430\n",
            "Deleted outdated persistence file, no further action needed.\n",
            " Done with burn-in:  23.292704343795776\n",
            " Done with MCMC:  0.15062808990478516\n",
            "starting sampling with redshift: 0.5225, sample_num : 3460\n",
            "Deleted outdated persistence file, no further action needed.\n",
            " Done with burn-in:  23.011377096176147\n",
            " Done with MCMC:  0.15792274475097656\n",
            "starting sampling with redshift: 0.5393, sample_num : 3170\n",
            "Deleted outdated persistence file, no further action needed.\n",
            " Done with burn-in:  22.84792709350586\n",
            " Done with MCMC:  0.1490764617919922\n",
            "starting sampling with redshift: 0.5562, sample_num : 3010\n",
            "Deleted outdated persistence file, no further action needed.\n",
            " Done with burn-in:  23.90175199508667\n",
            " Done with MCMC:  0.13714313507080078\n",
            "starting sampling with redshift: 0.573, sample_num : 2940\n",
            "Deleted outdated persistence file, no further action needed.\n",
            " Done with burn-in:  22.593596696853638\n",
            " Done with MCMC:  0.1361982822418213\n",
            "starting sampling with redshift: 0.5899, sample_num : 2700\n",
            "Deleted outdated persistence file, no further action needed.\n",
            " Done with burn-in:  22.83518075942993\n",
            " Done with MCMC:  0.12393498420715332\n",
            "starting sampling with redshift: 0.6067, sample_num : 2590\n",
            "Deleted outdated persistence file, no further action needed.\n",
            " Done with burn-in:  22.871832847595215\n",
            " Done with MCMC:  0.11276698112487793\n",
            "starting sampling with redshift: 0.6236, sample_num : 2420\n",
            "Deleted outdated persistence file, no further action needed.\n",
            " Done with burn-in:  22.900803565979004\n",
            " Done with MCMC:  0.11940622329711914\n",
            "starting sampling with redshift: 0.6404, sample_num : 2230\n",
            "Deleted outdated persistence file, no further action needed.\n",
            " Done with burn-in:  23.7226665019989\n",
            " Done with MCMC:  0.1151571273803711\n",
            "starting sampling with redshift: 0.6573, sample_num : 2140\n",
            "Deleted outdated persistence file, no further action needed.\n",
            " Done with burn-in:  23.01909852027893\n",
            " Done with MCMC:  0.09838151931762695\n",
            "starting sampling with redshift: 0.6742, sample_num : 1970\n",
            "Deleted outdated persistence file, no further action needed.\n",
            " Done with burn-in:  22.532834768295288\n",
            " Done with MCMC:  0.10606718063354492\n",
            "starting sampling with redshift: 0.691, sample_num : 1940\n",
            "Deleted outdated persistence file, no further action needed.\n",
            " Done with burn-in:  22.667360544204712\n",
            " Done with MCMC:  0.09064555168151855\n",
            "starting sampling with redshift: 0.7079, sample_num : 1690\n",
            "Deleted outdated persistence file, no further action needed.\n",
            " Done with burn-in:  23.548780918121338\n",
            " Done with MCMC:  0.07442593574523926\n",
            "starting sampling with redshift: 0.7247, sample_num : 1590\n",
            "Deleted outdated persistence file, no further action needed.\n",
            " Done with burn-in:  23.174875020980835\n",
            " Done with MCMC:  0.07338690757751465\n",
            "starting sampling with redshift: 0.7416, sample_num : 1360\n",
            "Deleted outdated persistence file, no further action needed.\n",
            " Done with burn-in:  22.84823226928711\n",
            " Done with MCMC:  0.06054806709289551\n",
            "starting sampling with redshift: 0.7584, sample_num : 1360\n",
            "Deleted outdated persistence file, no further action needed.\n",
            " Done with burn-in:  22.397725343704224\n",
            " Done with MCMC:  0.06803250312805176\n",
            "starting sampling with redshift: 0.7753, sample_num : 1250\n",
            "Deleted outdated persistence file, no further action needed.\n",
            " Done with burn-in:  22.589670658111572\n",
            " Done with MCMC:  0.058965206146240234\n",
            "starting sampling with redshift: 0.7921, sample_num : 1070\n",
            "Deleted outdated persistence file, no further action needed.\n",
            " Done with burn-in:  23.591482162475586\n",
            " Done with MCMC:  0.046479225158691406\n",
            "starting sampling with redshift: 0.809, sample_num : 1020\n",
            "Deleted outdated persistence file, no further action needed.\n",
            " Done with burn-in:  22.643970727920532\n",
            " Done with MCMC:  0.04886579513549805\n",
            "starting sampling with redshift: 0.8258, sample_num : 930\n",
            "Deleted outdated persistence file, no further action needed.\n",
            " Done with burn-in:  22.506882429122925\n",
            " Done with MCMC:  0.04025769233703613\n",
            "starting sampling with redshift: 0.8427, sample_num : 840\n",
            "Deleted outdated persistence file, no further action needed.\n",
            " Done with burn-in:  22.29149317741394\n",
            " Done with MCMC:  0.0437929630279541\n",
            "starting sampling with redshift: 0.8596, sample_num : 750\n",
            "Deleted outdated persistence file, no further action needed.\n",
            " Done with burn-in:  22.395857095718384\n",
            " Done with MCMC:  0.0428164005279541\n",
            "starting sampling with redshift: 0.8764, sample_num : 710\n",
            "Deleted outdated persistence file, no further action needed.\n",
            " Done with burn-in:  23.72537851333618\n",
            " Done with MCMC:  0.06108975410461426\n",
            "starting sampling with redshift: 0.8933, sample_num : 550\n",
            "Deleted outdated persistence file, no further action needed.\n",
            " Done with burn-in:  22.621074199676514\n",
            " Done with MCMC:  0.02640080451965332\n",
            "starting sampling with redshift: 0.9101, sample_num : 520\n",
            "Deleted outdated persistence file, no further action needed.\n",
            " Done with burn-in:  22.697946548461914\n",
            " Done with MCMC:  0.024537324905395508\n",
            "starting sampling with redshift: 0.927, sample_num : 460\n",
            "Deleted outdated persistence file, no further action needed.\n",
            " Done with burn-in:  22.69120168685913\n",
            " Done with MCMC:  0.021540164947509766\n",
            "starting sampling with redshift: 0.9438, sample_num : 400\n",
            "Deleted outdated persistence file, no further action needed.\n",
            " Done with burn-in:  23.722906589508057\n",
            " Done with MCMC:  0.02108287811279297\n",
            "starting sampling with redshift: 0.9607, sample_num : 380\n",
            "Deleted outdated persistence file, no further action needed.\n",
            " Done with burn-in:  22.514445543289185\n",
            " Done with MCMC:  0.021517038345336914\n",
            "starting sampling with redshift: 0.9775, sample_num : 360\n",
            "Deleted outdated persistence file, no further action needed.\n",
            " Done with burn-in:  23.150351762771606\n",
            " Done with MCMC:  0.018867969512939453\n",
            "starting sampling with redshift: 0.9944, sample_num : 280\n",
            "Deleted outdated persistence file, no further action needed.\n",
            " Done with burn-in:  23.237247705459595\n",
            " Done with MCMC:  0.017780065536499023\n",
            "starting sampling with redshift: 1.0112, sample_num : 260\n",
            "Deleted outdated persistence file, no further action needed.\n",
            " Done with burn-in:  22.866004705429077\n",
            " Done with MCMC:  0.018917322158813477\n",
            "starting sampling with redshift: 1.0281, sample_num : 220\n",
            "Deleted outdated persistence file, no further action needed.\n",
            " Done with burn-in:  24.08105206489563\n",
            " Done with MCMC:  0.014147043228149414\n",
            "starting sampling with redshift: 1.0449, sample_num : 190\n",
            "Deleted outdated persistence file, no further action needed.\n",
            " Done with burn-in:  23.036865949630737\n",
            " Done with MCMC:  0.01074075698852539\n",
            "starting sampling with redshift: 1.0618, sample_num : 170\n",
            "Deleted outdated persistence file, no further action needed.\n",
            " Done with burn-in:  23.15585732460022\n",
            " Done with MCMC:  0.011910200119018555\n",
            "starting sampling with redshift: 1.0787, sample_num : 140\n",
            "Deleted outdated persistence file, no further action needed.\n",
            " Done with burn-in:  22.969888925552368\n",
            " Done with MCMC:  0.011399984359741211\n",
            "starting sampling with redshift: 1.0955, sample_num : 110\n",
            "Deleted outdated persistence file, no further action needed.\n",
            " Done with burn-in:  22.89407992362976\n",
            " Done with MCMC:  0.015299320220947266\n",
            "starting sampling with redshift: 1.1124, sample_num : 120\n",
            "Deleted outdated persistence file, no further action needed.\n",
            " Done with burn-in:  24.428866624832153\n",
            " Done with MCMC:  0.009446144104003906\n",
            "starting sampling with redshift: 1.1292, sample_num : 100\n",
            "Deleted outdated persistence file, no further action needed.\n",
            " Done with burn-in:  23.084758758544922\n",
            " Done with MCMC:  0.006722211837768555\n",
            "starting sampling with redshift: 1.1461, sample_num : 90\n",
            "Deleted outdated persistence file, no further action needed.\n",
            " Done with burn-in:  22.685739040374756\n",
            " Done with MCMC:  0.0057220458984375\n",
            "starting sampling with redshift: 1.1629, sample_num : 80\n",
            "Deleted outdated persistence file, no further action needed.\n",
            " Done with burn-in:  23.191558122634888\n",
            " Done with MCMC:  0.009900808334350586\n",
            "starting sampling with redshift: 1.1798, sample_num : 60\n",
            "Deleted outdated persistence file, no further action needed.\n",
            " Done with burn-in:  23.87295389175415\n",
            " Done with MCMC:  0.004916667938232422\n",
            "starting sampling with redshift: 1.1966, sample_num : 50\n",
            "Deleted outdated persistence file, no further action needed.\n",
            " Done with burn-in:  22.649539470672607\n",
            " Done with MCMC:  0.006525516510009766\n",
            "starting sampling with redshift: 1.2135, sample_num : 40\n",
            "Deleted outdated persistence file, no further action needed.\n",
            " Done with burn-in:  22.731956005096436\n",
            " Done with MCMC:  0.004281282424926758\n",
            "starting sampling with redshift: 1.2303, sample_num : 40\n",
            "Deleted outdated persistence file, no further action needed.\n",
            " Done with burn-in:  22.547666311264038\n",
            " Done with MCMC:  0.003877401351928711\n",
            "starting sampling with redshift: 1.2472, sample_num : 40\n",
            "Deleted outdated persistence file, no further action needed.\n",
            " Done with burn-in:  22.78151822090149\n",
            " Done with MCMC:  0.003926753997802734\n",
            "starting sampling with redshift: 1.264, sample_num : 40\n",
            "Deleted outdated persistence file, no further action needed.\n",
            " Done with burn-in:  23.747599363327026\n",
            " Done with MCMC:  0.005666255950927734\n",
            "finish running, using 1610.583598613739s, obtain 99920 cluster samples\n"
          ]
        },
        {
          "output_type": "execute_result",
          "data": {
            "text/plain": [
              "(PosixPath('/content/mass_samples/rs(0.0~1.5)num_99920.csv'),\n",
              "         mass_arr  redshift\n",
              " 0   2.425623e+14     0.118\n",
              " 1   2.425623e+14     0.118\n",
              " 2   1.121026e+14     0.118\n",
              " 3   1.010516e+14     0.118\n",
              " 4   1.160529e+14     0.118\n",
              " ..           ...       ...\n",
              " 35  1.037441e+14     1.264\n",
              " 36  1.022473e+14     1.264\n",
              " 37  1.025426e+14     1.264\n",
              " 38  1.053457e+14     1.264\n",
              " 39  1.056382e+14     1.264\n",
              " \n",
              " [99920 rows x 2 columns])"
            ]
          },
          "metadata": {},
          "execution_count": 39
        }
      ]
    },
    {
      "cell_type": "code",
      "source": [
        ""
      ],
      "metadata": {
        "id": "fA321xZ-keLS"
      },
      "execution_count": null,
      "outputs": []
    },
    {
      "cell_type": "code",
      "source": [
        "data = \"/content/mass_samples/rs(0.0~1.5)num_99920.csv\"\n",
        "pd.read_csv(data)"
      ],
      "metadata": {
        "colab": {
          "base_uri": "https://localhost:8080/",
          "height": 346
        },
        "id": "DXMMiTXPNPly",
        "outputId": "5d4db271-2b02-4fdb-b2c4-728546c45da7"
      },
      "execution_count": 4,
      "outputs": [
        {
          "output_type": "error",
          "ename": "FileNotFoundError",
          "evalue": "ignored",
          "traceback": [
            "\u001b[0;31m---------------------------------------------------------------------------\u001b[0m",
            "\u001b[0;31mFileNotFoundError\u001b[0m                         Traceback (most recent call last)",
            "\u001b[0;32m<ipython-input-4-30730b710e7e>\u001b[0m in \u001b[0;36m<module>\u001b[0;34m()\u001b[0m\n\u001b[1;32m      1\u001b[0m \u001b[0mdata\u001b[0m \u001b[0;34m=\u001b[0m \u001b[0;34m\"/content/mass_samples/rs(0.0~1.5)num_99920.csv\"\u001b[0m\u001b[0;34m\u001b[0m\u001b[0;34m\u001b[0m\u001b[0m\n\u001b[0;32m----> 2\u001b[0;31m \u001b[0mpd\u001b[0m\u001b[0;34m.\u001b[0m\u001b[0mread_csv\u001b[0m\u001b[0;34m(\u001b[0m\u001b[0mdata\u001b[0m\u001b[0;34m)\u001b[0m\u001b[0;34m\u001b[0m\u001b[0;34m\u001b[0m\u001b[0m\n\u001b[0m",
            "\u001b[0;32m/usr/local/lib/python3.7/dist-packages/pandas/util/_decorators.py\u001b[0m in \u001b[0;36mwrapper\u001b[0;34m(*args, **kwargs)\u001b[0m\n\u001b[1;32m    309\u001b[0m                     \u001b[0mstacklevel\u001b[0m\u001b[0;34m=\u001b[0m\u001b[0mstacklevel\u001b[0m\u001b[0;34m,\u001b[0m\u001b[0;34m\u001b[0m\u001b[0;34m\u001b[0m\u001b[0m\n\u001b[1;32m    310\u001b[0m                 )\n\u001b[0;32m--> 311\u001b[0;31m             \u001b[0;32mreturn\u001b[0m \u001b[0mfunc\u001b[0m\u001b[0;34m(\u001b[0m\u001b[0;34m*\u001b[0m\u001b[0margs\u001b[0m\u001b[0;34m,\u001b[0m \u001b[0;34m**\u001b[0m\u001b[0mkwargs\u001b[0m\u001b[0;34m)\u001b[0m\u001b[0;34m\u001b[0m\u001b[0;34m\u001b[0m\u001b[0m\n\u001b[0m\u001b[1;32m    312\u001b[0m \u001b[0;34m\u001b[0m\u001b[0m\n\u001b[1;32m    313\u001b[0m         \u001b[0;32mreturn\u001b[0m \u001b[0mwrapper\u001b[0m\u001b[0;34m\u001b[0m\u001b[0;34m\u001b[0m\u001b[0m\n",
            "\u001b[0;32m/usr/local/lib/python3.7/dist-packages/pandas/io/parsers/readers.py\u001b[0m in \u001b[0;36mread_csv\u001b[0;34m(filepath_or_buffer, sep, delimiter, header, names, index_col, usecols, squeeze, prefix, mangle_dupe_cols, dtype, engine, converters, true_values, false_values, skipinitialspace, skiprows, skipfooter, nrows, na_values, keep_default_na, na_filter, verbose, skip_blank_lines, parse_dates, infer_datetime_format, keep_date_col, date_parser, dayfirst, cache_dates, iterator, chunksize, compression, thousands, decimal, lineterminator, quotechar, quoting, doublequote, escapechar, comment, encoding, encoding_errors, dialect, error_bad_lines, warn_bad_lines, on_bad_lines, delim_whitespace, low_memory, memory_map, float_precision, storage_options)\u001b[0m\n\u001b[1;32m    584\u001b[0m     \u001b[0mkwds\u001b[0m\u001b[0;34m.\u001b[0m\u001b[0mupdate\u001b[0m\u001b[0;34m(\u001b[0m\u001b[0mkwds_defaults\u001b[0m\u001b[0;34m)\u001b[0m\u001b[0;34m\u001b[0m\u001b[0;34m\u001b[0m\u001b[0m\n\u001b[1;32m    585\u001b[0m \u001b[0;34m\u001b[0m\u001b[0m\n\u001b[0;32m--> 586\u001b[0;31m     \u001b[0;32mreturn\u001b[0m \u001b[0m_read\u001b[0m\u001b[0;34m(\u001b[0m\u001b[0mfilepath_or_buffer\u001b[0m\u001b[0;34m,\u001b[0m \u001b[0mkwds\u001b[0m\u001b[0;34m)\u001b[0m\u001b[0;34m\u001b[0m\u001b[0;34m\u001b[0m\u001b[0m\n\u001b[0m\u001b[1;32m    587\u001b[0m \u001b[0;34m\u001b[0m\u001b[0m\n\u001b[1;32m    588\u001b[0m \u001b[0;34m\u001b[0m\u001b[0m\n",
            "\u001b[0;32m/usr/local/lib/python3.7/dist-packages/pandas/io/parsers/readers.py\u001b[0m in \u001b[0;36m_read\u001b[0;34m(filepath_or_buffer, kwds)\u001b[0m\n\u001b[1;32m    480\u001b[0m \u001b[0;34m\u001b[0m\u001b[0m\n\u001b[1;32m    481\u001b[0m     \u001b[0;31m# Create the parser.\u001b[0m\u001b[0;34m\u001b[0m\u001b[0;34m\u001b[0m\u001b[0;34m\u001b[0m\u001b[0m\n\u001b[0;32m--> 482\u001b[0;31m     \u001b[0mparser\u001b[0m \u001b[0;34m=\u001b[0m \u001b[0mTextFileReader\u001b[0m\u001b[0;34m(\u001b[0m\u001b[0mfilepath_or_buffer\u001b[0m\u001b[0;34m,\u001b[0m \u001b[0;34m**\u001b[0m\u001b[0mkwds\u001b[0m\u001b[0;34m)\u001b[0m\u001b[0;34m\u001b[0m\u001b[0;34m\u001b[0m\u001b[0m\n\u001b[0m\u001b[1;32m    483\u001b[0m \u001b[0;34m\u001b[0m\u001b[0m\n\u001b[1;32m    484\u001b[0m     \u001b[0;32mif\u001b[0m \u001b[0mchunksize\u001b[0m \u001b[0;32mor\u001b[0m \u001b[0miterator\u001b[0m\u001b[0;34m:\u001b[0m\u001b[0;34m\u001b[0m\u001b[0;34m\u001b[0m\u001b[0m\n",
            "\u001b[0;32m/usr/local/lib/python3.7/dist-packages/pandas/io/parsers/readers.py\u001b[0m in \u001b[0;36m__init__\u001b[0;34m(self, f, engine, **kwds)\u001b[0m\n\u001b[1;32m    809\u001b[0m             \u001b[0mself\u001b[0m\u001b[0;34m.\u001b[0m\u001b[0moptions\u001b[0m\u001b[0;34m[\u001b[0m\u001b[0;34m\"has_index_names\"\u001b[0m\u001b[0;34m]\u001b[0m \u001b[0;34m=\u001b[0m \u001b[0mkwds\u001b[0m\u001b[0;34m[\u001b[0m\u001b[0;34m\"has_index_names\"\u001b[0m\u001b[0;34m]\u001b[0m\u001b[0;34m\u001b[0m\u001b[0;34m\u001b[0m\u001b[0m\n\u001b[1;32m    810\u001b[0m \u001b[0;34m\u001b[0m\u001b[0m\n\u001b[0;32m--> 811\u001b[0;31m         \u001b[0mself\u001b[0m\u001b[0;34m.\u001b[0m\u001b[0m_engine\u001b[0m \u001b[0;34m=\u001b[0m \u001b[0mself\u001b[0m\u001b[0;34m.\u001b[0m\u001b[0m_make_engine\u001b[0m\u001b[0;34m(\u001b[0m\u001b[0mself\u001b[0m\u001b[0;34m.\u001b[0m\u001b[0mengine\u001b[0m\u001b[0;34m)\u001b[0m\u001b[0;34m\u001b[0m\u001b[0;34m\u001b[0m\u001b[0m\n\u001b[0m\u001b[1;32m    812\u001b[0m \u001b[0;34m\u001b[0m\u001b[0m\n\u001b[1;32m    813\u001b[0m     \u001b[0;32mdef\u001b[0m \u001b[0mclose\u001b[0m\u001b[0;34m(\u001b[0m\u001b[0mself\u001b[0m\u001b[0;34m)\u001b[0m\u001b[0;34m:\u001b[0m\u001b[0;34m\u001b[0m\u001b[0;34m\u001b[0m\u001b[0m\n",
            "\u001b[0;32m/usr/local/lib/python3.7/dist-packages/pandas/io/parsers/readers.py\u001b[0m in \u001b[0;36m_make_engine\u001b[0;34m(self, engine)\u001b[0m\n\u001b[1;32m   1038\u001b[0m             )\n\u001b[1;32m   1039\u001b[0m         \u001b[0;31m# error: Too many arguments for \"ParserBase\"\u001b[0m\u001b[0;34m\u001b[0m\u001b[0;34m\u001b[0m\u001b[0;34m\u001b[0m\u001b[0m\n\u001b[0;32m-> 1040\u001b[0;31m         \u001b[0;32mreturn\u001b[0m \u001b[0mmapping\u001b[0m\u001b[0;34m[\u001b[0m\u001b[0mengine\u001b[0m\u001b[0;34m]\u001b[0m\u001b[0;34m(\u001b[0m\u001b[0mself\u001b[0m\u001b[0;34m.\u001b[0m\u001b[0mf\u001b[0m\u001b[0;34m,\u001b[0m \u001b[0;34m**\u001b[0m\u001b[0mself\u001b[0m\u001b[0;34m.\u001b[0m\u001b[0moptions\u001b[0m\u001b[0;34m)\u001b[0m  \u001b[0;31m# type: ignore[call-arg]\u001b[0m\u001b[0;34m\u001b[0m\u001b[0;34m\u001b[0m\u001b[0m\n\u001b[0m\u001b[1;32m   1041\u001b[0m \u001b[0;34m\u001b[0m\u001b[0m\n\u001b[1;32m   1042\u001b[0m     \u001b[0;32mdef\u001b[0m \u001b[0m_failover_to_python\u001b[0m\u001b[0;34m(\u001b[0m\u001b[0mself\u001b[0m\u001b[0;34m)\u001b[0m\u001b[0;34m:\u001b[0m\u001b[0;34m\u001b[0m\u001b[0;34m\u001b[0m\u001b[0m\n",
            "\u001b[0;32m/usr/local/lib/python3.7/dist-packages/pandas/io/parsers/c_parser_wrapper.py\u001b[0m in \u001b[0;36m__init__\u001b[0;34m(self, src, **kwds)\u001b[0m\n\u001b[1;32m     49\u001b[0m \u001b[0;34m\u001b[0m\u001b[0m\n\u001b[1;32m     50\u001b[0m         \u001b[0;31m# open handles\u001b[0m\u001b[0;34m\u001b[0m\u001b[0;34m\u001b[0m\u001b[0;34m\u001b[0m\u001b[0m\n\u001b[0;32m---> 51\u001b[0;31m         \u001b[0mself\u001b[0m\u001b[0;34m.\u001b[0m\u001b[0m_open_handles\u001b[0m\u001b[0;34m(\u001b[0m\u001b[0msrc\u001b[0m\u001b[0;34m,\u001b[0m \u001b[0mkwds\u001b[0m\u001b[0;34m)\u001b[0m\u001b[0;34m\u001b[0m\u001b[0;34m\u001b[0m\u001b[0m\n\u001b[0m\u001b[1;32m     52\u001b[0m         \u001b[0;32massert\u001b[0m \u001b[0mself\u001b[0m\u001b[0;34m.\u001b[0m\u001b[0mhandles\u001b[0m \u001b[0;32mis\u001b[0m \u001b[0;32mnot\u001b[0m \u001b[0;32mNone\u001b[0m\u001b[0;34m\u001b[0m\u001b[0;34m\u001b[0m\u001b[0m\n\u001b[1;32m     53\u001b[0m \u001b[0;34m\u001b[0m\u001b[0m\n",
            "\u001b[0;32m/usr/local/lib/python3.7/dist-packages/pandas/io/parsers/base_parser.py\u001b[0m in \u001b[0;36m_open_handles\u001b[0;34m(self, src, kwds)\u001b[0m\n\u001b[1;32m    227\u001b[0m             \u001b[0mmemory_map\u001b[0m\u001b[0;34m=\u001b[0m\u001b[0mkwds\u001b[0m\u001b[0;34m.\u001b[0m\u001b[0mget\u001b[0m\u001b[0;34m(\u001b[0m\u001b[0;34m\"memory_map\"\u001b[0m\u001b[0;34m,\u001b[0m \u001b[0;32mFalse\u001b[0m\u001b[0;34m)\u001b[0m\u001b[0;34m,\u001b[0m\u001b[0;34m\u001b[0m\u001b[0;34m\u001b[0m\u001b[0m\n\u001b[1;32m    228\u001b[0m             \u001b[0mstorage_options\u001b[0m\u001b[0;34m=\u001b[0m\u001b[0mkwds\u001b[0m\u001b[0;34m.\u001b[0m\u001b[0mget\u001b[0m\u001b[0;34m(\u001b[0m\u001b[0;34m\"storage_options\"\u001b[0m\u001b[0;34m,\u001b[0m \u001b[0;32mNone\u001b[0m\u001b[0;34m)\u001b[0m\u001b[0;34m,\u001b[0m\u001b[0;34m\u001b[0m\u001b[0;34m\u001b[0m\u001b[0m\n\u001b[0;32m--> 229\u001b[0;31m             \u001b[0merrors\u001b[0m\u001b[0;34m=\u001b[0m\u001b[0mkwds\u001b[0m\u001b[0;34m.\u001b[0m\u001b[0mget\u001b[0m\u001b[0;34m(\u001b[0m\u001b[0;34m\"encoding_errors\"\u001b[0m\u001b[0;34m,\u001b[0m \u001b[0;34m\"strict\"\u001b[0m\u001b[0;34m)\u001b[0m\u001b[0;34m,\u001b[0m\u001b[0;34m\u001b[0m\u001b[0;34m\u001b[0m\u001b[0m\n\u001b[0m\u001b[1;32m    230\u001b[0m         )\n\u001b[1;32m    231\u001b[0m \u001b[0;34m\u001b[0m\u001b[0m\n",
            "\u001b[0;32m/usr/local/lib/python3.7/dist-packages/pandas/io/common.py\u001b[0m in \u001b[0;36mget_handle\u001b[0;34m(path_or_buf, mode, encoding, compression, memory_map, is_text, errors, storage_options)\u001b[0m\n\u001b[1;32m    705\u001b[0m                 \u001b[0mencoding\u001b[0m\u001b[0;34m=\u001b[0m\u001b[0mioargs\u001b[0m\u001b[0;34m.\u001b[0m\u001b[0mencoding\u001b[0m\u001b[0;34m,\u001b[0m\u001b[0;34m\u001b[0m\u001b[0;34m\u001b[0m\u001b[0m\n\u001b[1;32m    706\u001b[0m                 \u001b[0merrors\u001b[0m\u001b[0;34m=\u001b[0m\u001b[0merrors\u001b[0m\u001b[0;34m,\u001b[0m\u001b[0;34m\u001b[0m\u001b[0;34m\u001b[0m\u001b[0m\n\u001b[0;32m--> 707\u001b[0;31m                 \u001b[0mnewline\u001b[0m\u001b[0;34m=\u001b[0m\u001b[0;34m\"\"\u001b[0m\u001b[0;34m,\u001b[0m\u001b[0;34m\u001b[0m\u001b[0;34m\u001b[0m\u001b[0m\n\u001b[0m\u001b[1;32m    708\u001b[0m             )\n\u001b[1;32m    709\u001b[0m         \u001b[0;32melse\u001b[0m\u001b[0;34m:\u001b[0m\u001b[0;34m\u001b[0m\u001b[0;34m\u001b[0m\u001b[0m\n",
            "\u001b[0;31mFileNotFoundError\u001b[0m: [Errno 2] No such file or directory: '/content/mass_samples/rs(0.0~1.5)num_99920.csv'"
          ]
        }
      ]
    }
  ]
}