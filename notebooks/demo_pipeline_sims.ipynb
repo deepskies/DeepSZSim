{
 "cells": [
  {
   "cell_type": "markdown",
   "metadata": {},
   "source": [
    "# Step-by-step tutorial for creating simulations using `simsz`"
   ]
  },
  {
   "cell_type": "markdown",
   "metadata": {},
   "source": [
    "Eve Vavagiakis et al., Last edited date"
   ]
  },
  {
   "cell_type": "markdown",
   "metadata": {},
   "source": [
    "This tutorial will provide instructions on how to create galaxy cluster simulations"
   ]
  },
  {
   "cell_type": "markdown",
   "metadata": {
    "id": "lOkPyRZEQWsm"
   },
   "source": [
    "## Imports"
   ]
  },
  {
   "cell_type": "code",
   "execution_count": null,
   "metadata": {
    "id": "lOkPyRZEQWsm"
   },
   "outputs": [],
   "source": [
    "from simsz import make_sz_cluster, dm_halo_dist\n",
    "\n",
    "import time\n",
    "import h5py"
   ]
  },
  {
   "cell_type": "markdown",
   "metadata": {
    "scrolled": true
   },
   "source": [
    "## Creating Simulations"
   ]
  },
  {
   "cell_type": "markdown",
   "metadata": {
    "scrolled": true
   },
   "source": [
    "Create a new flat redshift and virial mass distribution using the function `flastdist_halo` from `dm_halo_dist` which uses random uniform generation. "
   ]
  },
  {
   "cell_type": "code",
   "execution_count": 6,
   "metadata": {
    "scrolled": true
   },
   "outputs": [],
   "source": [
    "#Generate a new flat z, Mvir distribution and save to file: \n",
    "nsources=100 #Number of halos to generate\n",
    "zdist,mdist=dm_halo_dist.flatdist_halo(0.01,1.1,1e14,2e15,nsources) #Generate a flat z, Mvir distribution for sims"
   ]
  },
  {
   "cell_type": "markdown",
   "metadata": {
    "scrolled": true
   },
   "source": [
    "Save our simulated data to a h5 file titled `massdist.h5`. You can find this file in the outfiles folder."
   ]
  },
  {
   "cell_type": "code",
   "execution_count": 7,
   "metadata": {},
   "outputs": [],
   "source": [
    "sourceid=int(time.time()) #Create an initial ctime for the halo ID list to save catalog\n",
    "idlist=[sourceid+x for x in range(len(zdist))] #Create the halo ID list for catalog\n",
    "\n",
    "#Save this array to a h5 file\n",
    "data = h5py.File('massdist.h5', 'w')\n",
    "data.create_dataset('Redshift', data=zdist)\n",
    "data.create_dataset('Mass', data=mdist)\n",
    "data.create_dataset('id', data=idlist)\n",
    "data.close()"
   ]
  },
  {
   "cell_type": "markdown",
   "metadata": {},
   "source": [
    "We can simulate submaps using our mass and redshift distribution using the `simulate_submap` function from `make_sz_cluster`. This function returns an array of dicts with the following attributes (each dict contains the full information of each sim/cluster):\n",
    "- M200\n",
    "- R200\n",
    "- redshift_z\n",
    "- y_central\n",
    "- ID\n",
    "- cmb_map\n",
    "- noise_map\n",
    "- final_map"
   ]
  },
  {
   "cell_type": "code",
   "execution_count": null,
   "metadata": {},
   "outputs": [],
   "source": [
    "#This simulates submaps for a distribution, and saves the data to a h5 file, and params to a yaml file\n",
    "clusters = make_sz_cluster.simulate_submap(mdist, zdist)"
   ]
  },
  {
   "cell_type": "code",
   "execution_count": null,
   "metadata": {},
   "outputs": [],
   "source": []
  }
 ],
 "metadata": {
  "anaconda-cloud": {},
  "colab": {
   "provenance": []
  },
  "kernelspec": {
   "display_name": "Python 3 (ipykernel)",
   "language": "python",
   "name": "python3"
  },
  "language_info": {
   "codemirror_mode": {
    "name": "ipython",
    "version": 3
   },
   "file_extension": ".py",
   "mimetype": "text/x-python",
   "name": "python",
   "nbconvert_exporter": "python",
   "pygments_lexer": "ipython3",
   "version": "3.11.4"
  }
 },
 "nbformat": 4,
 "nbformat_minor": 4
}
