{
 "cells": [
  {
   "cell_type": "code",
   "execution_count": 17,
   "id": "8ab9a820",
   "metadata": {
    "scrolled": false
   },
   "outputs": [
    {
     "ename": "ModuleNotFoundError",
     "evalue": "No module named 'mass_sampling_functions_fin'",
     "output_type": "error",
     "traceback": [
      "\u001b[0;31m---------------------------------------------------------------------------\u001b[0m",
      "\u001b[0;31mModuleNotFoundError\u001b[0m                       Traceback (most recent call last)",
      "\u001b[0;32m<ipython-input-17-9ea91adb8421>\u001b[0m in \u001b[0;36m<module>\u001b[0;34m\u001b[0m\n\u001b[1;32m      1\u001b[0m \u001b[0;32mimport\u001b[0m \u001b[0msimulation\u001b[0m \u001b[0;32mas\u001b[0m \u001b[0msim\u001b[0m\u001b[0;34m\u001b[0m\u001b[0;34m\u001b[0m\u001b[0m\n\u001b[0;32m----> 2\u001b[0;31m \u001b[0;32mimport\u001b[0m \u001b[0mmass_sampling_functions_fin\u001b[0m \u001b[0;32mas\u001b[0m \u001b[0msim2\u001b[0m\u001b[0;34m\u001b[0m\u001b[0;34m\u001b[0m\u001b[0m\n\u001b[0m\u001b[1;32m      3\u001b[0m \u001b[0;32mimport\u001b[0m \u001b[0mnumpy\u001b[0m \u001b[0;32mas\u001b[0m \u001b[0mnp\u001b[0m\u001b[0;34m\u001b[0m\u001b[0;34m\u001b[0m\u001b[0m\n\u001b[1;32m      4\u001b[0m \u001b[0;32mimport\u001b[0m \u001b[0mos\u001b[0m\u001b[0;34m\u001b[0m\u001b[0;34m\u001b[0m\u001b[0m\n\u001b[1;32m      5\u001b[0m \u001b[0;32mimport\u001b[0m \u001b[0mshutil\u001b[0m\u001b[0;34m\u001b[0m\u001b[0;34m\u001b[0m\u001b[0m\n",
      "\u001b[0;31mModuleNotFoundError\u001b[0m: No module named 'mass_sampling_functions_fin'"
     ]
    }
   ],
   "source": [
    "import simulation as sim\n",
    "import mass_sampling_functions_fin as sim2\n",
    "import numpy as np\n",
    "import os\n",
    "import shutil\n",
    "import matplotlib.pyplot as plt\n",
    "import pandas as pd\n",
    "\n",
    "#Load Cosmology\n",
    "omega_m0, omega_b0, cosmo_h, sigma8, ns = sim.cosmo_para()\n",
    "\n",
    "#Prepare directory to store simulated images\n",
    "cwd = os.getcwd()\n",
    "directory = 'test'\n",
    "path = os.path.join(cwd, directory)\n",
    "shutil.rmtree(path)\n",
    "os.mkdir(path)\n",
    "\n",
    "#Select options for images\n",
    "# nums = np.arange(9) + 1\n",
    "nums = [8,9]\n",
    "\n",
    "\n",
    "# default inputs\n",
    "mass_range = (14.0, 16.0)\n",
    "redshift = 0.0 #float ex for func A \n",
    "#redshift = (0.0, 1.5) #tuple ex for func B\n",
    "sample_num = 100000\n",
    "mdef = '200c'\n",
    "model = 'bocquet16'\n",
    "\n",
    "if type(redshift) is float: \n",
    "    mass_sample = np.array([sim2.mass_sampling(mass_range, redshift, mdef, model, sample_num)])\n",
    "\n",
    "else:\n",
    "    rs_dist = \"skewnorm\"\n",
    "    mass_sample = []\n",
    "    tot_num, filepath, df = sim2.mul_redshift_mass_sampling(rs_dist, rs_range, mass_range, mdef, model, sample_num, store = True)\n",
    "    df_arr = df.to_numpy()\n",
    "\n",
    "    \n",
    "#Select Telescope and Observation Frequency\n",
    "tele = 'SPT'\n",
    "f = 150\n",
    "\n",
    "#Retrieve Observation-related Parameters\n",
    "beam_size, noise_level = sim.tele_para(tele, f)\n",
    "\n",
    "#Converting to correct scale\n",
    "f *= 1e9\n",
    "\n",
    "for i in range(tot_num):\n",
    "    z = df_arr[i, 1]\n",
    "    mass = df_arr[i, 0]\n",
    "    \n",
    "    radius = np.linspace(0.1, 9, 10)     #arcmin\n",
    "    new_r = sim.arcmin_to_Mpc(radius, z[i])\n",
    "    battaglia_pro = np.array([sim.battaglia_profile(r, mass, z) for r in new_r])\n",
    "    y_pro = sim.epp_to_y(battaglia_pro)\n",
    "    \n",
    "    abs_path = os.path.join(path, str(i))\n",
    "    sim.generate_img(radius, y_pro, f, noise_level, beam_size, z[i], nums, p = abs_path, AP = True)"
   ]
  },
  {
   "cell_type": "code",
   "execution_count": null,
   "id": "afda91ea",
   "metadata": {},
   "outputs": [],
   "source": []
  },
  {
   "cell_type": "code",
   "execution_count": null,
   "id": "0806fc26",
   "metadata": {},
   "outputs": [],
   "source": []
  },
  {
   "cell_type": "code",
   "execution_count": null,
   "id": "1730412c",
   "metadata": {},
   "outputs": [],
   "source": []
  },
  {
   "cell_type": "code",
   "execution_count": null,
   "id": "bc6b63cd",
   "metadata": {},
   "outputs": [],
   "source": []
  }
 ],
 "metadata": {
  "kernelspec": {
   "display_name": "Python 3",
   "language": "python",
   "name": "python3"
  },
  "language_info": {
   "codemirror_mode": {
    "name": "ipython",
    "version": 3
   },
   "file_extension": ".py",
   "mimetype": "text/x-python",
   "name": "python",
   "nbconvert_exporter": "python",
   "pygments_lexer": "ipython3",
   "version": "3.8.8"
  }
 },
 "nbformat": 4,
 "nbformat_minor": 5
}
