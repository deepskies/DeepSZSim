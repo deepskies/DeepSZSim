{
 "cells": [
  {
   "cell_type": "markdown",
   "metadata": {},
   "source": [
    "# Step-by-step tutorial for creating simulations using `simsz`"
   ]
  },
  {
   "cell_type": "markdown",
   "metadata": {},
   "source": [
    "Eve Vavagiakis et al., Last edited date"
   ]
  },
  {
   "cell_type": "markdown",
   "metadata": {},
   "source": [
    "This tutorial will provide instructions on how to create galaxy cluster simulations"
   ]
  },
  {
   "cell_type": "markdown",
   "metadata": {
    "id": "lOkPyRZEQWsm"
   },
   "source": [
    "## Imports"
   ]
  },
  {
   "cell_type": "code",
   "execution_count": 1,
   "metadata": {
    "id": "lOkPyRZEQWsm"
   },
   "outputs": [],
   "source": [
    "from simsz import make_sz_cluster, dm_halo_dist\n",
    "\n",
    "import time\n",
    "import h5py"
   ]
  },
  {
   "cell_type": "markdown",
   "metadata": {
    "scrolled": true
   },
   "source": [
    "## creating simulations by hand"
   ]
  },
  {
   "cell_type": "markdown",
   "metadata": {
    "scrolled": true
   },
   "source": [
    "Create a new flat redshift and virial mass distribution using the function `flastdist_halo` from `dm_halo_dist` which uses random uniform generation. "
   ]
  },
  {
   "cell_type": "code",
   "execution_count": 2,
   "metadata": {
    "scrolled": true
   },
   "outputs": [],
   "source": [
    "#Generate a new flat z, Mvir distribution and save to file: \n",
    "nsources=10 #Number of halos to generate\n",
    "zdist,mdist=dm_halo_dist.flatdist_halo(0.01,1.1,1e14,2e15,nsources) #Generate a flat z, Mvir distribution for sims"
   ]
  },
  {
   "cell_type": "markdown",
   "metadata": {
    "scrolled": true
   },
   "source": [
    "Save our simulated data to a h5 file titled `massdist.h5`. You can find this file in the outfiles folder."
   ]
  },
  {
   "cell_type": "code",
   "execution_count": 3,
   "metadata": {},
   "outputs": [],
   "source": [
    "sourceid=int(time.time()) #Create an initial ctime for the halo ID list to save catalog\n",
    "idlist=[sourceid+x for x in range(len(zdist))] #Create the halo ID list for catalog\n",
    "\n",
    "#Save this array to a h5 file\n",
    "data = h5py.File('massdist.h5', 'w')\n",
    "data.create_dataset('Redshift', data=zdist)\n",
    "data.create_dataset('Mass', data=mdist)\n",
    "data.create_dataset('id', data=idlist)\n",
    "data.close()"
   ]
  },
  {
   "cell_type": "markdown",
   "metadata": {},
   "source": [
    "We can simulate submaps using our mass and redshift distribution using the `simulate_submap` function from `make_sz_cluster`. This function returns an array of dicts with the following attributes (each dict contains the full information of each sim/cluster):\n",
    "- M200\n",
    "- R200\n",
    "- redshift_z\n",
    "- y_central\n",
    "- ID\n",
    "- cmb_map\n",
    "- noise_map\n",
    "- final_map"
   ]
  },
  {
   "cell_type": "code",
   "execution_count": 4,
   "metadata": {},
   "outputs": [],
   "source": [
    "#This simulates submaps for a distribution, and saves the data to a h5 file, and params to a yaml file\n",
    "clusters = make_sz_cluster.simulate_T_submaps(mdist, zdist)"
   ]
  },
  {
   "cell_type": "code",
   "execution_count": 5,
   "metadata": {},
   "outputs": [
    {
     "data": {
      "text/plain": [
       "10"
      ]
     },
     "execution_count": 5,
     "metadata": {},
     "output_type": "execute_result"
    }
   ],
   "source": [
    "len(clusters)"
   ]
  },
  {
   "cell_type": "markdown",
   "metadata": {},
   "source": [
    "## creating simulations automatically"
   ]
  },
  {
   "cell_type": "markdown",
   "metadata": {},
   "source": [
    "Alternately, we can do everything from soup to nuts with the `simulate_clusters` class"
   ]
  },
  {
   "cell_type": "code",
   "execution_count": 6,
   "metadata": {},
   "outputs": [
    {
     "name": "stdout",
     "output_type": "stream",
     "text": [
      "making 10 clusters uniformly sampled from 0.1<z<1.1, 1e13<M200<1e14\n"
     ]
    }
   ],
   "source": [
    "c10 = make_sz_cluster.simulate_clusters(num_halos = 10)"
   ]
  },
  {
   "cell_type": "code",
   "execution_count": 7,
   "metadata": {
    "scrolled": true
   },
   "outputs": [],
   "source": [
    "_ = c10.get_T_maps()"
   ]
  },
  {
   "cell_type": "markdown",
   "metadata": {},
   "source": [
    "This class instance populates an attribute named `clusters`, which is a dictionary. This dictionary is indexed by a run ID, and each of its values is itself a dictionary, which in turn contains two more dictionaries: `params` and `maps`"
   ]
  },
  {
   "cell_type": "code",
   "execution_count": 8,
   "metadata": {},
   "outputs": [
    {
     "data": {
      "text/plain": [
       "['8335864269041',\n",
       " '3612768891338',\n",
       " '6468438433084',\n",
       " '2779598627328',\n",
       " '6793228762617',\n",
       " '3588610311413',\n",
       " '5586119034728',\n",
       " '9415995993030',\n",
       " '6806946162090',\n",
       " '7369345445283']"
      ]
     },
     "execution_count": 8,
     "metadata": {},
     "output_type": "execute_result"
    }
   ],
   "source": [
    "k10 = list(c10.clusters.keys())\n",
    "k10"
   ]
  },
  {
   "cell_type": "code",
   "execution_count": 9,
   "metadata": {},
   "outputs": [
    {
     "data": {
      "text/plain": [
       "({'M200': 83358277836246.84,\n",
       "  'redshift_z': 0.6487973027165306,\n",
       "  'R200': 0.7493794632566557,\n",
       "  'image_size_pixels': 41,\n",
       "  'dT_central': -16.826445767117658},\n",
       " dict_keys(['CMB_map', 'conv_map', 'noise_map', 'final_map']))"
      ]
     },
     "execution_count": 9,
     "metadata": {},
     "output_type": "execute_result"
    }
   ],
   "source": [
    "c10.clusters[k10[0]]['params'], c10.clusters[k10[0]]['maps'].keys()"
   ]
  },
  {
   "cell_type": "markdown",
   "metadata": {},
   "source": [
    "this class instance has a `save_map` method that can save individual maps as specified, or all clusters into a single nested file with `nest_h5 = True`, or all clusters individually"
   ]
  },
  {
   "cell_type": "code",
   "execution_count": null,
   "metadata": {},
   "outputs": [],
   "source": [
    "# c10.save_map()"
   ]
  }
 ],
 "metadata": {
  "anaconda-cloud": {},
  "colab": {
   "provenance": []
  },
  "kernelspec": {
   "display_name": "Python 3 (ipykernel)",
   "language": "python",
   "name": "python3"
  },
  "language_info": {
   "codemirror_mode": {
    "name": "ipython",
    "version": 3
   },
   "file_extension": ".py",
   "mimetype": "text/x-python",
   "name": "python",
   "nbconvert_exporter": "python",
   "pygments_lexer": "ipython3",
   "version": "3.11.6"
  }
 },
 "nbformat": 4,
 "nbformat_minor": 4
}
