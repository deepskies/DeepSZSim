{
 "cells": [
  {
   "cell_type": "markdown",
   "metadata": {},
   "source": [
    "# Creating simulations using `simsz`"
   ]
  },
  {
   "cell_type": "markdown",
   "metadata": {},
   "source": [
    "This tutorial provides instructions on how to create galaxy cluster simulations with simsz. For a step-by-step guide to the functions included in the simulation, see 'demo_full_pipeline.ipynb'"
   ]
  },
  {
   "cell_type": "markdown",
   "metadata": {
    "id": "lOkPyRZEQWsm"
   },
   "source": [
    "## Imports"
   ]
  },
  {
   "cell_type": "code",
   "execution_count": 12,
   "metadata": {
    "id": "lOkPyRZEQWsm"
   },
   "outputs": [],
   "source": [
    "from simsz import make_sz_cluster, dm_halo_dist, visualization\n",
    "\n",
    "import time\n",
    "import h5py"
   ]
  },
  {
   "cell_type": "markdown",
   "metadata": {
    "scrolled": true
   },
   "source": [
    "## Creating simulations by hand"
   ]
  },
  {
   "cell_type": "markdown",
   "metadata": {
    "scrolled": true
   },
   "source": [
    "Create a new flat redshift and virial mass distribution using the function `flastdist_halo` from `dm_halo_dist` which uses random uniform generation. "
   ]
  },
  {
   "cell_type": "code",
   "execution_count": 3,
   "metadata": {
    "scrolled": true
   },
   "outputs": [],
   "source": [
    "#Generate a new flat z, Mvir distribution and save to file: \n",
    "nsources=10 #Number of halos to generate\n",
    "zdist,mdist=dm_halo_dist.flatdist_halo(0.01,1.1,1e14,2e15,nsources) #Generate a flat z, Mvir distribution for sims"
   ]
  },
  {
   "cell_type": "markdown",
   "metadata": {
    "scrolled": true
   },
   "source": [
    "Save our simulated data to a h5 file titled `massdist.h5`. You can find this file in the outfiles folder."
   ]
  },
  {
   "cell_type": "code",
   "execution_count": 4,
   "metadata": {},
   "outputs": [],
   "source": [
    "sourceid=int(time.time()) #Create an initial ctime for the halo ID list to save catalog\n",
    "idlist=[sourceid+x for x in range(len(zdist))] #Create the halo ID list for catalog\n",
    "\n",
    "#Save this array to a h5 file\n",
    "data = h5py.File('massdist.h5', 'w')\n",
    "data.create_dataset('Redshift', data=zdist)\n",
    "data.create_dataset('Mass', data=mdist)\n",
    "data.create_dataset('id', data=idlist)\n",
    "data.close()"
   ]
  },
  {
   "cell_type": "markdown",
   "metadata": {},
   "source": [
    "We can now simulate submaps using our mass and redshift distribution using the `simulate_T_submaps` function from `make_sz_cluster`. This function returns an array of dicts with the following attributes (each dict contains the full information of each sim/cluster):\n",
    "- M200\n",
    "- R200\n",
    "- redshift_z\n",
    "- y_central\n",
    "- ID\n",
    "- cmb_map\n",
    "- noise_map\n",
    "- final_map"
   ]
  },
  {
   "cell_type": "code",
   "execution_count": 5,
   "metadata": {},
   "outputs": [],
   "source": [
    "#This simulates submaps for a distribution, and saves the data to a h5 file, and params to a yaml file\n",
    "clusters = make_sz_cluster.simulate_T_submaps(mdist, zdist)"
   ]
  },
  {
   "cell_type": "code",
   "execution_count": 6,
   "metadata": {},
   "outputs": [
    {
     "data": {
      "text/plain": [
       "10"
      ]
     },
     "execution_count": 6,
     "metadata": {},
     "output_type": "execute_result"
    }
   ],
   "source": [
    "len(clusters)"
   ]
  },
  {
   "cell_type": "markdown",
   "metadata": {},
   "source": [
    "## Creating simulations automatically"
   ]
  },
  {
   "cell_type": "markdown",
   "metadata": {},
   "source": [
    "Alternately, we can do everything from soup to nuts with the `simulate_clusters` class"
   ]
  },
  {
   "cell_type": "code",
   "execution_count": 7,
   "metadata": {},
   "outputs": [
    {
     "name": "stdout",
     "output_type": "stream",
     "text": [
      "making 10 clusters uniformly sampled from 0.1<z<1.1, 1e13<M200<1e14\n"
     ]
    }
   ],
   "source": [
    "c10 = make_sz_cluster.simulate_clusters(num_halos = 10)"
   ]
  },
  {
   "cell_type": "code",
   "execution_count": 8,
   "metadata": {
    "scrolled": true
   },
   "outputs": [],
   "source": [
    "_ = c10.get_T_maps()"
   ]
  },
  {
   "cell_type": "markdown",
   "metadata": {},
   "source": [
    "This class instance populates an attribute named `clusters`, which is a dictionary. This dictionary is indexed by a run ID, and each of its values is itself a dictionary, which in turn contains two more dictionaries: `params` and `maps`"
   ]
  },
  {
   "cell_type": "code",
   "execution_count": 9,
   "metadata": {},
   "outputs": [
    {
     "data": {
      "text/plain": [
       "['2929185230415',\n",
       " '8166053943974',\n",
       " '4324092373871',\n",
       " '7218951300326',\n",
       " '2957515015489',\n",
       " '5810913743778',\n",
       " '8901110452670',\n",
       " '1800984432667',\n",
       " '1902550790967',\n",
       " '1234020557660']"
      ]
     },
     "execution_count": 9,
     "metadata": {},
     "output_type": "execute_result"
    }
   ],
   "source": [
    "k10 = list(c10.clusters.keys())\n",
    "k10"
   ]
  },
  {
   "cell_type": "code",
   "execution_count": 10,
   "metadata": {},
   "outputs": [
    {
     "data": {
      "text/plain": [
       "({'M200': 29291161006598.246,\n",
       "  'redshift_z': 0.858022313083029,\n",
       "  'R200': 0.5519690131335071,\n",
       "  'image_size_pixels': 41,\n",
       "  'dT_central': -5.629703822646769},\n",
       " dict_keys(['CMB_map', 'conv_map', 'noise_map', 'final_map']))"
      ]
     },
     "execution_count": 10,
     "metadata": {},
     "output_type": "execute_result"
    }
   ],
   "source": [
    "c10.clusters[k10[0]]['params'], c10.clusters[k10[0]]['maps'].keys()"
   ]
  },
  {
   "cell_type": "markdown",
   "metadata": {},
   "source": [
    "this class instance has a `save_map` method that can save individual maps as specified, or all clusters into a single nested file with `nest_h5 = True`, or all clusters individually"
   ]
  },
  {
   "cell_type": "code",
   "execution_count": null,
   "metadata": {},
   "outputs": [],
   "source": [
    "# c10.save_map()"
   ]
  }
 ],
 "metadata": {
  "anaconda-cloud": {},
  "colab": {
   "provenance": []
  },
  "kernelspec": {
   "display_name": "Python 3 (ipykernel)",
   "language": "python",
   "name": "python3"
  },
  "language_info": {
   "codemirror_mode": {
    "name": "ipython",
    "version": 3
   },
   "file_extension": ".py",
   "mimetype": "text/x-python",
   "name": "python",
   "nbconvert_exporter": "python",
   "pygments_lexer": "ipython3",
   "version": "3.11.4"
  }
 },
 "nbformat": 4,
 "nbformat_minor": 4
}
