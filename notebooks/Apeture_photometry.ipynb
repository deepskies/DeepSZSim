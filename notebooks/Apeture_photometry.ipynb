{
 "cells": [
  {
   "cell_type": "code",
   "execution_count": 1,
   "id": "00f46024",
   "metadata": {},
   "outputs": [],
   "source": [
    "import simulation as sim\n",
    "import numpy as np"
   ]
  },
  {
   "cell_type": "code",
   "execution_count": 2,
   "id": "d471bed0",
   "metadata": {},
   "outputs": [
    {
     "name": "stdout",
     "output_type": "stream",
     "text": [
      "Deleted outdated persistence file, no further action needed.\n",
      "Deleted outdated persistence file, no further action needed.\n",
      "Deleted outdated persistence file, no further action needed.\n",
      "Deleted outdated persistence file, no further action needed.\n",
      "Deleted outdated persistence file, no further action needed.\n",
      "Deleted outdated persistence file, no further action needed.\n",
      "Deleted outdated persistence file, no further action needed.\n",
      "Deleted outdated persistence file, no further action needed.\n",
      "Deleted outdated persistence file, no further action needed.\n",
      "Deleted outdated persistence file, no further action needed.\n",
      "Deleted outdated persistence file, no further action needed.\n"
     ]
    }
   ],
   "source": [
    "omega_m0, omega_b0, cosmo_h = sim.cosmo_para()\n",
    "\n",
    "Mass, z, tele, f = sim.img_para(1)\n",
    "Mass *= 1e13\n",
    "\n",
    "beam_size, noise_level = sim.tele_para(tele, f)\n",
    "f *= 1e9\n",
    "\n",
    "radius_in = 2.1 #arcmin \n",
    "radius_out = np.sqrt(2) * radius_in\n",
    "\n",
    "radius = np.linspace(0.1, 2, 10)\n",
    "rho_critical = sim.rho_cri(z, cosmo_h, omega_m0)\n",
    "battaglia_pro = np.array([sim.battaglia_profile(r, Mass, z, rho_critical, omega_b0, omega_m0, cosmo_h) for r in np.linspace(0.1, 2, 10)])\n",
    "y_pro = sim.epp_to_y(battaglia_pro)"
   ]
  },
  {
   "cell_type": "markdown",
   "id": "e7f25f0c",
   "metadata": {},
   "source": [
    "\n",
    "# Calculation of the tSZ signal for the Compton Y profile of a galaxy cluster"
   ]
  },
  {
   "cell_type": "code",
   "execution_count": null,
   "id": "1d45bc2d",
   "metadata": {},
   "outputs": [],
   "source": [
    "def tSZ_signal(radius,rin,rout,profile,f,noise_level,beam_size,z,maxRadius=0.5,pixel_scale=0.005):\n",
    "    \n",
    "    # Compton Y map\n",
    "    compton_Y = sim.generate_img(radius, y_pro, f, noise_level, beam_size, z, y_n = True, ap = True)\n",
    "    \n",
    "    # distance from the center map (in Mpc)\n",
    "    image_size = np.int_(np.round(maxRadius*2/pixel_scale)/2+1)\n",
    "    x,y=np.meshgrid(np.arange(image_size),np.arange(image_size))\n",
    "    distance = np.sqrt((x-image_size//2)**2+(y-image_size//2)**2)*pixel_scale\n",
    "    \n",
    "    # distance from the center map (in arcmin)\n",
    "    arcMin_distance = sim.Mpc_to_arcmin(distance, z)\n",
    "\n",
    "    # tSZ signal calculation\n",
    "    disk_mean = compton_Y[arcMin_distance < rin].mean()\n",
    "    ring_mean = compton_Y[(arcMin_distance >= rin) & (arcMin_distance < rout)].mean()\n",
    "    tSZ = disk_mean - ring_mean\n",
    "    \n",
    "    return tSZ"
   ]
  },
  {
   "cell_type": "code",
   "execution_count": 15,
   "id": "2cab47ac",
   "metadata": {},
   "outputs": [
    {
     "data": {
      "text/plain": [
       "4.8275751160672394e-05"
      ]
     },
     "execution_count": 15,
     "metadata": {},
     "output_type": "execute_result"
    }
   ],
   "source": [
    "tSZ_signal(radius, radius_in, radius_out, y_pro, f, noise_level, beam_size, z)"
   ]
  },
  {
   "cell_type": "markdown",
   "id": "9245568a",
   "metadata": {},
   "source": [
    "# Next: Disk and ring aperture visualization"
   ]
  },
  {
   "cell_type": "code",
   "execution_count": null,
   "id": "8b2cc0fa",
   "metadata": {},
   "outputs": [],
   "source": []
  }
 ],
 "metadata": {
  "kernelspec": {
   "display_name": "Python 3 (ipykernel)",
   "language": "python",
   "name": "python3"
  },
  "language_info": {
   "codemirror_mode": {
    "name": "ipython",
    "version": 3
   },
   "file_extension": ".py",
   "mimetype": "text/x-python",
   "name": "python",
   "nbconvert_exporter": "python",
   "pygments_lexer": "ipython3",
   "version": "3.8.5"
  }
 },
 "nbformat": 4,
 "nbformat_minor": 5
}
