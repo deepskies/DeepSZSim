{
 "cells": [
  {
   "cell_type": "code",
   "execution_count": 1,
   "id": "d6b728c7",
   "metadata": {},
   "outputs": [],
   "source": [
    "import numpy as np\n",
    "import os\n",
    "from scipy import interpolate\n",
    "from scipy.interpolate import UnivariateSpline, InterpolatedUnivariateSpline, interp1d\n",
    "from astropy.cosmology import FlatLambdaCDM\n",
    "from colossus.cosmology import cosmology\n",
    "from colossus.halo import mass_adv\n",
    "import matplotlib.pyplot as plt\n",
    "import matplotlib as mpl\n",
    "import yaml\n",
    "from yaml.loader import SafeLoader\n",
    "mpl.style.use('default')\n",
    "\n",
    "# Constants\n",
    "G = 6.6743e-11        #m^3/Kg/s^2\n",
    "m_sun = 1.98847e30       #Kg\n",
    "Thomson_sec = 6.65246e-29       #m^2\n",
    "m_electron = 9.11e-31        #Kg\n",
    "c = 299792458     #m/s\n",
    "Mpc_to_m = 3.09e22\n",
    "kevcm_to_jm = 1.6e-16 * 1e6\n",
    "\n",
    "def img_para(num):\n",
    "    with open('generate.yaml') as f:\n",
    "        data = yaml.load(f, Loader=SafeLoader)\n",
    "        data = data[num]\n",
    "        mass = data['mass']\n",
    "        z = data['redshift']\n",
    "        tele = data['telescope']\n",
    "        f = data['frequency']\n",
    "    return mass, z, tele, f\n",
    "\n",
    "def cosmo_para():\n",
    "    with open('config.yaml') as f:\n",
    "        data = yaml.load(f, Loader=SafeLoader)\n",
    "        cosmo = data['COSMOLOGY']\n",
    "        omega_m = cosmo['Omega_m0']\n",
    "        omega_b = cosmo['Omega_b0']\n",
    "        h = cosmo['cosmo_h']\n",
    "    return omega_m, omega_b, h\n",
    "\n",
    "def tele_para(tele, fre):\n",
    "    with open('config.yaml') as f:\n",
    "        data = yaml.load(f, Loader=SafeLoader)\n",
    "        telescope = data[tele]\n",
    "        telescope_f = telescope[str(fre)+'GHz']\n",
    "        beam_size = telescope_f['beam_size']\n",
    "        noise_level = telescope_f['noise_level']\n",
    "    return beam_size, noise_level\n",
    "\n",
    "def rho_cri(z, cosmo_h, omega_m):\n",
    "    '''\n",
    "    Return Unit: msolar / MPC\n",
    "    '''\n",
    "    a = 1. + z\n",
    "    omega_d = 1 - omega_m\n",
    "    H_0 = cosmo_h * 100 / (3.09e19)        #Unit of 1/s\n",
    "    return (3 * H_0 ** 2)/(8 * np.pi * G) * (omega_m * a ** 3 + omega_d) / m_sun * Mpc_to_m ** 3\n",
    "\n",
    "def battaglia_profile(r, Mvir, z, rho_critical, omega_b0, omega_m0, cosmo_h):\n",
    "    '''\n",
    "    Using Battaglia et al (2012). Eq. 10. \n",
    "    Input: M200 in solar mass and R200 in Mpc\n",
    "    Return: Pressure profile in keV/cm^3 at radius r\n",
    "    '''\n",
    "    params = {'flat': True, 'H0': 70, 'Om0': 0.27, 'Ob0': 0.044, 'sigma8': 0.80, 'ns': 0.95}\n",
    "    cosmology.addCosmology('myCosmo', **params)\n",
    "    cosmo = cosmology.setCosmology('myCosmo')\n",
    "    #Option to customize concentration, currently default, using Bullock et al. (2001)\n",
    "    #cvir = concentration.concentration(Mvir, 'vir', z, model = 'ishiyama21')      #Ishiyama et al. (2021)\n",
    "    M200, R200, c200 = mass_adv.changeMassDefinitionCModel(Mvir/cosmo_h, z, 'vir', '200c')\n",
    "    M200 *= cosmo_h\n",
    "    R200 = R200 / 1000 * cosmo_h\n",
    "    \n",
    "    R200 *= (1. + z)                            # Proper distance to Comoving distance\n",
    "    x = r / R200\n",
    "    msolar = 1.9889e30                          # kg\n",
    "    mpc2cm = 3.0856e24\n",
    "    G = 4.3e-9                                  # Mpc Mo^-1 (km/s)^2 \n",
    "    alpha = 1.0\n",
    "    gamma = -0.3\n",
    "    P200 = 200. * rho_critical * omega_b0 * G * M200 / omega_m0 / 2. / (R200 / (1. + z))    # Msun km^2 / Mpc^3 / s^2\n",
    "\n",
    "    P0 = 18.1 * ((M200 / 1e14)**0.154 * (1. + z)**-0.758)\n",
    "    xc = 0.497 * ((M200 / 1e14)**-0.00865 * (1. + z)**0.731)\n",
    "    beta = 4.35 * ((M200 / 1e14)**0.0393 * (1. + z)**0.415) \n",
    "    pth = P200 * P0 * (x / xc)**gamma * (1. + (x/xc))**(-1. * beta)      # Msun km^2 / Mpc^3 / s^2\n",
    "\n",
    "    pth *= (msolar * 6.24e15 * 1e6 / mpc2cm**3)       # keV/cm^3\n",
    "    p_e = pth * 0.518       # Vikram et al (2016)\n",
    "    return p_e\n",
    "\n",
    "def epp_to_y(profile):\n",
    "    '''\n",
    "    Input: Electron pressure profile\n",
    "    Return: Compton-y profile\n",
    "    '''\n",
    "    constant = Thomson_sec / m_electron / (c ** 2)         #s^2/kg\n",
    "    new_battaglia = profile * kevcm_to_jm\n",
    "    y_pro = new_battaglia * constant * Mpc_to_m\n",
    "    return y_pro\n",
    "\n",
    "def make_proj_image_new(radius, profile,maxRadius=0.5,pixel_scale=0.005,extrapolate=False):\n",
    "    '''\n",
    "    Input: Profile as function of Radius, maxRadius (default to 0.5) & pixel_scale (default to 0.005) in Mpc\n",
    "    Return: 2D profile\n",
    "    '''\n",
    "    image_size = np.int_(np.round(maxRadius*2/pixel_scale)/2+1)\n",
    "\n",
    "    if extrapolate:\n",
    "        profile_spline = interp1d(radius, profile, kind = 3, bounds_error=False, fill_value=\"extrapolate\")\n",
    "    else:\n",
    "        profile_spline = interp1d(radius, profile, bounds_error=False)\n",
    "\n",
    "    x,y=np.meshgrid(np.arange(image_size),np.arange(image_size))\n",
    "    r = np.sqrt((x-image_size//2)**2+(y-image_size//2)**2)*pixel_scale\n",
    "    image = profile_spline(r)\n",
    "    return image\n",
    "    \n",
    "def f_sz(f, T_CMB):\n",
    "    '''\n",
    "    Input: Observation frequency f, Temperature of cmb T_CMB\n",
    "    Return: Radiation frequency\n",
    "    '''\n",
    "    planck_const = 6.626e-34         #m^2 kg/s\n",
    "    boltzman_const = 1.38e-23\n",
    "    x = planck_const * f / boltzman_const / T_CMB\n",
    "    return x * (np.exp(x) + 1) / (np.exp(x) - 1) - 4\n",
    "\n",
    "def Mpc_to_arcmin(r, z):\n",
    "    '''\n",
    "    Input: distance r, redshift\n",
    "    Return: angular scale\n",
    "    '''\n",
    "    cosmo = FlatLambdaCDM(H0=70, Om0=0.27)\n",
    "    Kpc_per_arcmin = cosmo.kpc_comoving_per_arcmin(z).value\n",
    "    Mpc_per_arcmin = Kpc_per_arcmin/1000\n",
    "    return r / Mpc_per_arcmin\n",
    "\n",
    "def plot_img(image, z, mode = 1, cmb = 0, save = False, path = None):\n",
    "    '''\n",
    "    Input: image, mode (option of 0.5/5 Mpc, default to 0.5), cmb (option of y/delta_T, default to y)\n",
    "    Return: angular scale\n",
    "    '''\n",
    "    if mode:    # 0.5 Mpc\n",
    "        values = [-0.4, -0.2, 0, 0.2, 0.4]\n",
    "        e = [-0.5, 0.5, -0.5, 0.5]\n",
    "    else:   # 5 Mpc\n",
    "        values = [-4, -2, 0, 2, 4]\n",
    "        e = [-5, 5, -5, 5]\n",
    "    if cmb:\n",
    "        option = 'ocean'\n",
    "        title = '$\\Delta$T'\n",
    "        cbar_label = r'$uK$'\n",
    "    else:\n",
    "        option = 'hot'\n",
    "        title = 'Y'\n",
    "        cbar_label = r'$Y$'\n",
    "        if mode == 0:\n",
    "            cbar_label = r'$\\log_{10}Y$'\n",
    "    fig, ax = plt.subplots(1,1)\n",
    "    img = ax.imshow(image, cmap=option, extent = e)\n",
    "    x_label_list = Mpc_to_arcmin(values, z)\n",
    "    x_label_list = np.around(x_label_list, decimals = 2)\n",
    "    ax.set_xticks(values)\n",
    "    ax.set_xticklabels(x_label_list)\n",
    "    cbar = fig.colorbar(img)\n",
    "    cbar.ax.set_ylabel(cbar_label)\n",
    "    plt.title(title)\n",
    "    plt.xlabel('arcmin')\n",
    "    plt.ylabel(r'Mpc')\n",
    "    if save:\n",
    "        plt.savefig(path)\n",
    "    \n",
    "def plot_y(r, y):\n",
    "    '''\n",
    "    Input: profile as function of radius\n",
    "    Return: visulization (non-log & log scale)\n",
    "    '''\n",
    "    fig,ax = plt.subplots(1,2,figsize = (12,5))\n",
    "    plt.subplots_adjust(wspace = 0.3)\n",
    "    ax[0].plot(r, y, color = \"red\", label = \"non-log\")\n",
    "    ax[0].set_xlabel(\"Mpc\")\n",
    "    ax[0].set_ylabel(r'Mpc$^{-1}$')\n",
    "    ax[0].title.set_text(\"Y z=\"+str(z))\n",
    "    ax[1].loglog(r, y, color = \"blue\", label = \"log\")\n",
    "    ax[1].set_xlabel(\"Mpc\")\n",
    "    ax[1].set_ylabel(r'Mpc$^{-1}$')\n",
    "    ax[1].title.set_text(\"Y(Log) z=\"+str(z))\n",
    "    plt.show()\n",
    "    \n",
    "def generate_img(radius, profile, f, noise_level, z, plain_y = False, Mpc5 = False, Mpc = False, cmb = False, cmb_n = False, y_n = False, s = False, p = None):\n",
    "    if plain_y:\n",
    "        plot_y(radius, profile)\n",
    "    if Mpc5:\n",
    "        log_image = make_proj_image_new(radius,np.log10(y_pro),maxRadius=5,pixel_scale=0.05,extrapolate=True)\n",
    "        plot_img(log_image, z, mode = 0, save = s, path = p)\n",
    "    \n",
    "    y_img = make_proj_image_new(radius,profile,extrapolate=True)\n",
    "    \n",
    "    t_cmb = 2.725            #K\n",
    "    fsz = f_sz(f, t_cmb)\n",
    "    cmb_img = y_img * fsz * t_cmb * 1e6\n",
    "    \n",
    "    noise = np.random.normal(0, 1, (101,101)) * noise_level\n",
    "    CMB_noise = cmb_img + noise\n",
    "    \n",
    "    y_noise = CMB_noise / fsz / t_cmb / 1e6\n",
    "    \n",
    "    if Mpc:\n",
    "        plot_img(y_img, z, save = s, path = p)\n",
    "    if cmb:\n",
    "        plot_img(cmb_img, z, cmb = 1, save = s, path = p)\n",
    "    if cmb_n:\n",
    "        plot_img(CMB_noise, z, cmb = 1, save = s, path = p)\n",
    "    if y_n:\n",
    "        plot_img(y_noise, z, save = s, path = p)"
   ]
  },
  {
   "cell_type": "markdown",
   "id": "997f4bac",
   "metadata": {},
   "source": [
    "### Varable Inputs"
   ]
  },
  {
   "cell_type": "markdown",
   "id": "4fcb3778",
   "metadata": {},
   "source": [
    "Electron Pressure Profile evaluated at given Radius of galaxy cluster defined by Mass and Redshift"
   ]
  },
  {
   "cell_type": "code",
   "execution_count": 2,
   "id": "f133e48f",
   "metadata": {
    "pycharm": {
     "name": "#%%\n"
    }
   },
   "outputs": [
    {
     "name": "stdout",
     "output_type": "stream",
     "text": [
      "Deleted outdated persistence file, no further action needed.\n",
      "Deleted outdated persistence file, no further action needed.\n",
      "Deleted outdated persistence file, no further action needed.\n",
      "Deleted outdated persistence file, no further action needed.\n",
      "Deleted outdated persistence file, no further action needed.\n",
      "Deleted outdated persistence file, no further action needed.\n",
      "Deleted outdated persistence file, no further action needed.\n",
      "Deleted outdated persistence file, no further action needed.\n",
      "Deleted outdated persistence file, no further action needed.\n",
      "Deleted outdated persistence file, no further action needed.\n",
      "Deleted outdated persistence file, no further action needed.\n"
     ]
    }
   ],
   "source": [
    "# Load Cosmology\n",
    "omega_m0, omega_b0, cosmo_h = cosmo_para()\n",
    "\n",
    "# Load image parameters\n",
    "Mass, z, tele, f = img_para(1)\n",
    "Mass *= 1e13\n",
    "\n",
    "# Load telescope parameters\n",
    "beam_size, noise_level = tele_para(tele, f)\n",
    "f *= 1e9\n",
    "\n",
    "radius = np.linspace(0.1, 2, 10)\n",
    "rho_critical = rho_cri(z, cosmo_h, omega_m0)\n",
    "\n",
    "# Generate electron pressure profile \n",
    "battaglia_pro = np.array([battaglia_profile(r, Mass, z, rho_critical, omega_b0, omega_m0, cosmo_h) for r in np.linspace(0.1, 2, 10)])"
   ]
  },
  {
   "cell_type": "markdown",
   "id": "41052b5b",
   "metadata": {},
   "source": [
    "Mapping to Compton-Y Profile"
   ]
  },
  {
   "cell_type": "code",
   "execution_count": 3,
   "id": "31d44452",
   "metadata": {
    "pycharm": {
     "name": "#%%\n"
    }
   },
   "outputs": [],
   "source": [
    "y_pro = epp_to_y(battaglia_pro)"
   ]
  },
  {
   "cell_type": "markdown",
   "id": "1cdd296f",
   "metadata": {},
   "source": [
    "## Ploting Options "
   ]
  },
  {
   "cell_type": "markdown",
   "id": "37470748",
   "metadata": {},
   "source": [
    "### Plain Y"
   ]
  },
  {
   "cell_type": "markdown",
   "id": "62b1a873",
   "metadata": {},
   "source": [
    "Visulization of Compton-Y profile with respect to radius"
   ]
  },
  {
   "cell_type": "code",
   "execution_count": 4,
   "id": "b5ac77c9",
   "metadata": {},
   "outputs": [],
   "source": [
    "# generate_img(radius, y_pro, f, noise_level, z, plain_y = True)"
   ]
  },
  {
   "cell_type": "markdown",
   "id": "3cef03e9",
   "metadata": {},
   "source": [
    "### Mpc 5"
   ]
  },
  {
   "cell_type": "markdown",
   "id": "8fd1e371",
   "metadata": {},
   "source": [
    "2D Image of Compton-Y within the range of 5 Mpc (log-scaled)"
   ]
  },
  {
   "cell_type": "code",
   "execution_count": 5,
   "id": "808b1416",
   "metadata": {},
   "outputs": [],
   "source": [
    "# generate_img(radius, y_pro, f, noise_level, z, Mpc5 = True)"
   ]
  },
  {
   "cell_type": "markdown",
   "id": "36abc9f0",
   "metadata": {},
   "source": [
    "### Mpc 0.5"
   ]
  },
  {
   "cell_type": "markdown",
   "id": "3fa25d93",
   "metadata": {},
   "source": [
    "2D Image of Compton-Y within the range of 0.5 Mpc"
   ]
  },
  {
   "cell_type": "code",
   "execution_count": 6,
   "id": "aef70f43",
   "metadata": {},
   "outputs": [],
   "source": [
    "# generate_img(radius, y_pro, f, noise_level, z, Mpc = True)"
   ]
  },
  {
   "cell_type": "markdown",
   "id": "74768e21",
   "metadata": {},
   "source": [
    "### CMB "
   ]
  },
  {
   "cell_type": "markdown",
   "id": "dea6a4b8",
   "metadata": {},
   "source": [
    "CMB Temperature Decrement (at 150 GHz) (scaled to uK)"
   ]
  },
  {
   "cell_type": "code",
   "execution_count": 7,
   "id": "e5e5c495",
   "metadata": {},
   "outputs": [],
   "source": [
    "# generate_img(radius, y_pro, f, noise_level, z, cmb = True)"
   ]
  },
  {
   "cell_type": "markdown",
   "id": "1a67c0d3",
   "metadata": {},
   "source": [
    "### CMB with noise"
   ]
  },
  {
   "cell_type": "markdown",
   "id": "af82fbd7",
   "metadata": {},
   "source": [
    "CMB Temperature Decrement with Gaussian noise"
   ]
  },
  {
   "cell_type": "code",
   "execution_count": 8,
   "id": "cdfc3434",
   "metadata": {},
   "outputs": [],
   "source": [
    "# generate_img(radius, y_pro, f, noise_level, z, cmb_n = True)"
   ]
  },
  {
   "cell_type": "markdown",
   "id": "63a5df8c",
   "metadata": {},
   "source": [
    "### Compton-Y with noise"
   ]
  },
  {
   "cell_type": "markdown",
   "id": "e6a432e0",
   "metadata": {},
   "source": [
    "Reverse mapping back to Compton-Y"
   ]
  },
  {
   "cell_type": "code",
   "execution_count": 9,
   "id": "fd4256bf",
   "metadata": {},
   "outputs": [],
   "source": [
    "cwd = os.getcwd()\n",
    "directory = 'test'\n",
    "img = '1.png'\n",
    "path = os.path.join(cwd, directory)\n",
    "os.mkdir(path)\n",
    "abs_path = os.path.join(path, img)"
   ]
  },
  {
   "cell_type": "code",
   "execution_count": 10,
   "id": "7ebb54a4",
   "metadata": {},
   "outputs": [
    {
     "name": "stdout",
     "output_type": "stream",
     "text": [
      "User Current Version:- 3.9.7 (default, Sep 16 2021, 08:50:36) \n",
      "[Clang 10.0.0 ]\n"
     ]
    }
   ],
   "source": [
    "generate_img(radius, y_pro, f, noise_level, z, y_n = True, s = True, p = abs_path)"
   ]
  },
  {
   "cell_type": "code",
   "execution_count": null,
   "id": "107dac55",
   "metadata": {},
   "outputs": [],
   "source": []
  }
 ],
 "metadata": {
  "kernelspec": {
   "display_name": "Python 3 (ipykernel)",
   "language": "python",
   "name": "python3"
  },
  "language_info": {
   "codemirror_mode": {
    "name": "ipython",
    "version": 3
   },
   "file_extension": ".py",
   "mimetype": "text/x-python",
   "name": "python",
   "nbconvert_exporter": "python",
   "pygments_lexer": "ipython3",
   "version": "3.8.5"
  }
 },
 "nbformat": 4,
 "nbformat_minor": 5
}
