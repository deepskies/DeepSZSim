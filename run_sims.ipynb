{
  "nbformat": 4,
  "nbformat_minor": 0,
  "metadata": {
    "colab": {
      "provenance": []
    },
    "kernelspec": {
      "name": "python3",
      "display_name": "Python 3"
    },
    "language_info": {
      "name": "python"
    }
  },
  "cells": [
    {
      "cell_type": "code",
      "execution_count": null,
      "metadata": {
        "id": "lOkPyRZEQWsm"
      },
      "outputs": [],
      "source": [
        "import GenerateHalo.py as GenH\n",
        "import GenerateCluster.py as GenC\n",
        "import visualization.py as vis\n",
        "import numpy as np\n",
        "import os\n",
        "import shutil\n",
        "import matplotlib.pyplot as plt\n",
        "\n",
        "print('This is a test notebook')"
      ]
    }
  ]
}