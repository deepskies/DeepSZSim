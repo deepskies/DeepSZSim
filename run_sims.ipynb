import GenerateHalo.py as GenH
import GenerateCluster.py as GenC
import visualization.py as vis
import numpy as np
import os
import shutil
import matplotlib.pyplot as plt

print('This is a test notebook')
