{
 "cells": [
  {
   "cell_type": "code",
   "execution_count": 1,
   "id": "fb71b091",
   "metadata": {},
   "outputs": [],
   "source": [
    "import h5py\n",
    "import simulation2 as sim\n",
    "import numpy as np\n",
    "import pandas as pd\n",
    "\n",
    "def generate_h5(location, name):\n",
    "    catalog = h5py.File(location, 'r')\n",
    "    \n",
    "    dID = catalog['ID']\n",
    "    dM200 = catalog['M200']\n",
    "    dM500 = catalog['M500']\n",
    "    dNoise = catalog['Noise Map']\n",
    "    dR200 = catalog['R200']\n",
    "    dRedshift = catalog['Redshift']\n",
    "    dTempSubmap = catalog['Temperature Submap']\n",
    "    dc200 = catalog['c200']\n",
    "    \n",
    "    # Store data in numpy arrays\n",
    "    dataID = dID[:]\n",
    "    dataM200 = dM200[:]\n",
    "    dataM500 = dM500[:]\n",
    "    dataNoise = dNoise[:]\n",
    "    dataR200 = dR200[:]\n",
    "    dataRedshift = dRedshift[:]\n",
    "    dataTempSubmap = dTempSubmap[:]\n",
    "    datac200 = dc200[:]\n",
    "    \n",
    "    omega_m0 = catalog.attrs['omega_m0']\n",
    "    omega_b0 = catalog.attrs['omega_b0']\n",
    "    cosmo_h = catalog.attrs['cosmo_h']\n",
    "    sigma8 = catalog.attrs['sigma8']\n",
    "    ns = catalog.attrs['ns']\n",
    "    tele = catalog.attrs['telescope']\n",
    "    f = catalog.attrs['frequency']\n",
    "    beam_size = catalog.attrs['Beam Size']\n",
    "    noise_level = catalog.attrs['Noise Level']\n",
    "    rad = catalog.attrs['Random Seed']\n",
    "    filepath = catalog.attrs['Catalog']\n",
    "    \n",
    "    # Create Compton-y map with noise\n",
    "    t_cmb = 2.725 \n",
    "    f = 150\n",
    "    fsz = sim.f_sz(f, t_cmb)\n",
    "    y_noise = dataTempSubmap / fsz / t_cmb / 1e6\n",
    "    \n",
    "    # Extract SZ signal and determine aperture size\n",
    "    dataSignal = np.array([])\n",
    "    dataAperture = np.array([])\n",
    "\n",
    "    for i in range (len(dataRedshift)):\n",
    "        SZsignal, aperture = sim.tSZ_signal(dataRedshift[i], y_noise[i])\n",
    "        dataSignal = np.append(dataSignal, SZsignal)\n",
    "        dataAperture = np.append(dataAperture, aperture)\n",
    "    \n",
    "    saveSignal = dataSignal\n",
    "    saveAperture = dataAperture\n",
    "    \n",
    "    # Eliminate nan data\n",
    "    for i in range (len(dataRedshift)):\n",
    "        if pd.isna(saveSignal[i]):\n",
    "            dataSignal = saveSignal[i+1:]\n",
    "        else:\n",
    "            break\n",
    "    dataID = dataID[i:]\n",
    "    dataM200 = dataM200[i:]\n",
    "    dataM500 = dataM500[i:]\n",
    "    dataNoise = dataNoise[i:]\n",
    "    dataR200 = dataR200[i:]\n",
    "    dataRedshift = dataRedshift[i:]\n",
    "    dataTempSubmap = dataTempSubmap[i:]\n",
    "    datac200 = datac200[i:]\n",
    "    dataAperture = dataAperture[i:]\n",
    "    \n",
    "    # Create the new h5 file\n",
    "    f1 = h5py.File(name, \"w\")\n",
    "    dset1 = f1.create_dataset(\"ID\", data=dataID)\n",
    "    dset2 = f1.create_dataset(\"M200\", data=dataM200)\n",
    "    dset3 = f1.create_dataset(\"M500\", data=dataM500)\n",
    "    dset4 = f1.create_dataset(\"Noise Map\", data=dataNoise)\n",
    "    dset5 = f1.create_dataset(\"R200\", data=dataR200)\n",
    "    dset6 = f1.create_dataset(\"Temperature Submap\", data=dataTempSubmap)\n",
    "    dset7 = f1.create_dataset(\"c200\", data=datac200)\n",
    "    dset8 = f1.create_dataset(\"SZ signal\", data=dataSignal)\n",
    "    dset9 = f1.create_dataset(\"Aperture Size\", data=dataAperture)\n",
    "    dset10 = f1.create_dataset(\"Redshift\", data=dataRedshift)\n",
    "    \n",
    "    f1.attrs[\"omega_m0\"] = omega_m0\n",
    "    f1.attrs[\"omega_b0\"] = omega_b0\n",
    "    f1.attrs[\"cosmo_h\"] = cosmo_h\n",
    "    f1.attrs[\"sigma8\"] = sigma8\n",
    "    f1.attrs[\"ns\"] = ns\n",
    "    f1.attrs[\"telescope\"] = tele\n",
    "    f1.attrs[\"frequency\"] = f\n",
    "    f1.attrs[\"Beam Size\"] = beam_size\n",
    "    f1.attrs[\"Noise Level\"] = noise_level\n",
    "    f1.attrs[\"Random Seed\"] = rad\n",
    "    f1.attrs[\"Catalog\"] = filepath\n",
    "    \n",
    "    f1.close()"
   ]
  },
  {
   "cell_type": "code",
   "execution_count": 2,
   "id": "2573bce4",
   "metadata": {},
   "outputs": [
    {
     "name": "stderr",
     "output_type": "stream",
     "text": [
      "/Users/cristescuioana/Desktop/GalaxyClusters/Catalog/simulation2.py:229: RuntimeWarning: Mean of empty slice.\n",
      "  ring_mean = Map[(r >= rin) & (r < rout)].mean()\n",
      "/Users/cristescuioana/opt/anaconda3/lib/python3.8/site-packages/numpy/core/_methods.py:189: RuntimeWarning: invalid value encountered in double_scalars\n",
      "  ret = ret.dtype.type(ret / rcount)\n"
     ]
    }
   ],
   "source": [
    "catalog1location = \"/Users/cristescuioana/Desktop/GalaxyClusters/Catalog/2022-08-05-N1.hdf5\"\n",
    "name1 = \"2022-08-05-N1_new.hdf5\"\n",
    "generate_h5(catalog1location, name1)"
   ]
  },
  {
   "cell_type": "code",
   "execution_count": 3,
   "id": "eddcb000",
   "metadata": {},
   "outputs": [],
   "source": [
    "catalog2location = \"/Users/cristescuioana/Desktop/GalaxyClusters/Catalog/2022-08-05-N2.hdf5\"\n",
    "name2 = \"2022-08-05-N2_new.hdf5\"\n",
    "generate_h5(catalog2location, name2)"
   ]
  },
  {
   "cell_type": "code",
   "execution_count": null,
   "id": "22a98ac1",
   "metadata": {},
   "outputs": [],
   "source": []
  },
  {
   "cell_type": "code",
   "execution_count": null,
   "id": "6ad7e89f",
   "metadata": {},
   "outputs": [],
   "source": []
  },
  {
   "cell_type": "code",
   "execution_count": null,
   "id": "f0832940",
   "metadata": {},
   "outputs": [],
   "source": []
  },
  {
   "cell_type": "code",
   "execution_count": null,
   "id": "673b99ba",
   "metadata": {},
   "outputs": [],
   "source": []
  },
  {
   "cell_type": "code",
   "execution_count": null,
   "id": "e63b99e7",
   "metadata": {},
   "outputs": [],
   "source": []
  },
  {
   "cell_type": "code",
   "execution_count": null,
   "id": "4dc2ede9",
   "metadata": {},
   "outputs": [],
   "source": []
  },
  {
   "cell_type": "code",
   "execution_count": null,
   "id": "a4b36d15",
   "metadata": {},
   "outputs": [],
   "source": []
  },
  {
   "cell_type": "code",
   "execution_count": null,
   "id": "ef124f2d",
   "metadata": {},
   "outputs": [],
   "source": []
  },
  {
   "cell_type": "code",
   "execution_count": null,
   "id": "ad8175b2",
   "metadata": {},
   "outputs": [],
   "source": []
  },
  {
   "cell_type": "code",
   "execution_count": null,
   "id": "74723d0a",
   "metadata": {},
   "outputs": [],
   "source": []
  }
 ],
 "metadata": {
  "kernelspec": {
   "display_name": "Python 3 (ipykernel)",
   "language": "python",
   "name": "python3"
  },
  "language_info": {
   "codemirror_mode": {
    "name": "ipython",
    "version": 3
   },
   "file_extension": ".py",
   "mimetype": "text/x-python",
   "name": "python",
   "nbconvert_exporter": "python",
   "pygments_lexer": "ipython3",
   "version": "3.8.5"
  }
 },
 "nbformat": 4,
 "nbformat_minor": 5
}
