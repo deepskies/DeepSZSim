{
  "cells": [
    {
      "cell_type": "markdown",
      "metadata": {
        "id": "view-in-github",
        "colab_type": "text"
      },
      "source": [
        "<a href=\"https://colab.research.google.com/github/deepskies/proj-clusters-sz-sbi/blob/sim_dev/mass_sampling.ipynb\" target=\"_parent\"><img src=\"https://colab.research.google.com/assets/colab-badge.svg\" alt=\"Open In Colab\"/></a>"
      ]
    },
    {
      "cell_type": "markdown",
      "metadata": {
        "id": "R0NtlA-2lxiC"
      },
      "source": [
        "# cluster toolkit: https://cluster-toolkit.readthedocs.io/en/latest/source/massfunction.html\n",
        "(give up and using colossus instead, see below)"
      ]
    },
    {
      "cell_type": "markdown",
      "metadata": {
        "id": "IzvMeenZl_ns"
      },
      "source": [
        "# colossus: https://bdiemer.bitbucket.io/colossus/lss_mass_function.html#lss.mass_function.massFunction"
      ]
    },
    {
      "cell_type": "code",
      "execution_count": null,
      "metadata": {
        "id": "AS-qBpFFUCVB"
      },
      "outputs": [],
      "source": [
        "#bocquet16 200c (universe critical density)\n",
        "#no below 10^14"
      ]
    },
    {
      "cell_type": "code",
      "execution_count": 1,
      "metadata": {
        "colab": {
          "base_uri": "https://localhost:8080/"
        },
        "id": "-KmKsP4LmOHl",
        "outputId": "2cc4cac2-6a03-4a0f-9c76-2ac90e216338"
      },
      "outputs": [
        {
          "output_type": "stream",
          "name": "stdout",
          "text": [
            "Looking in indexes: https://pypi.org/simple, https://us-python.pkg.dev/colab-wheels/public/simple/\n",
            "Collecting colossus\n",
            "  Downloading colossus-1.3.0-py2.py3-none-any.whl (197 kB)\n",
            "\u001b[K     |████████████████████████████████| 197 kB 6.0 MB/s \n",
            "\u001b[?25hInstalling collected packages: colossus\n",
            "Successfully installed colossus-1.3.0\n"
          ]
        }
      ],
      "source": [
        "! pip install colossus"
      ]
    },
    {
      "cell_type": "code",
      "execution_count": 2,
      "metadata": {
        "id": "ZQajFEDFmRnk"
      },
      "outputs": [],
      "source": [
        "from colossus.cosmology import cosmology\n",
        "from colossus.lss import mass_function\n",
        "import matplotlib.pyplot as plt\n",
        "import numpy as np\n",
        "mass_array = np.logspace(14.0, 16.0, num = 200, base = 10)\n",
        "cosmology.setCosmology('WMAP9')\n",
        "mfunc = mass_function.massFunction(mass_array, 0.0, mdef = '200c', model = 'bocquet16', q_out = 'dndlnM')"
      ]
    },
    {
      "cell_type": "code",
      "execution_count": 3,
      "metadata": {
        "colab": {
          "base_uri": "https://localhost:8080/",
          "height": 317
        },
        "id": "27k9Ji7XnHMU",
        "outputId": "2036cf55-4fb6-4daf-87c1-5df87f89f489"
      },
      "outputs": [
        {
          "output_type": "execute_result",
          "data": {
            "text/plain": [
              "Text(0.5, 1.0, 'halo mass function plot first attempt')"
            ]
          },
          "metadata": {},
          "execution_count": 3
        },
        {
          "output_type": "display_data",
          "data": {
            "text/plain": [
              "<Figure size 432x288 with 1 Axes>"
            ],
            "image/png": "[encoded data removed]"
          },
          "metadata": {
            "needs_background": "light"
          }
        }
      ],
      "source": [
        "plt.loglog(mass_array, mfunc)\n",
        "plt.xlabel(\"M [M⊙]\")\n",
        "plt.ylabel(\"dN/dln(M) [$(Mpc/ℎ)^{−3}$]\")\n",
        "plt.title(\"halo mass function plot first attempt\")"
      ]
    },
    {
      "cell_type": "code",
      "execution_count": 4,
      "metadata": {
        "colab": {
          "base_uri": "https://localhost:8080/",
          "height": 317
        },
        "id": "5uiNCi6jFUzU",
        "outputId": "4e211124-7b43-406c-be28-a5d515f1a859"
      },
      "outputs": [
        {
          "output_type": "execute_result",
          "data": {
            "text/plain": [
              "Text(0.5, 1.0, 'halo mass function plot second attempt')"
            ]
          },
          "metadata": {},
          "execution_count": 4
        },
        {
          "output_type": "display_data",
          "data": {
            "text/plain": [
              "<Figure size 432x288 with 1 Axes>"
            ],
            "image/png": "[encoded data removed]"
          },
          "metadata": {
            "needs_background": "light"
          }
        }
      ],
      "source": [
        "#transition from ln to log10\n",
        "#ln(number)= log(number)/log(2.71828)\n",
        "import math\n",
        "plt.loglog(mass_array, mfunc * math.log10(2.71828))\n",
        "plt.xlabel(\"M [M⊙]\")\n",
        "plt.ylabel(\"dN/dlog(M)v[$(Mpc/ℎ)^{−3}$]\")\n",
        "plt.title(\"halo mass function plot second attempt\")"
      ]
    },
    {
      "cell_type": "code",
      "execution_count": 5,
      "metadata": {
        "colab": {
          "base_uri": "https://localhost:8080/",
          "height": 283
        },
        "id": "-WVUL-cLKF8H",
        "outputId": "cd47251f-9543-4518-8f99-b65ac2fb94d4"
      },
      "outputs": [
        {
          "output_type": "execute_result",
          "data": {
            "text/plain": [
              "[<matplotlib.lines.Line2D at 0x7f48a4b04e90>]"
            ]
          },
          "metadata": {},
          "execution_count": 5
        },
        {
          "output_type": "display_data",
          "data": {
            "text/plain": [
              "<Figure size 432x288 with 1 Axes>"
            ],
            "image/png": "[encoded data removed]"
          },
          "metadata": {
            "needs_background": "light"
          }
        }
      ],
      "source": [
        "#extract power\n",
        "from sklearn import preprocessing\n",
        "mass_array_p = np.log10(mass_array)\n",
        "mfunc_n = mfunc*(10**5)\n",
        "mfunc_p_n = preprocessing.normalize([mfunc_n], norm ='l1')\n",
        "plt.plot(mass_array_p, mfunc_n)"
      ]
    },
    {
      "cell_type": "markdown",
      "metadata": {
        "id": "3t4EVITpcueb"
      },
      "source": [
        "sampling, using emcee and interp1d (still using ln as base)"
      ]
    },
    {
      "cell_type": "code",
      "execution_count": 6,
      "metadata": {
        "colab": {
          "base_uri": "https://localhost:8080/",
          "height": 283
        },
        "id": "0UfESKtgc0K7",
        "outputId": "7e2b7576-3e69-405c-f4be-b5fff566d6ac"
      },
      "outputs": [
        {
          "output_type": "execute_result",
          "data": {
            "text/plain": [
              "[<matplotlib.lines.Line2D at 0x7f48a4a32990>]"
            ]
          },
          "metadata": {},
          "execution_count": 6
        },
        {
          "output_type": "display_data",
          "data": {
            "text/plain": [
              "<Figure size 432x288 with 1 Axes>"
            ],
            "image/png": "[encoded data removed]"
          },
          "metadata": {
            "needs_background": "light"
          }
        }
      ],
      "source": [
        "from scipy import interpolate\n",
        "itp_mfunc = interpolate.interp1d(mass_array_p, mfunc_n)\n",
        "test_arr = np.linspace(14.0, 16.0, 20)\n",
        "f_test = itp_mfunc(test_arr)\n",
        "plt.plot(test_arr, f_test, marker = 'o')"
      ]
    },
    {
      "cell_type": "code",
      "execution_count": 7,
      "metadata": {
        "colab": {
          "base_uri": "https://localhost:8080/",
          "height": 497
        },
        "id": "vFYkoUnFJAis",
        "outputId": "7010b73c-85a5-4936-a118-cd2d8c8077d0"
      },
      "outputs": [
        {
          "output_type": "stream",
          "name": "stderr",
          "text": [
            "/usr/local/lib/python3.7/dist-packages/ipykernel_launcher.py:3: IntegrationWarning: The occurrence of roundoff error is detected, which prevents \n",
            "  the requested tolerance from being achieved.  The error may be \n",
            "  underestimated.\n",
            "  This is separate from the ipykernel package so we can avoid doing imports until\n"
          ]
        },
        {
          "output_type": "stream",
          "name": "stdout",
          "text": [
            "0.6499258439203269 6.343752753259262e-06\n"
          ]
        },
        {
          "output_type": "stream",
          "name": "stderr",
          "text": [
            "/usr/local/lib/python3.7/dist-packages/ipykernel_launcher.py:8: IntegrationWarning: The maximum number of subdivisions (50) has been achieved.\n",
            "  If increasing the limit yields no improvement it is advised to analyze \n",
            "  the integrand in order to determine the difficulties.  If the position of a \n",
            "  local difficulty can be determined (singularity, discontinuity) one will \n",
            "  probably gain from splitting up the interval and calling the integrator \n",
            "  on the subranges.  Perhaps a special-purpose integrator should be used.\n",
            "  \n"
          ]
        },
        {
          "output_type": "stream",
          "name": "stdout",
          "text": [
            "1.0101168273122976 1.9286923566896874e-05\n"
          ]
        },
        {
          "output_type": "display_data",
          "data": {
            "text/plain": [
              "<Figure size 432x288 with 1 Axes>"
            ],
            "image/png": "[encoded data removed]"
          },
          "metadata": {
            "needs_background": "light"
          }
        }
      ],
      "source": [
        "#try to integrate and normalize the function\n",
        "from scipy import integrate\n",
        "val, err = integrate.quad(itp_mfunc, 14.0, 16.0)\n",
        "print(val, err)\n",
        "plt.plot(test_arr, (f_test/val), marker = 'o')\n",
        "\n",
        "test_fun = interpolate.interp1d(test_arr, (f_test/val))\n",
        "nval, nerr = integrate.quad(test_fun, 14.0, 16.0)\n",
        "print(nval, nerr)\n"
      ]
    },
    {
      "cell_type": "code",
      "execution_count": 8,
      "metadata": {
        "colab": {
          "base_uri": "https://localhost:8080/"
        },
        "id": "cZjXCKkDXcba",
        "outputId": "d52397c6-0856-400c-9695-b8f5b515f6b5"
      },
      "outputs": [
        {
          "output_type": "stream",
          "name": "stdout",
          "text": [
            "-inf\n"
          ]
        }
      ],
      "source": [
        "print(-np.inf)"
      ]
    },
    {
      "cell_type": "code",
      "execution_count": 9,
      "metadata": {
        "id": "zFm_3mEqI_8T"
      },
      "outputs": [],
      "source": [
        "#the likelihood function, unable to get a perfect pdf, probably be the reason of wrong behavior\n",
        "def lnpo(mass):\n",
        "    if (mass < 14) or (mass > 16):\n",
        "      return -np.inf\n",
        "    return math.log(test_fun(mass))"
      ]
    },
    {
      "cell_type": "code",
      "execution_count": 10,
      "metadata": {
        "colab": {
          "base_uri": "https://localhost:8080/"
        },
        "id": "LNoRG3TnLRfI",
        "outputId": "7611e941-71d3-4b07-a147-c16dbc9f567d"
      },
      "outputs": [
        {
          "output_type": "stream",
          "name": "stdout",
          "text": [
            "Looking in indexes: https://pypi.org/simple, https://us-python.pkg.dev/colab-wheels/public/simple/\n",
            "Collecting emcee\n",
            "  Downloading emcee-3.1.2-py2.py3-none-any.whl (46 kB)\n",
            "\u001b[K     |████████████████████████████████| 46 kB 2.0 MB/s \n",
            "\u001b[?25hRequirement already satisfied: numpy in /usr/local/lib/python3.7/dist-packages (from emcee) (1.21.6)\n",
            "Installing collected packages: emcee\n",
            "Successfully installed emcee-3.1.2\n"
          ]
        }
      ],
      "source": [
        "!pip install emcee\n",
        "import emcee"
      ]
    },
    {
      "cell_type": "code",
      "execution_count": 11,
      "metadata": {
        "id": "b5r1rdQFeq0_"
      },
      "outputs": [],
      "source": [
        "#code to demonstrate the final result\n",
        "def plot_pdf(xr, func=None, args=None, label='ITS method', \n",
        "             ylog=True,\n",
        "             bins = 50, xlims=[], ylims=[], figsize=3):\n",
        "    \"\"\"\n",
        "    by Andrey Kravtsov\n",
        "    wrapper convenience function for plotting  histogram of a sequence of floats xr\n",
        "    and comparing it to a theoretical distribution given by func\n",
        "    \n",
        "    Parameters:\n",
        "    -----------\n",
        "    xr: 1d numpy array of floats, values in the sequence to plot\n",
        "    func: Python function object handle\n",
        "    args: list of arguments to the function\n",
        "    other parameters are used for plotting\n",
        "    \"\"\"\n",
        "    plt.figure(figsize=(figsize,figsize))\n",
        "    if ylog: plt.yscale('log') # plot y-values on a logarithmic scale\n",
        "    if ylims: plt.ylim(ylims) # set axis limits \n",
        "    if xlims: plt.xlim(xlims)\n",
        "    # compute histogram values \n",
        "    hist, bins, patches = plt.hist(list(xr), density=True, bins=bins, label=label)\n",
        "    binc = 0.5*(bins[1:] + bins[:-1]) # compute bin centers\n",
        "    plt.plot(binc, func(binc), lw=5, c='orangered', label='target pdf')\n",
        "    plt.ylabel(r'$p(x)$') # label axis \n",
        "    plt.xlabel(r'$x$')\n",
        "    plt.legend(loc='best', frameon=False, fontsize=3*figsize)\n",
        "    plt.show()"
      ]
    },
    {
      "cell_type": "code",
      "execution_count": 12,
      "metadata": {
        "colab": {
          "base_uri": "https://localhost:8080/"
        },
        "id": "tW8spWS1eQEw",
        "outputId": "1a1f848b-97c7-4ce5-abbe-0b8a69d0992a"
      },
      "outputs": [
        {
          "output_type": "stream",
          "name": "stdout",
          "text": [
            "[15.655764035365387, 14.05317013395363, 15.299866077621747, 15.478845279606881, 14.980604902054878, 14.738481670811181, 15.849099102715181, 15.278731950375253, 14.034621566667075, 15.440048223285482, 14.514150054522334, 14.761733422749469, 14.743074211545315, 15.075858215505475, 15.533212955883117, 14.546408398795394, 14.64302979283675, 15.28553443209362, 15.531025436152031, 15.255503791483715]\n"
          ]
        }
      ],
      "source": [
        "#create random walkers\n",
        "import random\n",
        "randomlist = []\n",
        "for i in range(20):\n",
        "  n = random.uniform(14,16)\n",
        "  randomlist.append(n)\n",
        "print(randomlist)\n",
        "random_arr = np.array(randomlist)"
      ]
    },
    {
      "cell_type": "code",
      "execution_count": 21,
      "metadata": {
        "colab": {
          "base_uri": "https://localhost:8080/"
        },
        "id": "Kk0QGBu2MAW5",
        "outputId": "bcb0bcdb-ff63-4b51-8975-a8807bcab260"
      },
      "outputs": [
        {
          "output_type": "execute_result",
          "data": {
            "text/plain": [
              "State([[14.32977845]\n",
              " [14.72901521]\n",
              " [14.01438276]\n",
              " [14.2257947 ]\n",
              " [14.24438583]\n",
              " [14.47918009]\n",
              " [14.98811357]\n",
              " [14.13478137]\n",
              " [14.38775484]\n",
              " [14.32886461]\n",
              " [14.27685202]\n",
              " [14.02150988]\n",
              " [14.42745279]\n",
              " [14.08604691]\n",
              " [14.80198924]\n",
              " [14.00327177]\n",
              " [14.22010412]\n",
              " [14.05703789]\n",
              " [14.25540104]\n",
              " [14.10714662]], log_prob=[ 0.18575729 -1.63682992  1.25224745  0.56457062  0.50431385 -0.40600282\n",
              " -3.25628914  0.87642618 -0.03144864  0.18882991  0.38950548  1.23236812\n",
              " -0.20388647  1.03170603 -2.02902795  1.28247141  0.58231167  1.12690974\n",
              "  0.46682004  0.95793037], blobs=None, random_state=('MT19937', array([4106878042, 4048768089,  789697891,  560266787,  950067725,\n",
              "        404453236,  635040848, 2533880588,  571875141, 2673400415,\n",
              "       3407507140, 3739218634, 3687381400, 2889666230, 3239767505,\n",
              "        439854784,  578381502,  763301814, 3773654080, 2105264667,\n",
              "       1266199126,  831863166,  413681940, 1319482423, 1819536678,\n",
              "        213105563, 2812655435,  133823362, 4079458599, 1575784173,\n",
              "         25145588,  149652965, 2027164297, 3996655600, 3622305726,\n",
              "       3501156962, 2863873570,  789907045, 1464340790, 1747576820,\n",
              "       3144125758,  861208714, 2547745705, 1344717795, 3834193964,\n",
              "        985648859, 1919170450, 3366610831, 3675945441, 1717433016,\n",
              "       1630960903, 3637056112,  464432412,  738125394,  926073722,\n",
              "       3249619197,  295936245, 3645848973, 3708301704, 4068536330,\n",
              "        973894623,  377240686, 4230266557, 2937050845, 3143863138,\n",
              "       1131997155, 3155829621, 2552719808, 4021599424, 3767196166,\n",
              "        654780450, 3410244657, 1645497519,  285165677, 3885872977,\n",
              "        687288831, 1149970555, 1720643114, 1629419602, 2204146037,\n",
              "        997740523, 2976318953,  939596953, 3988294228, 3360173356,\n",
              "         34131039, 2170959388, 2848988647, 4293914808,  847493810,\n",
              "       3946343416,  753620996,   91698486,  658858407, 2627250944,\n",
              "       3024299356,  240741605,  861939890, 2017104217,  767594161,\n",
              "       3191027217, 4093285344, 2412758340, 3976469852, 3773854829,\n",
              "        215155585, 1860347745, 2181367709, 2080606284, 1842982986,\n",
              "       3846007085, 2694090167,  748798858, 3717294458, 3000531927,\n",
              "       2168407720,  409624408, 1584022357,  948232285, 2741120995,\n",
              "        323491639, 2536190201, 1119773209,  874300068, 2477973974,\n",
              "       3364156215,  194018926, 1297688305, 1489225496, 2137031730,\n",
              "       4215250514, 1440695665, 2761211252, 1115378224, 4092849956,\n",
              "       3151308055, 2323794890,  201409205,  269473139, 1126568548,\n",
              "        967864787, 1651519391, 1331570655, 3031398987, 3463495261,\n",
              "       1496900383, 1743250236,  747308821, 2540510867, 3001894462,\n",
              "       2307047863, 1581049361, 3492520278, 2394854382, 1049352804,\n",
              "       1147177349, 3708284268, 2338986424, 2829765824, 2189773181,\n",
              "        223499580, 2115983991,  116744160, 3297232897, 3933082768,\n",
              "       1715106586,  323651162, 3666515045, 1235613566,  940465067,\n",
              "       1316360693, 1219150954, 3116202570, 3514989881, 1250772016,\n",
              "       4058459116, 3127485269, 2682072529, 2353634830, 3959523123,\n",
              "         60995085,  802701379, 2395012413,  183663223, 2082201414,\n",
              "       2849566307, 1035149781,  440483362, 1695676187, 1451622571,\n",
              "       3183008851,  662987059, 4275759234, 1825875945, 2718190079,\n",
              "       1548203106,   44481989, 2528917165, 2249809099, 1787219054,\n",
              "       1704977454,  434338395, 3267405380,  806351927,  470469560,\n",
              "       2231604154, 2166427947, 2426867889, 1051287242, 2480370666,\n",
              "       1078031762, 1940595247,  958143194,   26464830,  505922791,\n",
              "       1731805384, 1913292768, 2582860371, 3149522933, 3850716445,\n",
              "       2646413544,  612771140,  585273573, 2722901576, 3468989285,\n",
              "       3172244896, 1717766421, 2260233079, 3686208483,  883267640,\n",
              "       1885790558, 2666792717, 2839268248, 2299288209,  589706553,\n",
              "        778336337, 3764229028, 3858844265, 1674661633, 1613326134,\n",
              "       1585410538, 3116564662,   43934588, 2619653799,   13621502,\n",
              "       3674547428,  936170392, 2370021786, 2022485059,  307313331,\n",
              "       1913048645, 3214872223, 2606507622, 1868312278, 1093348927,\n",
              "        859666725, 4073426136,  331737179, 1673732406,  961437266,\n",
              "        895726761, 2695454854, 1151682323, 2489766474, 1737034454,\n",
              "       2526284894, 2160047827,  395610708, 2283763535, 1764821654,\n",
              "        864374075, 3165742382, 1241606647,  591263906, 3772843717,\n",
              "        482153120, 2607666849,  698735874,  817637298, 3023362080,\n",
              "       2232546689, 2631234701,  580509864, 2204426356, 4162657050,\n",
              "       1782436941, 3442382820, 3485137600, 3524044619, 2973321389,\n",
              "       2100715632, 3984881532, 1306700008,  152427187, 2449213671,\n",
              "       1503033263, 3242368953, 4275025726,  812321452, 2900775285,\n",
              "       3197371475, 3042316453, 4171869631, 3370636606, 2572686684,\n",
              "       1804240332, 4207114308, 2478675519, 3183970980, 4001558662,\n",
              "       1892377511,  182208226,  345943198, 2460681604, 1868558298,\n",
              "       1568235880, 1400453712,  215642142, 3363587692, 3964273491,\n",
              "       3324217353, 3714120903,  652198419, 3461682387,  392941561,\n",
              "       1435827758, 3289229455, 1484291192, 2230690229, 2132574945,\n",
              "        159957148, 2263119144,  854099250, 2947063219,  195825664,\n",
              "       2966256212, 4120690059, 3559177896, 3848230709,  975467649,\n",
              "        245573430, 3041399350, 3024407776, 2900433810,  680734215,\n",
              "        933987707, 1528235881, 4281277009,  666043099, 3794558572,\n",
              "        138002956, 3657327561, 3554829521, 4030097662, 1924999281,\n",
              "       1031156326, 1914487470, 1450710253, 3324301989, 2927551143,\n",
              "       2586711348,  973472951,   50583336, 1550100315, 1539510741,\n",
              "        952347794,  183205421, 1924065386, 2262852530, 3856491734,\n",
              "       3433981801, 4059759467, 1734081831, 3203768694,  607615825,\n",
              "        646178837,  484447558, 4100937358,  382567820, 2140076511,\n",
              "        600864808, 3778910492, 1819536984, 2018149351, 4228780452,\n",
              "       1119349279,  599518631,  524313061, 4211345430, 3955718809,\n",
              "       1719187422, 2310472719, 2503030810, 1276751006,  882315440,\n",
              "       1822037368, 2820407641, 2854310613, 3988739930,   78639963,\n",
              "       1864918969, 2121638912, 3113121745, 3595052945, 2348656780,\n",
              "       1295825528,  742448964,  780622903, 1806166395,  300073296,\n",
              "       1518172837, 2897737179, 3607353928, 1152274413,  314560092,\n",
              "        169264052,  913732221, 2154555280, 1294378953, 1137193965,\n",
              "       4222456868, 2727328051,  984323467,  912425271, 3876463606,\n",
              "        862416517, 2449341463, 3232663783, 1308271383, 2823228173,\n",
              "       1762637438, 4277780728, 1475376556,  286460248, 4203717738,\n",
              "       1513402483, 1072260684, 2708356804, 2128353574, 3159202122,\n",
              "       2592569659, 1537511794,  903405685, 1073441630, 1632894578,\n",
              "       3767520620, 2080902558, 3880297758, 1583594355, 1015850486,\n",
              "        836097959, 1671107187, 3042540360, 1725962786, 1483735288,\n",
              "       2309956204, 2558483566, 2921325997, 3946384579, 2207141752,\n",
              "       2969843551, 2588842296, 3218338297,  569183001, 2723176200,\n",
              "       2338468418, 2165765894, 3474710997,  737096844, 3675622065,\n",
              "        474621509, 2209358658, 1849581869, 2401637750,  487620449,\n",
              "       1996051563, 1603572046, 3395418953, 1453551213, 3345107672,\n",
              "       2608259803, 3342697705, 1071085502, 3671866375,  403019291,\n",
              "       1955962329, 3723338141, 2372431908, 1710924943, 3617168078,\n",
              "       1320916542, 3037579553, 2506797960, 4019717620, 1431472109,\n",
              "       1036923705, 4243232059, 3268921469,  663715514, 1899275271,\n",
              "       3733136890,  727571254, 1770642905, 3846949089, 3511596795,\n",
              "       2666604328, 2542356343,  515720253, 1713944977, 3124398056,\n",
              "       3766105324,   82339259, 3416153751, 2764502580, 3480269081,\n",
              "       2004525782, 1150390560, 3018414737,  253008353, 3438410231,\n",
              "       3036513268, 3204820770, 1383213186, 2973596322, 2025297750,\n",
              "       2271266845, 3193656734,  637726661, 1909646556,  897361308,\n",
              "       1456439470, 2287406542, 3712646964, 2573857588, 3851504133,\n",
              "        726417153, 2358019988, 2261467967, 1586653332, 2806270355,\n",
              "       2728691785, 3557571558, 1988180185, 3487849976,  182911689,\n",
              "       2200011438, 1213468168, 3063212261, 3527406377,  365653878,\n",
              "         31786808, 2306492123,  491616148, 3850246504, 2655881203,\n",
              "       3723372243, 2624230854, 1620137484, 2892756734, 3382280521,\n",
              "       1644197764, 1711503968, 2456259696, 1655532541, 1067379357,\n",
              "        750629000, 4249873829,  277421090, 1791049911, 2009389791,\n",
              "       3840285709, 1998692916, 2656573220, 2425301716,  549487734,\n",
              "       2627774427, 3245802110, 1619266105, 1174517469, 2235828766,\n",
              "       3086234477, 1936011247,   78994556, 1976739031,  658419150,\n",
              "        718497933, 4249364801, 3071518522, 2721467873, 1920716494,\n",
              "       2681113294, 2142885979,  683457984,  685933422, 1706576806,\n",
              "       2493129096, 2690296548,  667966978, 2533582508,  491252868,\n",
              "       3569884259, 3919207804, 2371913672, 1230579808,  936023192,\n",
              "        346374022, 1292745612, 2776239202, 3544110337, 2020108207,\n",
              "       1878935375, 1131273365, 1891377307, 2444561125, 3995314228,\n",
              "        511863673, 2677174491, 2225565366,  274050434, 3198429219,\n",
              "       1025855270, 2327804520, 4250285920, 3531145076], dtype=uint32), 389, 0, 0.0))"
            ]
          },
          "metadata": {},
          "execution_count": 21
        }
      ],
      "source": [
        "#run MCMC\n",
        "ndim, nwalkers = 1, 20\n",
        "\n",
        "p0 = random_arr.reshape((nwalkers, ndim))\n",
        "samplera = emcee.EnsembleSampler(nwalkers, ndim, lnpo)\n",
        "pos, prob, state = samplera.run_mcmc(p0, 25000)\n",
        "samplera.reset()\n",
        "samplera.run_mcmc(pos, 10000)"
      ]
    },
    {
      "cell_type": "code",
      "execution_count": 23,
      "metadata": {
        "colab": {
          "base_uri": "https://localhost:8080/"
        },
        "id": "G3gigERlGIHV",
        "outputId": "f88b39bb-973d-43cd-d768-f1342b2f72ee"
      },
      "outputs": [
        {
          "output_type": "stream",
          "name": "stdout",
          "text": [
            "Mean acceptance fraction: 0.759\n",
            "(20, 10000, 1)\n",
            "(200000, 1)\n"
          ]
        }
      ],
      "source": [
        "print(\"Mean acceptance fraction: {0:.3f}\"\n",
        "                .format(np.mean(samplera.acceptance_fraction)))\n",
        "print(samplera.chain.shape)\n",
        "chain = samplera.chain[:, :, :].reshape((-1, ndim))\n",
        "print(chain.shape)\n"
      ]
    },
    {
      "cell_type": "code",
      "execution_count": 18,
      "metadata": {
        "id": "pR8gE361cIIN"
      },
      "outputs": [],
      "source": [
        "# print(chain.shape)\n",
        "# flattened = chain.flatten()\n",
        "# print(flattened.shape)\n",
        "# flattened = flattened[:(20*30000)]\n",
        "# print(flattened.shape)"
      ]
    },
    {
      "cell_type": "code",
      "execution_count": 24,
      "metadata": {
        "colab": {
          "base_uri": "https://localhost:8080/",
          "height": 606
        },
        "id": "LCkcgYGXcdsR",
        "outputId": "d73f97f8-f988-4e3f-f96c-140aeabbe855"
      },
      "outputs": [
        {
          "output_type": "display_data",
          "data": {
            "text/plain": [
              "<Figure size 720x720 with 1 Axes>"
            ],
            "image/png": "[encoded data removed]"
          },
          "metadata": {
            "needs_background": "light"
          }
        }
      ],
      "source": [
        "plot_pdf(chain.flatten(), func=test_fun, xlims=[14,16], ylog=False, bins='auto', label='GW10 MCMC', figsize = 10)"
      ]
    }
  ],
  "metadata": {
    "colab": {
      "name": "mass_sampling.ipynb",
      "provenance": [],
      "authorship_tag": "ABX9TyM9/Lv6FDwwb24utALk1g7l",
      "include_colab_link": true
    },
    "kernelspec": {
      "display_name": "Python 3",
      "name": "python3"
    },
    "language_info": {
      "name": "python"
    }
  },
  "nbformat": 4,
  "nbformat_minor": 0
}