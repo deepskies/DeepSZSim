{
  "nbformat": 4,
  "nbformat_minor": 0,
  "metadata": {
    "colab": {
      "name": "mass_sampling.ipynb",
      "provenance": [],
      "authorship_tag": "ABX9TyPhdmQKYnpaVt5bniV3F4Sk",
      "include_colab_link": true
    },
    "kernelspec": {
      "name": "python3",
      "display_name": "Python 3"
    },
    "language_info": {
      "name": "python"
    }
  },
  "cells": [
    {
      "cell_type": "markdown",
      "metadata": {
        "id": "view-in-github",
        "colab_type": "text"
      },
      "source": [
        "<a href=\"https://colab.research.google.com/github/deepskies/proj-clusters-sz-sbi/blob/sim_dev/mass_sampling.ipynb\" target=\"_parent\"><img src=\"https://colab.research.google.com/assets/colab-badge.svg\" alt=\"Open In Colab\"/></a>"
      ]
    },
    {
      "cell_type": "markdown",
      "source": [
        "# cluster toolkit: https://cluster-toolkit.readthedocs.io/en/latest/source/massfunction.html\n",
        "(give up and using colossus instead, see below)"
      ],
      "metadata": {
        "id": "R0NtlA-2lxiC"
      }
    },
    {
      "cell_type": "code",
      "execution_count": null,
      "metadata": {
        "colab": {
          "base_uri": "https://localhost:8080/"
        },
        "id": "cvKDWkArx9jo",
        "outputId": "f688fb9f-9af7-4a98-987a-d6649ab0a7d5"
      },
      "outputs": [
        {
          "output_type": "stream",
          "name": "stdout",
          "text": [
            "Traceback (most recent call last):\n",
            "  File \"<frozen importlib._bootstrap>\", line 677, in _load_unlocked\n",
            "  File \"<frozen importlib._bootstrap_external>\", line 728, in exec_module\n",
            "  File \"<frozen importlib._bootstrap>\", line 219, in _call_with_frames_removed\n",
            "  File \"/usr/local/lib/python3.7/dist-packages/pip/_internal/configuration.py\", line 21, in <module>\n",
            "    from pip._internal.exceptions import (\n",
            "  File \"/usr/local/lib/python3.7/dist-packages/pip/_internal/exceptions.py\", line 7, in <module>\n",
            "    from pip._vendor.pkg_resources import Distribution\n",
            "  File \"/usr/local/lib/python3.7/dist-packages/pip/_vendor/pkg_resources/__init__.py\", line 41, in <module>\n",
            "    import inspect\n",
            "  File \"/usr/lib/python3.7/inspect.py\", line 878, in <module>\n",
            "    class EndOfBlock(Exception): pass\n",
            "KeyboardInterrupt\n",
            "\n",
            "During handling of the above exception, another exception occurred:\n",
            "\n",
            "Traceback (most recent call last):\n",
            "  File \"/usr/local/bin/pip3\", line 5, in <module>\n",
            "    from pip._internal.cli.main import main\n",
            "  File \"/usr/local/lib/python3.7/dist-packages/pip/_internal/cli/main.py\", line 9, in <module>\n",
            "    from pip._internal.cli.autocompletion import autocomplete\n",
            "  File \"/usr/local/lib/python3.7/dist-packages/pip/_internal/cli/autocompletion.py\", line 10, in <module>\n",
            "    from pip._internal.cli.main_parser import create_main_parser\n",
            "  File \"/usr/local/lib/python3.7/dist-packages/pip/_internal/cli/main_parser.py\", line 8, in <module>\n",
            "    from pip._internal.cli import cmdoptions\n",
            "  File \"/usr/local/lib/python3.7/dist-packages/pip/_internal/cli/cmdoptions.py\", line 23, in <module>\n",
            "    from pip._internal.cli.parser import ConfigOptionParser\n",
            "  File \"/usr/local/lib/python3.7/dist-packages/pip/_internal/cli/parser.py\", line 12, in <module>\n",
            "    from pip._internal.configuration import Configuration, ConfigurationError\n",
            "  File \"<frozen importlib._bootstrap>\", line 983, in _find_and_load\n",
            "  File \"<frozen importlib._bootstrap>\", line 967, in _find_and_load_unlocked\n",
            "  File \"<frozen importlib._bootstrap>\", line 677, in _load_unlocked\n",
            "KeyboardInterrupt\n"
          ]
        }
      ],
      "source": [
        "#try to test re-commit\n",
        "!pip install camb"
      ]
    },
    {
      "cell_type": "code",
      "source": [
        "!git clone https://github.com/tmcclintock/cluster_toolkit.git\n",
        "!cd cluster_toolkit\n",
        "!pip install pytest\n",
        "!pip install cluster_toolkit\n",
        "!python setup.py install"
      ],
      "metadata": {
        "colab": {
          "base_uri": "https://localhost:8080/"
        },
        "id": "Hmp37cfT5MXf",
        "outputId": "edbdb8c5-3057-40e1-beca-cf3695c8084f"
      },
      "execution_count": null,
      "outputs": [
        {
          "output_type": "stream",
          "name": "stdout",
          "text": [
            "Cloning into 'cluster_toolkit'...\n",
            "remote: Enumerating objects: 2458, done.\u001b[K\n",
            "remote: Total 2458 (delta 0), reused 0 (delta 0), pack-reused 2458\u001b[K\n",
            "Receiving objects: 100% (2458/2458), 4.30 MiB | 6.74 MiB/s, done.\n",
            "Resolving deltas: 100% (1752/1752), done.\n",
            "Looking in indexes: https://pypi.org/simple, https://us-python.pkg.dev/colab-wheels/public/simple/\n",
            "Requirement already satisfied: pytest in /usr/local/lib/python3.7/dist-packages (3.6.4)\n",
            "Requirement already satisfied: attrs>=17.4.0 in /usr/local/lib/python3.7/dist-packages (from pytest) (21.4.0)\n",
            "Requirement already satisfied: pluggy<0.8,>=0.5 in /usr/local/lib/python3.7/dist-packages (from pytest) (0.7.1)\n",
            "Requirement already satisfied: six>=1.10.0 in /usr/local/lib/python3.7/dist-packages (from pytest) (1.15.0)\n",
            "Requirement already satisfied: py>=1.5.0 in /usr/local/lib/python3.7/dist-packages (from pytest) (1.11.0)\n",
            "Requirement already satisfied: atomicwrites>=1.0 in /usr/local/lib/python3.7/dist-packages (from pytest) (1.4.0)\n",
            "Requirement already satisfied: more-itertools>=4.0.0 in /usr/local/lib/python3.7/dist-packages (from pytest) (8.13.0)\n",
            "Requirement already satisfied: setuptools in /usr/local/lib/python3.7/dist-packages (from pytest) (57.4.0)\n",
            "Looking in indexes: https://pypi.org/simple, https://us-python.pkg.dev/colab-wheels/public/simple/\n",
            "\u001b[31mERROR: Could not find a version that satisfies the requirement cluster_toolkit (from versions: none)\u001b[0m\n",
            "\u001b[31mERROR: No matching distribution found for cluster_toolkit\u001b[0m\n",
            "python3: can't open file 'setup.py': [Errno 2] No such file or directory\n"
          ]
        }
      ]
    },
    {
      "cell_type": "code",
      "source": [
        "#model power spectrum from CAMB\n",
        "import camb\n",
        "from camb import model, initialpower\n",
        "pars = camb.CAMBparams()\n",
        "#description for set_cosmology: https://camb.readthedocs.io/en/latest/model.html?highlight=set_cosmology#camb.model.CAMBparams.set_cosmology\n",
        "#ombh2 – physical density in baryons, omch2 – physical density in cold dark matter\n",
        "pars.set_cosmology(H0=67.5, ombh2=0.022, omch2=0.122)\n",
        "pars.set_dark_energy(w=-1.0)\n",
        "#https://camb.readthedocs.io/en/latest/initialpower.html?highlight=InitPower.set_params#camb.initialpower.InitialPowerLaw.set_params\n",
        "pars.InitPower.set_params(ns=0.965)\n",
        "\n",
        "#This sets the k limits and specifies redshifts\n",
        "#k is wavenumber\n",
        "pars.set_matter_power(redshifts=[0., 0.8], kmax=2.0)\n",
        "\n",
        "pars.NonLinear = model.NonLinear_none\n",
        "results = camb.get_results(pars)\n",
        "kh, z, pk = results.get_matter_power_spectrum(minkh=1e-4, maxkh=1, npoints = 1000)"
      ],
      "metadata": {
        "colab": {
          "base_uri": "https://localhost:8080/"
        },
        "id": "tevQY2O1y9_t",
        "outputId": "05bf4988-45cf-4c39-d610-da63f2603588"
      },
      "execution_count": null,
      "outputs": [
        {
          "output_type": "stream",
          "name": "stdout",
          "text": [
            "Note: redshifts have been re-sorted (earliest first)\n"
          ]
        }
      ]
    },
    {
      "cell_type": "code",
      "source": [
        "import cluster_toolkit\n",
        "from cluster_toolkit import massfunction\n",
        "import numpy as np\n",
        "#Assume that k and P come from somewhere, e.g. CAMB or CLASS\n",
        "#Units of k and P are h/Mpc and (Mpc/h)^3\n",
        "Mass = 1e14 #Msun/h\n",
        "Omega_m = 0.3 #example value\n",
        "dndM = massfunction.dndM_at_M(Mass, kh, pk, Omega_m)\n",
        "#Or could also use an array\n",
        "Masses = np.logspace(12, 16)\n",
        "dndM = massfunction.dndM_at_M(Masses, kh, pk, Omega_m)"
      ],
      "metadata": {
        "colab": {
          "base_uri": "https://localhost:8080/",
          "height": 383
        },
        "id": "wOdwdCv_0va4",
        "outputId": "90791cb6-c8f3-4030-e136-34ca94632883"
      },
      "execution_count": null,
      "outputs": [
        {
          "output_type": "error",
          "ename": "ImportError",
          "evalue": "ignored",
          "traceback": [
            "\u001b[0;31m---------------------------------------------------------------------------\u001b[0m",
            "\u001b[0;31mImportError\u001b[0m                               Traceback (most recent call last)",
            "\u001b[0;32m<ipython-input-8-965d716ea03b>\u001b[0m in \u001b[0;36m<module>\u001b[0;34m()\u001b[0m\n\u001b[1;32m      1\u001b[0m \u001b[0;32mimport\u001b[0m \u001b[0mcluster_toolkit\u001b[0m\u001b[0;34m\u001b[0m\u001b[0;34m\u001b[0m\u001b[0m\n\u001b[0;32m----> 2\u001b[0;31m \u001b[0;32mfrom\u001b[0m \u001b[0mcluster_toolkit\u001b[0m \u001b[0;32mimport\u001b[0m \u001b[0mmassfunction\u001b[0m\u001b[0;34m\u001b[0m\u001b[0;34m\u001b[0m\u001b[0m\n\u001b[0m\u001b[1;32m      3\u001b[0m \u001b[0;32mimport\u001b[0m \u001b[0mnumpy\u001b[0m \u001b[0;32mas\u001b[0m \u001b[0mnp\u001b[0m\u001b[0;34m\u001b[0m\u001b[0;34m\u001b[0m\u001b[0m\n\u001b[1;32m      4\u001b[0m \u001b[0;31m#Assume that k and P come from somewhere, e.g. CAMB or CLASS\u001b[0m\u001b[0;34m\u001b[0m\u001b[0;34m\u001b[0m\u001b[0;34m\u001b[0m\u001b[0m\n\u001b[1;32m      5\u001b[0m \u001b[0;31m#Units of k and P are h/Mpc and (Mpc/h)^3\u001b[0m\u001b[0;34m\u001b[0m\u001b[0;34m\u001b[0m\u001b[0;34m\u001b[0m\u001b[0m\n",
            "\u001b[0;31mImportError\u001b[0m: cannot import name 'massfunction' from 'cluster_toolkit' (unknown location)",
            "",
            "\u001b[0;31m---------------------------------------------------------------------------\u001b[0;32m\nNOTE: If your import is failing due to a missing package, you can\nmanually install dependencies using either !pip or !apt.\n\nTo view examples of installing some common dependencies, click the\n\"Open Examples\" button below.\n\u001b[0;31m---------------------------------------------------------------------------\u001b[0m\n"
          ],
          "errorDetails": {
            "actions": [
              {
                "action": "open_url",
                "actionText": "Open Examples",
                "url": "/notebooks/snippets/importing_libraries.ipynb"
              }
            ]
          }
        }
      ]
    },
    {
      "cell_type": "markdown",
      "source": [
        "# colossus: https://bdiemer.bitbucket.io/colossus/lss_mass_function.html#lss.mass_function.massFunction"
      ],
      "metadata": {
        "id": "IzvMeenZl_ns"
      }
    },
    {
      "cell_type": "code",
      "source": [
        "#bocquet16 200c (universe critical density)\n",
        "#no below 10^14\n",
        "#tinker08\n"
      ],
      "metadata": {
        "id": "AS-qBpFFUCVB"
      },
      "execution_count": null,
      "outputs": []
    },
    {
      "cell_type": "code",
      "source": [
        "! pip install colossus"
      ],
      "metadata": {
        "colab": {
          "base_uri": "https://localhost:8080/"
        },
        "id": "-KmKsP4LmOHl",
        "outputId": "7dcc7e49-f580-4f2d-85eb-8897a13a4001"
      },
      "execution_count": null,
      "outputs": [
        {
          "output_type": "stream",
          "name": "stdout",
          "text": [
            "Looking in indexes: https://pypi.org/simple, https://us-python.pkg.dev/colab-wheels/public/simple/\n",
            "Collecting colossus\n",
            "  Downloading colossus-1.3.0-py2.py3-none-any.whl (197 kB)\n",
            "\u001b[K     |████████████████████████████████| 197 kB 8.2 MB/s \n",
            "\u001b[?25hInstalling collected packages: colossus\n",
            "Successfully installed colossus-1.3.0\n"
          ]
        }
      ]
    },
    {
      "cell_type": "code",
      "source": [
        "from colossus.cosmology import cosmology\n",
        "from colossus.lss import mass_function\n",
        "import matplotlib.pyplot as plt\n",
        "import numpy as np\n",
        "mass_array = np.logspace(14.0, 16.0, num = 200, base = 10)\n",
        "cosmology.setCosmology('WMAP9')\n",
        "mfunc = mass_function.massFunction(mass_array, 0.0, mdef = '200c', model = 'bocquet16', q_out = 'dndlnM')"
      ],
      "metadata": {
        "id": "ZQajFEDFmRnk"
      },
      "execution_count": null,
      "outputs": []
    },
    {
      "cell_type": "code",
      "source": [
        "plt.loglog(mass_array, mfunc)\n",
        "plt.xlabel(\"M [M⊙]\")\n",
        "plt.ylabel(\"dN/dln(M)v[$(Mpc/ℎ)^{−3}$]\")\n",
        "plt.title(\"halo mass function plot first attempt\")"
      ],
      "metadata": {
        "colab": {
          "base_uri": "https://localhost:8080/",
          "height": 317
        },
        "id": "27k9Ji7XnHMU",
        "outputId": "d30ff58f-b05a-4600-9904-65190687e7fb"
      },
      "execution_count": null,
      "outputs": [
        {
          "output_type": "execute_result",
          "data": {
            "text/plain": [
              "Text(0.5, 1.0, 'halo mass function plot first attempt')"
            ]
          },
          "metadata": {},
          "execution_count": 19
        },
        {
          "output_type": "display_data",
          "data": {
            "text/plain": [
              "<Figure size 432x288 with 1 Axes>"
            ],
            "image/png": "[encoded data removed]"
          },
          "metadata": {
            "needs_background": "light"
          }
        }
      ]
    }
  ]
}