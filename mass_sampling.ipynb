{
  "nbformat": 4,
  "nbformat_minor": 0,
  "metadata": {
    "colab": {
      "name": "mass_sampling.ipynb",
      "provenance": [],
      "authorship_tag": "ABX9TyPESxrHEniPbTKce4bj863R",
      "include_colab_link": true
    },
    "kernelspec": {
      "name": "python3",
      "display_name": "Python 3"
    },
    "language_info": {
      "name": "python"
    }
  },
  "cells": [
    {
      "cell_type": "markdown",
      "metadata": {
        "id": "view-in-github",
        "colab_type": "text"
      },
      "source": [
        "<a href=\"https://colab.research.google.com/github/deepskies/proj-clusters-sz-sbi/blob/sim_dev/mass_sampling.ipynb\" target=\"_parent\"><img src=\"https://colab.research.google.com/assets/colab-badge.svg\" alt=\"Open In Colab\"/></a>"
      ]
    },
    {
      "cell_type": "markdown",
      "source": [
        "# cluster toolkit: https://cluster-toolkit.readthedocs.io/en/latest/source/massfunction.html\n",
        "(give up and using colossus instead, see below)"
      ],
      "metadata": {
        "id": "R0NtlA-2lxiC"
      }
    },
    {
      "cell_type": "markdown",
      "source": [
        "# colossus: https://bdiemer.bitbucket.io/colossus/lss_mass_function.html#lss.mass_function.massFunction"
      ],
      "metadata": {
        "id": "IzvMeenZl_ns"
      }
    },
    {
      "cell_type": "code",
      "source": [
        "#bocquet16 200c (universe critical density)\n",
        "#no below 10^14"
      ],
      "metadata": {
        "id": "AS-qBpFFUCVB"
      },
      "execution_count": null,
      "outputs": []
    },
    {
      "cell_type": "code",
      "source": [
        "! pip install colossus"
      ],
      "metadata": {
        "colab": {
          "base_uri": "https://localhost:8080/"
        },
        "id": "-KmKsP4LmOHl",
        "outputId": "4a1a7d67-5836-49bc-8143-d3953ec6049c"
      },
      "execution_count": 87,
      "outputs": [
        {
          "output_type": "stream",
          "name": "stdout",
          "text": [
            "Looking in indexes: https://pypi.org/simple, https://us-python.pkg.dev/colab-wheels/public/simple/\n",
            "Requirement already satisfied: colossus in /usr/local/lib/python3.7/dist-packages (1.3.0)\n"
          ]
        }
      ]
    },
    {
      "cell_type": "code",
      "source": [
        "from colossus.cosmology import cosmology\n",
        "from colossus.lss import mass_function\n",
        "import matplotlib.pyplot as plt\n",
        "import numpy as np\n",
        "mass_array = np.logspace(14.0, 16.0, num = 200, base = 10)\n",
        "cosmology.setCosmology('WMAP9')\n",
        "mfunc = mass_function.massFunction(mass_array, 0.0, mdef = '200c', model = 'bocquet16', q_out = 'dndlnM')"
      ],
      "metadata": {
        "id": "ZQajFEDFmRnk",
        "colab": {
          "base_uri": "https://localhost:8080/"
        },
        "outputId": "4ff6d2e1-db19-4c2e-8df0-151880aec740"
      },
      "execution_count": 88,
      "outputs": [
        {
          "output_type": "stream",
          "name": "stdout",
          "text": [
            "Deleted outdated persistence file, no further action needed.\n"
          ]
        }
      ]
    },
    {
      "cell_type": "code",
      "source": [
        "plt.loglog(mass_array, mfunc)\n",
        "plt.xlabel(\"M [M⊙]\")\n",
        "plt.ylabel(\"dN/dln(M) [$(Mpc/ℎ)^{−3}$]\")\n",
        "plt.title(\"halo mass function plot first attempt\")"
      ],
      "metadata": {
        "colab": {
          "base_uri": "https://localhost:8080/",
          "height": 317
        },
        "id": "27k9Ji7XnHMU",
        "outputId": "8de3db22-ecf8-49e5-fe0f-a6f77656c2c7"
      },
      "execution_count": 89,
      "outputs": [
        {
          "output_type": "execute_result",
          "data": {
            "text/plain": [
              "Text(0.5, 1.0, 'halo mass function plot first attempt')"
            ]
          },
          "metadata": {},
          "execution_count": 89
        },
        {
          "output_type": "display_data",
          "data": {
            "text/plain": [
              "<Figure size 432x288 with 1 Axes>"
            ],
            "image/png": "[encoded data removed]"
          },
          "metadata": {
            "needs_background": "light"
          }
        }
      ]
    },
    {
      "cell_type": "code",
      "source": [
        "#transition from ln to log10\n",
        "#ln(number)= log(number)/log(2.71828)\n",
        "import math\n",
        "plt.loglog(mass_array, mfunc * math.log10(2.71828))\n",
        "plt.xlabel(\"M [M⊙]\")\n",
        "plt.ylabel(\"dN/dlog(M)v[$(Mpc/ℎ)^{−3}$]\")\n",
        "plt.title(\"halo mass function plot second attempt\")"
      ],
      "metadata": {
        "colab": {
          "base_uri": "https://localhost:8080/",
          "height": 317
        },
        "id": "5uiNCi6jFUzU",
        "outputId": "aad4a7e9-2d13-4b9b-b571-59465bdbd651"
      },
      "execution_count": 90,
      "outputs": [
        {
          "output_type": "execute_result",
          "data": {
            "text/plain": [
              "Text(0.5, 1.0, 'halo mass function plot second attempt')"
            ]
          },
          "metadata": {},
          "execution_count": 90
        },
        {
          "output_type": "display_data",
          "data": {
            "text/plain": [
              "<Figure size 432x288 with 1 Axes>"
            ],
            "image/png": "[encoded data removed]"
          },
          "metadata": {
            "needs_background": "light"
          }
        }
      ]
    },
    {
      "cell_type": "code",
      "source": [
        "#extract power\n",
        "from sklearn import preprocessing\n",
        "mass_array_p = np.log10(mass_array)\n",
        "mfunc_n = mfunc*(10**5)\n",
        "mfunc_p_n = preprocessing.normalize([mfunc_n], norm ='l1')\n",
        "plt.plot(mass_array_p, mfunc_n)"
      ],
      "metadata": {
        "colab": {
          "base_uri": "https://localhost:8080/",
          "height": 283
        },
        "id": "-WVUL-cLKF8H",
        "outputId": "18645e37-0238-42ff-f427-7a16507bb296"
      },
      "execution_count": 91,
      "outputs": [
        {
          "output_type": "execute_result",
          "data": {
            "text/plain": [
              "[<matplotlib.lines.Line2D at 0x7f7b3e407f10>]"
            ]
          },
          "metadata": {},
          "execution_count": 91
        },
        {
          "output_type": "display_data",
          "data": {
            "text/plain": [
              "<Figure size 432x288 with 1 Axes>"
            ],
            "image/png": "[encoded data removed]"
          },
          "metadata": {
            "needs_background": "light"
          }
        }
      ]
    },
    {
      "cell_type": "markdown",
      "source": [
        "sampling, using emcee and interp1d (still using ln as base)"
      ],
      "metadata": {
        "id": "3t4EVITpcueb"
      }
    },
    {
      "cell_type": "code",
      "source": [
        "from scipy import interpolate\n",
        "itp_mfunc = interpolate.interp1d(mass_array_p, mfunc_n)\n",
        "test_arr = np.linspace(14.0, 16.0, 20)\n",
        "f_test = itp_mfunc(test_arr)\n",
        "plt.plot(test_arr, f_test, marker = 'o')"
      ],
      "metadata": {
        "colab": {
          "base_uri": "https://localhost:8080/",
          "height": 283
        },
        "id": "0UfESKtgc0K7",
        "outputId": "f1fa2926-f254-4d7c-c487-a686f5273def"
      },
      "execution_count": 92,
      "outputs": [
        {
          "output_type": "execute_result",
          "data": {
            "text/plain": [
              "[<matplotlib.lines.Line2D at 0x7f7b3e3d7a10>]"
            ]
          },
          "metadata": {},
          "execution_count": 92
        },
        {
          "output_type": "display_data",
          "data": {
            "text/plain": [
              "<Figure size 432x288 with 1 Axes>"
            ],
            "image/png": "[encoded data removed]"
          },
          "metadata": {
            "needs_background": "light"
          }
        }
      ]
    },
    {
      "cell_type": "code",
      "source": [
        "#try to integrate and normalize the function\n",
        "from scipy import integrate\n",
        "val, err = integrate.quad(itp_mfunc, 14.0, 16.0)\n",
        "print(val, err)\n",
        "plt.plot(test_arr, (f_test/val), marker = 'o')\n",
        "\n",
        "test_fun = interpolate.interp1d(test_arr, (f_test/val))\n",
        "nval, nerr = integrate.quad(test_fun, 14.0, 16.0)\n",
        "print(nval, nerr)\n"
      ],
      "metadata": {
        "colab": {
          "base_uri": "https://localhost:8080/",
          "height": 497
        },
        "id": "vFYkoUnFJAis",
        "outputId": "6c055151-0404-46ca-aa50-de8fb7ede49e"
      },
      "execution_count": 93,
      "outputs": [
        {
          "output_type": "stream",
          "name": "stderr",
          "text": [
            "/usr/local/lib/python3.7/dist-packages/ipykernel_launcher.py:3: IntegrationWarning: The occurrence of roundoff error is detected, which prevents \n",
            "  the requested tolerance from being achieved.  The error may be \n",
            "  underestimated.\n",
            "  This is separate from the ipykernel package so we can avoid doing imports until\n",
            "/usr/local/lib/python3.7/dist-packages/ipykernel_launcher.py:8: IntegrationWarning: The maximum number of subdivisions (50) has been achieved.\n",
            "  If increasing the limit yields no improvement it is advised to analyze \n",
            "  the integrand in order to determine the difficulties.  If the position of a \n",
            "  local difficulty can be determined (singularity, discontinuity) one will \n",
            "  probably gain from splitting up the interval and calling the integrator \n",
            "  on the subranges.  Perhaps a special-purpose integrator should be used.\n",
            "  \n"
          ]
        },
        {
          "output_type": "stream",
          "name": "stdout",
          "text": [
            "0.6499258439203269 6.343752753259262e-06\n",
            "1.0101168273122976 1.9286923566896874e-05\n"
          ]
        },
        {
          "output_type": "display_data",
          "data": {
            "text/plain": [
              "<Figure size 432x288 with 1 Axes>"
            ],
            "image/png": "[encoded data removed]"
          },
          "metadata": {
            "needs_background": "light"
          }
        }
      ]
    },
    {
      "cell_type": "code",
      "source": [
        "print(-np.inf)"
      ],
      "metadata": {
        "colab": {
          "base_uri": "https://localhost:8080/"
        },
        "id": "cZjXCKkDXcba",
        "outputId": "88a654dc-9959-4103-b08b-1f4ad5747d2a"
      },
      "execution_count": 94,
      "outputs": [
        {
          "output_type": "stream",
          "name": "stdout",
          "text": [
            "-inf\n"
          ]
        }
      ]
    },
    {
      "cell_type": "code",
      "source": [
        "#the likelihood function, unable to get a perfect pdf, probably be the reason of wrong behavior\n",
        "def lnpo(mass):\n",
        "    if (mass < 14) or (mass > 16):\n",
        "      return -np.inf\n",
        "    return itp_mfunc(mass)"
      ],
      "metadata": {
        "id": "zFm_3mEqI_8T"
      },
      "execution_count": 168,
      "outputs": []
    },
    {
      "cell_type": "code",
      "source": [
        "!pip install emcee\n",
        "import emcee"
      ],
      "metadata": {
        "colab": {
          "base_uri": "https://localhost:8080/"
        },
        "id": "LNoRG3TnLRfI",
        "outputId": "c6596fc2-f7fb-472e-c72e-4424ea814314"
      },
      "execution_count": 169,
      "outputs": [
        {
          "output_type": "stream",
          "name": "stdout",
          "text": [
            "Looking in indexes: https://pypi.org/simple, https://us-python.pkg.dev/colab-wheels/public/simple/\n",
            "Requirement already satisfied: emcee in /usr/local/lib/python3.7/dist-packages (3.1.2)\n",
            "Requirement already satisfied: numpy in /usr/local/lib/python3.7/dist-packages (from emcee) (1.21.6)\n"
          ]
        }
      ]
    },
    {
      "cell_type": "code",
      "source": [
        "#code to demonstrate the final result\n",
        "def plot_pdf(xr, func=None, args=None, label='ITS method', \n",
        "             ylog=True,\n",
        "             bins = 50, xlims=[], ylims=[], figsize=3):\n",
        "    \"\"\"\n",
        "    by Andrey Kravtsov\n",
        "    wrapper convenience function for plotting  histogram of a sequence of floats xr\n",
        "    and comparing it to a theoretical distribution given by func\n",
        "    \n",
        "    Parameters:\n",
        "    -----------\n",
        "    xr: 1d numpy array of floats, values in the sequence to plot\n",
        "    func: Python function object handle\n",
        "    args: list of arguments to the function\n",
        "    other parameters are used for plotting\n",
        "    \"\"\"\n",
        "    plt.figure(figsize=(figsize,figsize))\n",
        "    if ylog: plt.yscale('log') # plot y-values on a logarithmic scale\n",
        "    if ylims: plt.ylim(ylims) # set axis limits \n",
        "    if xlims: plt.xlim(xlims)\n",
        "    # compute histogram values \n",
        "    hist, bins, patches = plt.hist(list(xr), density=True, bins=bins, label=label)\n",
        "    binc = 0.5*(bins[1:] + bins[:-1]) # compute bin centers\n",
        "    plt.plot(binc, func(binc), lw=5, c='orangered', label='target pdf')\n",
        "    plt.ylabel(r'$p(x)$') # label axis \n",
        "    plt.xlabel(r'$x$')\n",
        "    plt.legend(loc='best', frameon=False, fontsize=3*figsize)\n",
        "    plt.show()"
      ],
      "metadata": {
        "id": "b5r1rdQFeq0_"
      },
      "execution_count": 175,
      "outputs": []
    },
    {
      "cell_type": "code",
      "source": [
        "#create random walkers\n",
        "import random\n",
        "randomlist = []\n",
        "for i in range(20):\n",
        "  n = random.uniform(14,16)\n",
        "  randomlist.append(n)\n",
        "print(randomlist)\n",
        "random_arr = np.array(randomlist)"
      ],
      "metadata": {
        "colab": {
          "base_uri": "https://localhost:8080/"
        },
        "id": "tW8spWS1eQEw",
        "outputId": "e161a620-22b7-4389-cc83-5dd820ab2f96"
      },
      "execution_count": 161,
      "outputs": [
        {
          "output_type": "stream",
          "name": "stdout",
          "text": [
            "[15.59103640434291, 14.49718057134586, 14.466238074638479, 14.891271989116408, 14.27812208346382, 15.345954848756808, 15.522225074362415, 15.240242776943216, 15.205996958023002, 15.294795318425464, 14.453960827951796, 14.033061408917959, 14.402323950701193, 14.581325987967805, 15.763333291746594, 14.708640935558384, 14.747956783318276, 15.07638463657335, 15.790896695095356, 15.99451808349911]\n"
          ]
        }
      ]
    },
    {
      "cell_type": "code",
      "source": [
        "#run MCMC\n",
        "ndim, nwalkers = 1, 20\n",
        "\n",
        "p0 = random_arr.reshape((nwalkers, ndim))\n",
        "print(p0)\n",
        "sampler = emcee.EnsembleSampler(nwalkers, ndim, lnpo)\n",
        "sampler.run_mcmc(p0, 50000)\n",
        "chain = sampler.chain"
      ],
      "metadata": {
        "colab": {
          "base_uri": "https://localhost:8080/"
        },
        "id": "Kk0QGBu2MAW5",
        "outputId": "a1cfb7f2-e519-47d9-da53-79179b55629f"
      },
      "execution_count": 177,
      "outputs": [
        {
          "output_type": "stream",
          "name": "stdout",
          "text": [
            "[[15.5910364 ]\n",
            " [14.49718057]\n",
            " [14.46623807]\n",
            " [14.89127199]\n",
            " [14.27812208]\n",
            " [15.34595485]\n",
            " [15.52222507]\n",
            " [15.24024278]\n",
            " [15.20599696]\n",
            " [15.29479532]\n",
            " [14.45396083]\n",
            " [14.03306141]\n",
            " [14.40232395]\n",
            " [14.58132599]\n",
            " [15.76333329]\n",
            " [14.70864094]\n",
            " [14.74795678]\n",
            " [15.07638464]\n",
            " [15.7908967 ]\n",
            " [15.99451808]]\n"
          ]
        }
      ]
    },
    {
      "cell_type": "code",
      "source": [
        "flattened = chain.flatten()\n",
        "print(flattened[:20])\n"
      ],
      "metadata": {
        "colab": {
          "base_uri": "https://localhost:8080/"
        },
        "id": "pR8gE361cIIN",
        "outputId": "381b4083-a761-44b3-e190-3efbafc718af"
      },
      "execution_count": 171,
      "outputs": [
        {
          "output_type": "stream",
          "name": "stdout",
          "text": [
            "[15.36635324 14.88496885 15.34658726 15.2613303  15.26360676 15.19738763\n",
            " 15.24629236 15.83516375 15.86111488 15.86111488 15.21034357 15.10561211\n",
            " 14.79223711 14.51653344 14.60929913 14.59457885 14.50141807 14.89169346\n",
            " 14.91572556 14.89589867]\n"
          ]
        }
      ]
    },
    {
      "cell_type": "code",
      "source": [
        "plot_pdf(chain.flatten(), func=itp_mfunc, xlims=[14,16], ylog=False, bins='auto', label='GW10 MCMC', figsize = 10)"
      ],
      "metadata": {
        "colab": {
          "base_uri": "https://localhost:8080/",
          "height": 606
        },
        "id": "LCkcgYGXcdsR",
        "outputId": "da6df544-d9bc-4892-fb70-d25d3ae9786e"
      },
      "execution_count": 178,
      "outputs": [
        {
          "output_type": "display_data",
          "data": {
            "text/plain": [
              "<Figure size 720x720 with 1 Axes>"
            ],
            "image/png": "[encoded data removed]"
          },
          "metadata": {
            "needs_background": "light"
          }
        }
      ]
    }
  ]
}