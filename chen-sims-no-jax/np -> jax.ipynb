{
 "cells": [
  {
   "cell_type": "code",
   "execution_count": 6,
   "id": "b1c4c85e",
   "metadata": {},
   "outputs": [],
   "source": [
    "import jax, jax.numpy\n",
    "import numpy \n",
    "\n",
    "#jit\n",
    "\n",
    "USEJIT = True\n",
    "\n",
    "if USEJIT:\n",
    "   np = jax.numpy\n",
    "   block_until_ready = jax.block_until_ready\n",
    "else:\n",
    "   np = numpy\n",
    "   def block_until_ready(func):\n",
    "        return(func)\n",
    "\n",
    "def jit(func):\n",
    "   if not USEJIT: return(func)\n",
    "   return(jax.jit(func))\n",
    "\n",
    "#grad\n",
    "\n",
    "USEGRAD = True\n",
    "\n",
    "if USEGRAD: \n",
    "    grad = jax.grad\n",
    "    block_until_ready = jax.block_until_ready\n",
    "    \n",
    "else\n",
    "    grad = np.grad\n",
    "    def block_until_ready(func):\n",
    "        return(func)"
   ]
  },
  {
   "cell_type": "code",
   "execution_count": null,
   "id": "792f78f4",
   "metadata": {},
   "outputs": [],
   "source": []
  }
 ],
 "metadata": {
  "kernelspec": {
   "display_name": "Python 3",
   "language": "python",
   "name": "python3"
  },
  "language_info": {
   "codemirror_mode": {
    "name": "ipython",
    "version": 3
   },
   "file_extension": ".py",
   "mimetype": "text/x-python",
   "name": "python",
   "nbconvert_exporter": "python",
   "pygments_lexer": "ipython3",
   "version": "3.8.8"
  }
 },
 "nbformat": 4,
 "nbformat_minor": 5
}
